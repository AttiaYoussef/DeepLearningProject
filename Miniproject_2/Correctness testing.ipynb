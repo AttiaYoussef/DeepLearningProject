{
 "cells": [
  {
   "cell_type": "code",
   "execution_count": 19,
   "id": "b9d1d171-b5ee-464e-b587-98e8b0d9301a",
   "metadata": {},
   "outputs": [],
   "source": [
    "from others.module import *\n",
    "import torch\n",
    "import torch.nn as nn\n",
    "from torch.autograd import Variable"
   ]
  },
  {
   "cell_type": "code",
   "execution_count": 20,
   "id": "5e4b10d9-2e83-4902-a8c5-b1b3fad03603",
   "metadata": {},
   "outputs": [],
   "source": [
    "randomStuff = torch.rand(5, 3, 16, 16)"
   ]
  },
  {
   "cell_type": "markdown",
   "id": "3abcf682-2e5b-4cbc-bafb-f26ad5526dae",
   "metadata": {
    "tags": []
   },
   "source": [
    "# conv test"
   ]
  },
  {
   "cell_type": "code",
   "execution_count": 21,
   "id": "a454c149-4132-4b69-b565-4a0ec5cdbfa9",
   "metadata": {},
   "outputs": [],
   "source": [
    "kernel = 2\n",
    "stride = 3\n",
    "padding = 1\n",
    "in_channels = 3\n",
    "out_channels =48\n",
    "randomStuff = torch.rand(10, in_channels, 25, 25)\n",
    "ourConv = Conv2d(in_channels, out_channels, kernel, stride, padding)\n",
    "torchConv = nn.Conv2d(in_channels, out_channels, kernel, stride, padding)"
   ]
  },
  {
   "cell_type": "code",
   "execution_count": 22,
   "id": "a0991cfd-1110-4ba8-86cf-fdbe724cedf2",
   "metadata": {},
   "outputs": [],
   "source": [
    "\n",
    "ourConv.weights = torchConv.weight\n",
    "ourConv.bias = torchConv.bias"
   ]
  },
  {
   "cell_type": "code",
   "execution_count": null,
   "id": "2baa2ffe-7fcc-4286-b018-27037f032ed4",
   "metadata": {},
   "outputs": [],
   "source": []
  },
  {
   "cell_type": "code",
   "execution_count": 23,
   "id": "079de2cd-3cb7-4e95-85ad-9ed0482a2d1d",
   "metadata": {},
   "outputs": [],
   "source": [
    "ourOutput = ourConv.forward(randomStuff)\n",
    "torchOutput = torchConv(randomStuff)\n",
    "torch.testing.assert_allclose(torchOutput, ourOutput)"
   ]
  },
  {
   "cell_type": "code",
   "execution_count": 24,
   "id": "33a05cd0",
   "metadata": {},
   "outputs": [],
   "source": [
    "x=Variable(randomStuff,requires_grad=True)\n",
    "x2=Variable(x*1.0,requires_grad=True)"
   ]
  },
  {
   "cell_type": "code",
   "execution_count": 25,
   "id": "a4d55983",
   "metadata": {},
   "outputs": [],
   "source": [
    "x.grad"
   ]
  },
  {
   "cell_type": "code",
   "execution_count": 26,
   "id": "72a35bd5",
   "metadata": {},
   "outputs": [],
   "source": [
    "o=ourConv.forward(x2)"
   ]
  },
  {
   "cell_type": "code",
   "execution_count": 27,
   "id": "11441f2a",
   "metadata": {},
   "outputs": [],
   "source": [
    "p=torchConv(x)"
   ]
  },
  {
   "cell_type": "code",
   "execution_count": 28,
   "id": "eee6ffc7-eac5-47e1-9440-164c53932b98",
   "metadata": {},
   "outputs": [],
   "source": [
    "grdw=torch.rand(p.shape)"
   ]
  },
  {
   "cell_type": "code",
   "execution_count": null,
   "id": "ca3c09fc-92f5-469e-99b4-8529cad40500",
   "metadata": {},
   "outputs": [],
   "source": []
  },
  {
   "cell_type": "code",
   "execution_count": null,
   "id": "df99ad70-29ed-476d-bb85-98b273947563",
   "metadata": {},
   "outputs": [],
   "source": []
  },
  {
   "cell_type": "code",
   "execution_count": null,
   "id": "588c754b-b2cc-441b-a4e6-6abf6d1a8611",
   "metadata": {},
   "outputs": [],
   "source": []
  },
  {
   "cell_type": "code",
   "execution_count": 29,
   "id": "aad03dd5",
   "metadata": {},
   "outputs": [],
   "source": [
    "\n",
    "\n",
    "p.backward(grdw)"
   ]
  },
  {
   "cell_type": "code",
   "execution_count": null,
   "id": "93c4f815",
   "metadata": {},
   "outputs": [],
   "source": []
  },
  {
   "cell_type": "code",
   "execution_count": null,
   "id": "9a55d9ab-6669-4945-bd3a-c9dd814b7f29",
   "metadata": {},
   "outputs": [],
   "source": []
  },
  {
   "cell_type": "code",
   "execution_count": 30,
   "id": "e9d6971e-e754-461b-9c6c-b223b09509c3",
   "metadata": {},
   "outputs": [],
   "source": [
    "a=ourConv.backward(grdw)"
   ]
  },
  {
   "cell_type": "code",
   "execution_count": 31,
   "id": "dd0a571f-bcd3-4158-84c8-fe0e8d6950d8",
   "metadata": {},
   "outputs": [],
   "source": [
    "torch.testing.assert_allclose(a, x.grad)"
   ]
  },
  {
   "cell_type": "code",
   "execution_count": null,
   "id": "e6b8d207-b177-474a-9f7f-64a11be62e3e",
   "metadata": {},
   "outputs": [],
   "source": []
  },
  {
   "cell_type": "code",
   "execution_count": 32,
   "id": "7bf5aa4e-2e8b-4be5-bc55-11c4bbc0f55c",
   "metadata": {},
   "outputs": [],
   "source": [
    "torch.testing.assert_allclose(torchConv.weight.grad,ourConv.dweights)\n"
   ]
  },
  {
   "cell_type": "code",
   "execution_count": 33,
   "id": "b3da9cdc-eeac-4c90-aa74-e1a121917aa9",
   "metadata": {},
   "outputs": [],
   "source": [
    "torch.testing.assert_allclose(torchConv.bias.grad,ourConv.dbias)"
   ]
  },
  {
   "cell_type": "code",
   "execution_count": 35,
   "id": "7be9af3d-eead-4fdf-be62-39f22f2ae7e9",
   "metadata": {},
   "outputs": [
    {
     "data": {
      "text/plain": [
       "tensor([417.8065, 402.0136, 402.9307, 396.2509, 428.6507, 409.7196, 394.5825,\n",
       "        410.5635, 412.7366, 407.8360, 405.2646, 407.4084, 401.7672, 402.5669,\n",
       "        400.5905, 397.1891, 407.7005, 387.9539, 391.0354, 401.2856, 389.5426,\n",
       "        405.0171, 421.5373, 407.3176, 401.0757, 413.8104, 407.7632, 400.5075,\n",
       "        385.0281, 406.4738, 399.6791, 411.9471, 401.3462, 410.1255, 399.9250,\n",
       "        402.8688, 394.9614, 404.8026, 407.2644, 416.3716, 401.6061, 397.4891,\n",
       "        400.5943, 403.0455, 406.2382, 405.8355, 393.1065, 405.1621])"
      ]
     },
     "execution_count": 35,
     "metadata": {},
     "output_type": "execute_result"
    }
   ],
   "source": [
    "torchConv.bias.grad"
   ]
  },
  {
   "cell_type": "code",
   "execution_count": 34,
   "id": "c6e1bb0c-b0fb-4cc9-97a5-7035c784c7ed",
   "metadata": {},
   "outputs": [
    {
     "data": {
      "text/plain": [
       "tensor([417.8066, 402.0137, 402.9308, 396.2509, 428.6508, 409.7197, 394.5824,\n",
       "        410.5634, 412.7368, 407.8359, 405.2647, 407.4084, 401.7672, 402.5669,\n",
       "        400.5906, 397.1893, 407.7006, 387.9539, 391.0354, 401.2855, 389.5424,\n",
       "        405.0171, 421.5372, 407.3176, 401.0758, 413.8102, 407.7631, 400.5074,\n",
       "        385.0281, 406.4738, 399.6792, 411.9472, 401.3464, 410.1255, 399.9251,\n",
       "        402.8688, 394.9614, 404.8026, 407.2645, 416.3716, 401.6061, 397.4892,\n",
       "        400.5943, 403.0456, 406.2380, 405.8353, 393.1066, 405.1621])"
      ]
     },
     "execution_count": 34,
     "metadata": {},
     "output_type": "execute_result"
    }
   ],
   "source": [
    "ourConv.dbias"
   ]
  },
  {
   "cell_type": "markdown",
   "id": "6c248653-5854-4e41-8c62-5de1d68f5396",
   "metadata": {
    "tags": []
   },
   "source": [
    "# upsample test"
   ]
  },
  {
   "cell_type": "code",
   "execution_count": 3,
   "id": "8edb7405-f92b-4a2f-8ac4-e1d76960285b",
   "metadata": {},
   "outputs": [],
   "source": [
    "scale_factor = 2\n",
    "loss=nn.MSELoss()\n",
    "ourUpsample = NearestUpsampling(scale_factor=scale_factor)\n",
    "torchUpsample = nn.Upsample(scale_factor = scale_factor)"
   ]
  },
  {
   "cell_type": "code",
   "execution_count": 8,
   "id": "422a04dc-b614-4b6e-876f-7a0ee662e619",
   "metadata": {},
   "outputs": [],
   "source": [
    "ourOutput = ourUpsample.forward(randomStuff)\n",
    "torchOutput = torchUpsample(randomStuff)\n",
    "torch.testing.assert_allclose(torchOutput, ourOutput)"
   ]
  },
  {
   "cell_type": "code",
   "execution_count": 5,
   "id": "0b24661e",
   "metadata": {},
   "outputs": [],
   "source": [
    "x=Variable(torch.rand(5*3*16).view((5,3,4,4))*1.0,requires_grad=True)"
   ]
  },
  {
   "cell_type": "code",
   "execution_count": 6,
   "id": "2726980d",
   "metadata": {},
   "outputs": [],
   "source": [
    "outp=torch.rand(5*3*8*8).view(5,3,8,8)"
   ]
  },
  {
   "cell_type": "code",
   "execution_count": 7,
   "id": "daa5c7e0-0c13-49b8-b2be-e29b06ac9d3b",
   "metadata": {},
   "outputs": [],
   "source": [
    "grdout=torch.rand_like(torchUpsample(x))"
   ]
  },
  {
   "cell_type": "code",
   "execution_count": 23,
   "id": "4bf005a3-2ab7-44b4-8bb4-ed9529b435e7",
   "metadata": {},
   "outputs": [],
   "source": [
    "from torch.autograd import Variable"
   ]
  },
  {
   "cell_type": "code",
   "execution_count": 9,
   "id": "fbd19adb-140b-4ce3-a155-013b2f220cbc",
   "metadata": {},
   "outputs": [],
   "source": [
    "torchUpsample(x).backward(grdout)"
   ]
  },
  {
   "cell_type": "code",
   "execution_count": 12,
   "id": "85d565a3",
   "metadata": {},
   "outputs": [],
   "source": [
    "torch.testing.assert_allclose(ourUpsample.backward(grdout),x.grad)"
   ]
  },
  {
   "cell_type": "code",
   "execution_count": null,
   "id": "ccce5bcb-583f-4122-83fc-057d9119fa77",
   "metadata": {},
   "outputs": [],
   "source": []
  },
  {
   "cell_type": "code",
   "execution_count": null,
   "id": "8307e71b-3b95-41ed-8f93-19aafb2eefaf",
   "metadata": {},
   "outputs": [],
   "source": []
  },
  {
   "cell_type": "markdown",
   "id": "8b715681-14cb-46da-935a-607bd05eaaba",
   "metadata": {
    "jp-MarkdownHeadingCollapsed": true,
    "tags": []
   },
   "source": [
    "# MSE test"
   ]
  },
  {
   "cell_type": "code",
   "execution_count": 60,
   "id": "9655e1f8-9d93-471e-a225-9ec864e09b48",
   "metadata": {},
   "outputs": [],
   "source": [
    "ourMSE = MSE()\n",
    "torchMSE = nn.MSELoss()"
   ]
  },
  {
   "cell_type": "code",
   "execution_count": 61,
   "id": "66b756bc-cf95-4d88-8691-0c584b8b1d2a",
   "metadata": {},
   "outputs": [],
   "source": [
    "x=Variable(randomStuff,requires_grad=True)"
   ]
  },
  {
   "cell_type": "code",
   "execution_count": null,
   "id": "f2bfbba8-1023-4ca6-bf26-76c74ddc9042",
   "metadata": {},
   "outputs": [],
   "source": []
  },
  {
   "cell_type": "code",
   "execution_count": 62,
   "id": "cd4545de-0527-4487-9bb1-e2d48adf185f",
   "metadata": {},
   "outputs": [],
   "source": [
    "ourOutput = ourMSE.forward(x, torch.zeros_like(x))\n",
    "torchOutput = torchMSE(x, torch.zeros_like(x))\n",
    "torch.testing.assert_allclose(torchOutput, ourOutput)"
   ]
  },
  {
   "cell_type": "code",
   "execution_count": 63,
   "id": "26c78533-d9be-4aaa-bbb7-39b70769efae",
   "metadata": {},
   "outputs": [],
   "source": [
    "#test not written correctly\n",
    "ourBackward = ourMSE.backward()\n",
    "torchBackward = torchOutput.backward()\n",
    "torch.testing.assert_allclose(x.grad, ourBackward)"
   ]
  },
  {
   "cell_type": "code",
   "execution_count": null,
   "id": "a40131d2-45b3-4583-9a61-24c9f8d94230",
   "metadata": {},
   "outputs": [],
   "source": []
  },
  {
   "cell_type": "code",
   "execution_count": null,
   "id": "1c644a6d-2752-4178-9bb4-f8ae4324bb00",
   "metadata": {},
   "outputs": [],
   "source": []
  },
  {
   "cell_type": "markdown",
   "id": "30d766c0-7172-4b5d-989e-b6655e715781",
   "metadata": {
    "tags": []
   },
   "source": [
    "# ReLu test"
   ]
  },
  {
   "cell_type": "code",
   "execution_count": 97,
   "id": "749800ce-cfb0-44c7-82f2-bfb108103bed",
   "metadata": {},
   "outputs": [],
   "source": [
    "ourReLU = ReLU()\n",
    "torchReLU = nn.ReLU()\n",
    "x=Variable(randomStuff,requires_grad=True)"
   ]
  },
  {
   "cell_type": "code",
   "execution_count": 98,
   "id": "48098f79-a704-4332-aa80-c1f58e6acc9b",
   "metadata": {},
   "outputs": [],
   "source": [
    "ourOutput = ourReLU.forward(x)\n",
    "torchOutput = torchReLU(x)\n",
    "torch.testing.assert_allclose(torchOutput, ourOutput)"
   ]
  },
  {
   "cell_type": "code",
   "execution_count": 99,
   "id": "29889039-822c-47ea-9d28-7017914f8497",
   "metadata": {},
   "outputs": [],
   "source": [
    "grdout=torch.rand_like(x)"
   ]
  },
  {
   "cell_type": "code",
   "execution_count": 104,
   "id": "379e1eb5-3377-4a25-9f99-ffa0b7b831a2",
   "metadata": {},
   "outputs": [
    {
     "data": {
      "text/plain": [
       "torch.Size([10, 3, 25, 25])"
      ]
     },
     "execution_count": 104,
     "metadata": {},
     "output_type": "execute_result"
    }
   ],
   "source": [
    "grdout.shape"
   ]
  },
  {
   "cell_type": "code",
   "execution_count": 100,
   "id": "ae596b95-0e54-4b19-9d8a-999e30bd1392",
   "metadata": {},
   "outputs": [],
   "source": [
    "torchOutput.backward(grdout)"
   ]
  },
  {
   "cell_type": "code",
   "execution_count": 101,
   "id": "1dfe04cb-f76c-4fe3-bec8-70e670f02351",
   "metadata": {},
   "outputs": [],
   "source": [
    "torch.testing.assert_allclose(ourReLU.backward(grdout),x.grad)"
   ]
  },
  {
   "cell_type": "code",
   "execution_count": 102,
   "id": "6a3f8c56-4c15-4985-aab0-31643ac76e46",
   "metadata": {},
   "outputs": [
    {
     "data": {
      "text/plain": [
       "torch.Size([10, 3, 25, 25])"
      ]
     },
     "execution_count": 102,
     "metadata": {},
     "output_type": "execute_result"
    }
   ],
   "source": [
    "ourReLU.backward(grdout).shape"
   ]
  },
  {
   "cell_type": "markdown",
   "id": "0bba15b0-8dbc-44d6-bb76-c54eb2e96727",
   "metadata": {
    "tags": []
   },
   "source": [
    "# sigmoid test"
   ]
  },
  {
   "cell_type": "code",
   "execution_count": 107,
   "id": "eb1df783-5501-4cd1-bfc0-d64a4db9c074",
   "metadata": {},
   "outputs": [],
   "source": [
    "ourSigmoid = Sigmoid()\n",
    "torchSigmoid = nn.Sigmoid()\n",
    "x=Variable(randomStuff,requires_grad=True)\n",
    "grdout=torch.rand_like(x)"
   ]
  },
  {
   "cell_type": "code",
   "execution_count": 108,
   "id": "4d120a4f-8d2e-44a5-8b49-b0ca418142a1",
   "metadata": {},
   "outputs": [],
   "source": [
    "ourOutput = ourSigmoid.forward(x)\n",
    "torchOutput = torchSigmoid(x)\n",
    "torch.testing.assert_allclose(torchOutput, ourOutput)"
   ]
  },
  {
   "cell_type": "code",
   "execution_count": 109,
   "id": "8bfe8c3d-d44e-4559-9d05-312224cec7a6",
   "metadata": {},
   "outputs": [
    {
     "data": {
      "text/plain": [
       "torch.Size([10, 3, 25, 25])"
      ]
     },
     "execution_count": 109,
     "metadata": {},
     "output_type": "execute_result"
    }
   ],
   "source": [
    "grdout.shape"
   ]
  },
  {
   "cell_type": "code",
   "execution_count": 110,
   "id": "4dc1e3bd-0e92-48d5-bdf9-2b4a1e6e9171",
   "metadata": {},
   "outputs": [],
   "source": [
    "torchOutput.backward(grdout)"
   ]
  },
  {
   "cell_type": "code",
   "execution_count": 111,
   "id": "b3081531-615f-4cb1-a04b-a6a2ea6a6dc5",
   "metadata": {},
   "outputs": [],
   "source": [
    "torch.testing.assert_allclose(ourSigmoid.backward(grdout),x.grad)"
   ]
  },
  {
   "cell_type": "code",
   "execution_count": 112,
   "id": "df394e45-1fd7-4edb-ac7d-0c1bed389c13",
   "metadata": {},
   "outputs": [
    {
     "data": {
      "text/plain": [
       "torch.Size([10, 3, 25, 25])"
      ]
     },
     "execution_count": 112,
     "metadata": {},
     "output_type": "execute_result"
    }
   ],
   "source": [
    "ourSigmoid.backward(grdout).shape"
   ]
  },
  {
   "cell_type": "markdown",
   "id": "68f19fa7-7383-4f16-a763-f8a13216f464",
   "metadata": {
    "tags": []
   },
   "source": [
    "# Sequential test"
   ]
  },
  {
   "cell_type": "code",
   "execution_count": 8,
   "id": "28170a84-9855-4deb-9215-21e2e496190e",
   "metadata": {},
   "outputs": [],
   "source": [
    "ourSequential = Sequential(ourConv, ReLU(), Sigmoid())\n",
    "torchSequential = nn.Sequential( torchConv, nn.ReLU(), nn.Sigmoid())\n",
    "x=Variable(randomStuff,requires_grad=True)"
   ]
  },
  {
   "cell_type": "code",
   "execution_count": 28,
   "id": "6b11ca94-56d5-40f5-b80d-835f310403b7",
   "metadata": {},
   "outputs": [],
   "source": [
    "ourSequential = Sequential(ourConv)\n",
    "torchSequential = nn.Sequential( torchConv)\n",
    "x=Variable(randomStuff,requires_grad=True)"
   ]
  },
  {
   "cell_type": "code",
   "execution_count": 9,
   "id": "2f0efa55-2d8c-40e2-a8e5-df4c570b51f8",
   "metadata": {},
   "outputs": [],
   "source": [
    "ourOutput = ourSequential.forward(x)\n",
    "torchOutput = torchSequential(x)\n",
    "torch.testing.assert_allclose(torchOutput, ourOutput)"
   ]
  },
  {
   "cell_type": "code",
   "execution_count": 10,
   "id": "09e6253a-b081-4994-a7cc-2ccf0caf94a4",
   "metadata": {},
   "outputs": [],
   "source": [
    "grdout=torch.rand_like(ourOutput)"
   ]
  },
  {
   "cell_type": "code",
   "execution_count": 11,
   "id": "c6883b3e-b82a-4b0a-8cee-61eae4c310fe",
   "metadata": {},
   "outputs": [],
   "source": [
    "torchOutput.backward(grdout)"
   ]
  },
  {
   "cell_type": "code",
   "execution_count": 12,
   "id": "9daf2e73-63b9-4ec9-a7e4-50fb7eed5ac4",
   "metadata": {},
   "outputs": [
    {
     "data": {
      "text/plain": [
       "torch.Size([10, 48, 9, 9])"
      ]
     },
     "execution_count": 12,
     "metadata": {},
     "output_type": "execute_result"
    }
   ],
   "source": [
    "grdout.shape"
   ]
  },
  {
   "cell_type": "code",
   "execution_count": 13,
   "id": "b87582dc-d0f0-4432-8637-29b4c5bea58c",
   "metadata": {},
   "outputs": [
    {
     "name": "stdout",
     "output_type": "stream",
     "text": [
      "torch.Size([48, 9, 9])\n",
      "torch.Size([48, 9, 9])\n",
      "torch.Size([48, 9, 9])\n"
     ]
    }
   ],
   "source": [
    "ourSequential.backward(grdout)"
   ]
  },
  {
   "cell_type": "code",
   "execution_count": 14,
   "id": "8070166a-1e00-420c-a49c-79ab69633ec5",
   "metadata": {},
   "outputs": [],
   "source": [
    "stuff=ourConv.dweights"
   ]
  },
  {
   "cell_type": "code",
   "execution_count": 17,
   "id": "1475ec4d-472e-447d-8d95-a3fe06db7a2b",
   "metadata": {},
   "outputs": [],
   "source": [
    "torch.testing.assert_allclose(torchConv.weight.grad,stuff)"
   ]
  },
  {
   "cell_type": "code",
   "execution_count": 18,
   "id": "91c767f3-f627-4caf-8ed8-69ea87bfe282",
   "metadata": {},
   "outputs": [],
   "source": [
    "torch.testing.assert_allclose(torchConv.bias.grad,ourConv.dbias)"
   ]
  },
  {
   "cell_type": "code",
   "execution_count": 16,
   "id": "f02b4f17-f4b9-43b2-be10-c813de6e3982",
   "metadata": {},
   "outputs": [
    {
     "data": {
      "text/plain": [
       "tensor([[[[1.0000, 1.0000],\n",
       "          [1.0000, 1.0000]],\n",
       "\n",
       "         [[1.0000, 1.0000],\n",
       "          [1.0000, 1.0000]],\n",
       "\n",
       "         [[1.0000, 1.0000],\n",
       "          [1.0000, 1.0000]]],\n",
       "\n",
       "\n",
       "        [[[1.0000, 1.0000],\n",
       "          [1.0000, 1.0000]],\n",
       "\n",
       "         [[1.0000, 1.0000],\n",
       "          [1.0000, 1.0000]],\n",
       "\n",
       "         [[1.0000, 1.0000],\n",
       "          [1.0000, 1.0000]]],\n",
       "\n",
       "\n",
       "        [[[1.0000, 1.0000],\n",
       "          [1.0000, 1.0000]],\n",
       "\n",
       "         [[1.0000, 1.0000],\n",
       "          [1.0000, 1.0000]],\n",
       "\n",
       "         [[1.0000, 1.0000],\n",
       "          [1.0000, 1.0000]]],\n",
       "\n",
       "\n",
       "        [[[1.0000, 1.0000],\n",
       "          [1.0000, 1.0000]],\n",
       "\n",
       "         [[1.0000, 1.0000],\n",
       "          [1.0000, 1.0000]],\n",
       "\n",
       "         [[1.0000, 1.0000],\n",
       "          [1.0000, 1.0000]]],\n",
       "\n",
       "\n",
       "        [[[1.0000, 1.0000],\n",
       "          [1.0000, 1.0000]],\n",
       "\n",
       "         [[1.0000, 1.0000],\n",
       "          [1.0000, 1.0000]],\n",
       "\n",
       "         [[1.0000, 1.0000],\n",
       "          [1.0000, 1.0000]]],\n",
       "\n",
       "\n",
       "        [[[1.0000, 1.0000],\n",
       "          [1.0000, 1.0000]],\n",
       "\n",
       "         [[1.0000, 1.0000],\n",
       "          [1.0000, 1.0000]],\n",
       "\n",
       "         [[1.0000, 1.0000],\n",
       "          [1.0000, 1.0000]]],\n",
       "\n",
       "\n",
       "        [[[1.0000, 1.0000],\n",
       "          [1.0000, 1.0000]],\n",
       "\n",
       "         [[1.0000, 1.0000],\n",
       "          [1.0000, 1.0000]],\n",
       "\n",
       "         [[1.0000, 1.0000],\n",
       "          [1.0000, 1.0000]]],\n",
       "\n",
       "\n",
       "        [[[1.0000, 1.0000],\n",
       "          [1.0000, 1.0000]],\n",
       "\n",
       "         [[1.0000, 1.0000],\n",
       "          [1.0000, 1.0000]],\n",
       "\n",
       "         [[1.0000, 1.0000],\n",
       "          [1.0000, 1.0000]]],\n",
       "\n",
       "\n",
       "        [[[1.0000, 1.0000],\n",
       "          [1.0000, 1.0000]],\n",
       "\n",
       "         [[1.0000, 1.0000],\n",
       "          [1.0000, 1.0000]],\n",
       "\n",
       "         [[1.0000, 1.0000],\n",
       "          [1.0000, 1.0000]]],\n",
       "\n",
       "\n",
       "        [[[1.0000, 1.0000],\n",
       "          [1.0000, 1.0000]],\n",
       "\n",
       "         [[1.0000, 1.0000],\n",
       "          [1.0000, 1.0000]],\n",
       "\n",
       "         [[1.0000, 1.0000],\n",
       "          [1.0000, 1.0000]]],\n",
       "\n",
       "\n",
       "        [[[   nan,    nan],\n",
       "          [   nan,    nan]],\n",
       "\n",
       "         [[   nan,    nan],\n",
       "          [   nan,    nan]],\n",
       "\n",
       "         [[   nan,    nan],\n",
       "          [   nan,    nan]]],\n",
       "\n",
       "\n",
       "        [[[1.0000, 1.0000],\n",
       "          [1.0000, 1.0000]],\n",
       "\n",
       "         [[1.0000, 1.0000],\n",
       "          [1.0000, 1.0000]],\n",
       "\n",
       "         [[1.0000, 1.0000],\n",
       "          [1.0000, 1.0000]]],\n",
       "\n",
       "\n",
       "        [[[1.0000, 1.0000],\n",
       "          [1.0000, 1.0000]],\n",
       "\n",
       "         [[1.0000, 1.0000],\n",
       "          [1.0000, 1.0000]],\n",
       "\n",
       "         [[1.0000, 1.0000],\n",
       "          [1.0000, 1.0000]]],\n",
       "\n",
       "\n",
       "        [[[1.0000, 1.0000],\n",
       "          [1.0000, 1.0000]],\n",
       "\n",
       "         [[1.0000, 1.0000],\n",
       "          [1.0000, 1.0000]],\n",
       "\n",
       "         [[1.0000, 1.0000],\n",
       "          [1.0000, 1.0000]]],\n",
       "\n",
       "\n",
       "        [[[1.0000, 1.0000],\n",
       "          [1.0000, 1.0000]],\n",
       "\n",
       "         [[1.0000, 1.0000],\n",
       "          [1.0000, 1.0000]],\n",
       "\n",
       "         [[1.0000, 1.0000],\n",
       "          [1.0000, 1.0000]]],\n",
       "\n",
       "\n",
       "        [[[1.0000, 1.0000],\n",
       "          [1.0000, 1.0000]],\n",
       "\n",
       "         [[1.0000, 1.0000],\n",
       "          [1.0000, 1.0000]],\n",
       "\n",
       "         [[1.0000, 1.0000],\n",
       "          [1.0000, 1.0000]]],\n",
       "\n",
       "\n",
       "        [[[   nan,    nan],\n",
       "          [   nan,    nan]],\n",
       "\n",
       "         [[   nan,    nan],\n",
       "          [   nan,    nan]],\n",
       "\n",
       "         [[   nan,    nan],\n",
       "          [   nan,    nan]]],\n",
       "\n",
       "\n",
       "        [[[1.0000, 1.0000],\n",
       "          [1.0000, 1.0000]],\n",
       "\n",
       "         [[1.0000, 1.0000],\n",
       "          [1.0000, 1.0000]],\n",
       "\n",
       "         [[1.0000, 1.0000],\n",
       "          [1.0000, 1.0000]]],\n",
       "\n",
       "\n",
       "        [[[1.0000, 1.0000],\n",
       "          [1.0000, 1.0000]],\n",
       "\n",
       "         [[1.0000, 1.0000],\n",
       "          [1.0000, 1.0000]],\n",
       "\n",
       "         [[1.0000, 1.0000],\n",
       "          [1.0000, 1.0000]]],\n",
       "\n",
       "\n",
       "        [[[1.0000, 1.0000],\n",
       "          [1.0000, 1.0000]],\n",
       "\n",
       "         [[1.0000, 1.0000],\n",
       "          [1.0000, 1.0000]],\n",
       "\n",
       "         [[1.0000, 1.0000],\n",
       "          [1.0000, 1.0000]]],\n",
       "\n",
       "\n",
       "        [[[1.0000, 1.0000],\n",
       "          [1.0000, 1.0000]],\n",
       "\n",
       "         [[1.0000, 1.0000],\n",
       "          [1.0000, 1.0000]],\n",
       "\n",
       "         [[1.0000, 1.0000],\n",
       "          [1.0000, 1.0000]]],\n",
       "\n",
       "\n",
       "        [[[   nan,    nan],\n",
       "          [   nan,    nan]],\n",
       "\n",
       "         [[   nan,    nan],\n",
       "          [   nan,    nan]],\n",
       "\n",
       "         [[   nan,    nan],\n",
       "          [   nan,    nan]]],\n",
       "\n",
       "\n",
       "        [[[1.0000, 1.0000],\n",
       "          [1.0000, 1.0000]],\n",
       "\n",
       "         [[1.0000, 1.0000],\n",
       "          [1.0000, 1.0000]],\n",
       "\n",
       "         [[1.0000, 1.0000],\n",
       "          [1.0000, 1.0000]]],\n",
       "\n",
       "\n",
       "        [[[1.0000, 1.0000],\n",
       "          [1.0000, 1.0000]],\n",
       "\n",
       "         [[1.0000, 1.0000],\n",
       "          [1.0000, 1.0000]],\n",
       "\n",
       "         [[1.0000, 1.0000],\n",
       "          [1.0000, 1.0000]]],\n",
       "\n",
       "\n",
       "        [[[1.0000, 1.0000],\n",
       "          [1.0000, 1.0000]],\n",
       "\n",
       "         [[1.0000, 1.0000],\n",
       "          [1.0000, 1.0000]],\n",
       "\n",
       "         [[1.0000, 1.0000],\n",
       "          [1.0000, 1.0000]]],\n",
       "\n",
       "\n",
       "        [[[1.0000, 1.0000],\n",
       "          [1.0000, 1.0000]],\n",
       "\n",
       "         [[1.0000, 1.0000],\n",
       "          [1.0000, 1.0000]],\n",
       "\n",
       "         [[1.0000, 1.0000],\n",
       "          [1.0000, 1.0000]]],\n",
       "\n",
       "\n",
       "        [[[1.0000, 1.0000],\n",
       "          [1.0000, 1.0000]],\n",
       "\n",
       "         [[1.0000, 1.0000],\n",
       "          [1.0000, 1.0000]],\n",
       "\n",
       "         [[1.0000, 1.0000],\n",
       "          [1.0000, 1.0000]]],\n",
       "\n",
       "\n",
       "        [[[1.0000, 1.0000],\n",
       "          [1.0000, 1.0000]],\n",
       "\n",
       "         [[1.0000, 1.0000],\n",
       "          [1.0000, 1.0000]],\n",
       "\n",
       "         [[1.0000, 1.0000],\n",
       "          [1.0000, 1.0000]]],\n",
       "\n",
       "\n",
       "        [[[1.0000, 1.0000],\n",
       "          [1.0000, 1.0000]],\n",
       "\n",
       "         [[1.0000, 1.0000],\n",
       "          [1.0000, 1.0000]],\n",
       "\n",
       "         [[1.0000, 1.0000],\n",
       "          [1.0000, 1.0000]]],\n",
       "\n",
       "\n",
       "        [[[1.0000, 1.0000],\n",
       "          [1.0000, 1.0000]],\n",
       "\n",
       "         [[1.0000, 1.0000],\n",
       "          [1.0000, 1.0000]],\n",
       "\n",
       "         [[1.0000, 1.0000],\n",
       "          [1.0000, 1.0000]]],\n",
       "\n",
       "\n",
       "        [[[1.0000, 1.0000],\n",
       "          [1.0000, 1.0000]],\n",
       "\n",
       "         [[1.0000, 1.0000],\n",
       "          [1.0000, 1.0000]],\n",
       "\n",
       "         [[1.0000, 1.0000],\n",
       "          [1.0000, 1.0000]]],\n",
       "\n",
       "\n",
       "        [[[1.0000, 1.0000],\n",
       "          [1.0000, 1.0000]],\n",
       "\n",
       "         [[1.0000, 1.0000],\n",
       "          [1.0000, 1.0000]],\n",
       "\n",
       "         [[1.0000, 1.0000],\n",
       "          [1.0000, 1.0000]]],\n",
       "\n",
       "\n",
       "        [[[1.0000, 1.0000],\n",
       "          [1.0000, 1.0000]],\n",
       "\n",
       "         [[1.0000, 1.0000],\n",
       "          [1.0000, 1.0000]],\n",
       "\n",
       "         [[1.0000, 1.0000],\n",
       "          [1.0000, 1.0000]]],\n",
       "\n",
       "\n",
       "        [[[1.0000, 1.0000],\n",
       "          [1.0000, 1.0000]],\n",
       "\n",
       "         [[1.0000, 1.0000],\n",
       "          [1.0000, 1.0000]],\n",
       "\n",
       "         [[1.0000, 1.0000],\n",
       "          [1.0000, 1.0000]]],\n",
       "\n",
       "\n",
       "        [[[1.0000, 1.0000],\n",
       "          [1.0000, 1.0000]],\n",
       "\n",
       "         [[1.0000, 1.0000],\n",
       "          [1.0000, 1.0000]],\n",
       "\n",
       "         [[1.0000, 1.0000],\n",
       "          [1.0000, 1.0000]]],\n",
       "\n",
       "\n",
       "        [[[1.0000, 1.0000],\n",
       "          [1.0000, 1.0000]],\n",
       "\n",
       "         [[1.0000, 1.0000],\n",
       "          [1.0000, 1.0000]],\n",
       "\n",
       "         [[1.0000, 1.0000],\n",
       "          [1.0000, 1.0000]]],\n",
       "\n",
       "\n",
       "        [[[1.0000, 1.0000],\n",
       "          [1.0000, 1.0000]],\n",
       "\n",
       "         [[1.0000, 1.0000],\n",
       "          [1.0000, 1.0000]],\n",
       "\n",
       "         [[1.0000, 1.0000],\n",
       "          [1.0000, 1.0000]]],\n",
       "\n",
       "\n",
       "        [[[1.0000, 1.0000],\n",
       "          [1.0000, 1.0000]],\n",
       "\n",
       "         [[1.0000, 1.0000],\n",
       "          [1.0000, 1.0000]],\n",
       "\n",
       "         [[1.0000, 1.0000],\n",
       "          [1.0000, 1.0000]]],\n",
       "\n",
       "\n",
       "        [[[1.0000, 1.0000],\n",
       "          [1.0000, 1.0000]],\n",
       "\n",
       "         [[1.0000, 1.0000],\n",
       "          [1.0000, 1.0000]],\n",
       "\n",
       "         [[1.0000, 1.0000],\n",
       "          [1.0000, 1.0000]]],\n",
       "\n",
       "\n",
       "        [[[1.0000, 1.0000],\n",
       "          [1.0000, 1.0000]],\n",
       "\n",
       "         [[1.0000, 1.0000],\n",
       "          [1.0000, 1.0000]],\n",
       "\n",
       "         [[1.0000, 1.0000],\n",
       "          [1.0000, 1.0000]]],\n",
       "\n",
       "\n",
       "        [[[1.0000, 1.0000],\n",
       "          [1.0000, 1.0000]],\n",
       "\n",
       "         [[1.0000, 1.0000],\n",
       "          [1.0000, 1.0000]],\n",
       "\n",
       "         [[1.0000, 1.0000],\n",
       "          [1.0000, 1.0000]]],\n",
       "\n",
       "\n",
       "        [[[1.0000, 1.0000],\n",
       "          [1.0000, 1.0000]],\n",
       "\n",
       "         [[1.0000, 1.0000],\n",
       "          [1.0000, 1.0000]],\n",
       "\n",
       "         [[1.0000, 1.0000],\n",
       "          [1.0000, 1.0000]]],\n",
       "\n",
       "\n",
       "        [[[1.0000, 1.0000],\n",
       "          [1.0000, 1.0000]],\n",
       "\n",
       "         [[1.0000, 1.0000],\n",
       "          [1.0000, 1.0000]],\n",
       "\n",
       "         [[1.0000, 1.0000],\n",
       "          [1.0000, 1.0000]]],\n",
       "\n",
       "\n",
       "        [[[1.0000, 1.0000],\n",
       "          [1.0000, 1.0000]],\n",
       "\n",
       "         [[1.0000, 1.0000],\n",
       "          [1.0000, 1.0000]],\n",
       "\n",
       "         [[1.0000, 1.0000],\n",
       "          [1.0000, 1.0000]]],\n",
       "\n",
       "\n",
       "        [[[1.0000, 1.0000],\n",
       "          [1.0000, 1.0000]],\n",
       "\n",
       "         [[1.0000, 1.0000],\n",
       "          [1.0000, 1.0000]],\n",
       "\n",
       "         [[1.0000, 1.0000],\n",
       "          [1.0000, 1.0000]]],\n",
       "\n",
       "\n",
       "        [[[1.0000, 1.0000],\n",
       "          [1.0000, 1.0000]],\n",
       "\n",
       "         [[1.0000, 1.0000],\n",
       "          [1.0000, 1.0000]],\n",
       "\n",
       "         [[1.0000, 1.0000],\n",
       "          [1.0000, 1.0000]]],\n",
       "\n",
       "\n",
       "        [[[1.0000, 1.0000],\n",
       "          [1.0000, 1.0000]],\n",
       "\n",
       "         [[1.0000, 1.0000],\n",
       "          [1.0000, 1.0000]],\n",
       "\n",
       "         [[1.0000, 1.0000],\n",
       "          [1.0000, 1.0000]]],\n",
       "\n",
       "\n",
       "        [[[1.0000, 1.0000],\n",
       "          [1.0000, 1.0000]],\n",
       "\n",
       "         [[1.0000, 1.0000],\n",
       "          [1.0000, 1.0000]],\n",
       "\n",
       "         [[1.0000, 1.0000],\n",
       "          [1.0000, 1.0000]]]], grad_fn=<DivBackward0>)"
      ]
     },
     "execution_count": 16,
     "metadata": {},
     "output_type": "execute_result"
    }
   ],
   "source": [
    "torchConv.bias.grad/stuff"
   ]
  },
  {
   "cell_type": "code",
   "execution_count": 95,
   "id": "6771840a-7b1d-4a65-b9a6-608fff07c94e",
   "metadata": {},
   "outputs": [
    {
     "data": {
      "text/plain": [
       "tensor([   0,    1,    2,  ..., 3885, 3886, 3887])"
      ]
     },
     "execution_count": 95,
     "metadata": {},
     "output_type": "execute_result"
    }
   ],
   "source": [
    "torch.arange(3888)"
   ]
  },
  {
   "cell_type": "markdown",
   "id": "76f8af8b-9355-4f72-9aaf-455a5b2789ef",
   "metadata": {},
   "source": [
    "# Full model"
   ]
  },
  {
   "cell_type": "code",
   "execution_count": 10,
   "id": "7bc7516c-29e4-431c-8504-c2105fa55596",
   "metadata": {},
   "outputs": [
    {
     "data": {
      "text/plain": [
       "2"
      ]
     },
     "execution_count": 10,
     "metadata": {},
     "output_type": "execute_result"
    }
   ],
   "source": [
    "len((1,2))"
   ]
  },
  {
   "cell_type": "code",
   "execution_count": 26,
   "id": "6a4deeb5-e1e2-4447-9308-9474fa75c7c7",
   "metadata": {},
   "outputs": [
    {
     "data": {
      "text/plain": [
       "2"
      ]
     },
     "execution_count": 26,
     "metadata": {},
     "output_type": "execute_result"
    }
   ],
   "source": [
    "(1,2)[1]"
   ]
  },
  {
   "cell_type": "code",
   "execution_count": null,
   "id": "6ee6f1bd-88f9-4cc3-9288-142770af1d4d",
   "metadata": {},
   "outputs": [],
   "source": []
  }
 ],
 "metadata": {
  "kernelspec": {
   "display_name": "Python 3 (ipykernel)",
   "language": "python",
   "name": "python3"
  },
  "language_info": {
   "codemirror_mode": {
    "name": "ipython",
    "version": 3
   },
   "file_extension": ".py",
   "mimetype": "text/x-python",
   "name": "python",
   "nbconvert_exporter": "python",
   "pygments_lexer": "ipython3",
   "version": "3.9.7"
  }
 },
 "nbformat": 4,
 "nbformat_minor": 5
}
