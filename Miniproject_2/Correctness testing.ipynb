{
 "cells": [
  {
   "cell_type": "code",
   "execution_count": 1,
   "id": "b9d1d171-b5ee-464e-b587-98e8b0d9301a",
   "metadata": {},
   "outputs": [],
   "source": [
    "from others.module import *\n",
    "import torch\n",
    "import torch.nn as nn"
   ]
  },
  {
   "cell_type": "code",
   "execution_count": 2,
   "id": "5e4b10d9-2e83-4902-a8c5-b1b3fad03603",
   "metadata": {},
   "outputs": [],
   "source": [
    "randomStuff = torch.rand(4, 2, 16, 16)"
   ]
  },
  {
   "cell_type": "markdown",
   "id": "3abcf682-2e5b-4cbc-bafb-f26ad5526dae",
   "metadata": {},
   "source": [
    "# conv test"
   ]
  },
  {
   "cell_type": "code",
   "execution_count": 3,
   "id": "a454c149-4132-4b69-b565-4a0ec5cdbfa9",
   "metadata": {},
   "outputs": [],
   "source": [
    "kernel = 3\n",
    "stride = 1\n",
    "padding = 1\n",
    "in_channels = 2\n",
    "out_channels = 4\n",
    "\n",
    "ourConv = Conv2d(in_channels, out_channels, kernel, stride, padding)\n",
    "torchConv = nn.Conv2d(in_channels, out_channels, kernel, stride, padding)"
   ]
  },
  {
   "cell_type": "code",
   "execution_count": 4,
   "id": "4738a5a1-b440-4e91-b784-0b007de7c837",
   "metadata": {},
   "outputs": [
    {
     "data": {
      "text/plain": [
       "(tensor(0.0048), tensor(-0.0061))"
      ]
     },
     "execution_count": 4,
     "metadata": {},
     "output_type": "execute_result"
    }
   ],
   "source": [
    "ourConv.weights.mean(), torchConv.weight.mean()"
   ]
  },
  {
   "cell_type": "code",
   "execution_count": 7,
   "id": "a0991cfd-1110-4ba8-86cf-fdbe724cedf2",
   "metadata": {},
   "outputs": [],
   "source": [
    "ourConv.weights = torchConv.weight\n",
    "ourConv.bias = torchConv.bias"
   ]
  },
  {
   "cell_type": "code",
   "execution_count": 8,
   "id": "079de2cd-3cb7-4e95-85ad-9ed0482a2d1d",
   "metadata": {},
   "outputs": [],
   "source": [
    "ourOutput = ourConv.forward(randomStuff)\n",
    "torchOutput = torchConv(randomStuff)\n",
    "torch.testing.assert_allclose(torchOutput, ourOutput)"
   ]
  },
  {
   "cell_type": "markdown",
   "id": "6c248653-5854-4e41-8c62-5de1d68f5396",
   "metadata": {},
   "source": [
    "# upsample test"
   ]
  },
  {
   "cell_type": "code",
   "execution_count": 6,
   "id": "8edb7405-f92b-4a2f-8ac4-e1d76960285b",
   "metadata": {},
   "outputs": [],
   "source": [
    "scale_factor = 3\n",
    "\n",
    "ourUpsample = Upsample(scale_factor=scale_factor)\n",
    "torchUpsample = nn.Upsample(scale_factor = scale_factor)"
   ]
  },
  {
   "cell_type": "code",
   "execution_count": 7,
   "id": "422a04dc-b614-4b6e-876f-7a0ee662e619",
   "metadata": {},
   "outputs": [],
   "source": [
    "ourOutput = ourUpsample.forward(randomStuff)\n",
    "torchOutput = torchUpsample(randomStuff)\n",
    "torch.testing.assert_allclose(torchOutput, ourOutput)"
   ]
  },
  {
   "cell_type": "markdown",
   "id": "8b715681-14cb-46da-935a-607bd05eaaba",
   "metadata": {},
   "source": [
    "# MSE test"
   ]
  },
  {
   "cell_type": "code",
   "execution_count": 8,
   "id": "9655e1f8-9d93-471e-a225-9ec864e09b48",
   "metadata": {},
   "outputs": [],
   "source": [
    "ourMSE = MSE()\n",
    "torchMSE = nn.MSELoss()"
   ]
  },
  {
   "cell_type": "code",
   "execution_count": 9,
   "id": "cd4545de-0527-4487-9bb1-e2d48adf185f",
   "metadata": {},
   "outputs": [],
   "source": [
    "ourOutput = ourMSE.forward(randomStuff, randomStuff*1.001)\n",
    "torchOutput = torchMSE(randomStuff, randomStuff*1.001)\n",
    "torch.testing.assert_allclose(torchOutput, ourOutput)"
   ]
  },
  {
   "cell_type": "code",
   "execution_count": 10,
   "id": "26c78533-d9be-4aaa-bbb7-39b70769efae",
   "metadata": {},
   "outputs": [
    {
     "ename": "RuntimeError",
     "evalue": "element 0 of tensors does not require grad and does not have a grad_fn",
     "output_type": "error",
     "traceback": [
      "\u001b[1;31m---------------------------------------------------------------------------\u001b[0m",
      "\u001b[1;31mRuntimeError\u001b[0m                              Traceback (most recent call last)",
      "\u001b[1;32m~\\AppData\\Local\\Temp\\ipykernel_7132\\502957723.py\u001b[0m in \u001b[0;36m<module>\u001b[1;34m\u001b[0m\n\u001b[0;32m      1\u001b[0m \u001b[1;31m#test not written correctly\u001b[0m\u001b[1;33m\u001b[0m\u001b[1;33m\u001b[0m\u001b[1;33m\u001b[0m\u001b[0m\n\u001b[0;32m      2\u001b[0m \u001b[0mourBackward\u001b[0m \u001b[1;33m=\u001b[0m \u001b[0mourMSE\u001b[0m\u001b[1;33m.\u001b[0m\u001b[0mbackward\u001b[0m\u001b[1;33m(\u001b[0m\u001b[1;33m)\u001b[0m\u001b[1;33m\u001b[0m\u001b[1;33m\u001b[0m\u001b[0m\n\u001b[1;32m----> 3\u001b[1;33m \u001b[0mtorchBackward\u001b[0m \u001b[1;33m=\u001b[0m \u001b[0mtorchOutput\u001b[0m\u001b[1;33m.\u001b[0m\u001b[0mbackward\u001b[0m\u001b[1;33m(\u001b[0m\u001b[1;33m)\u001b[0m\u001b[1;33m\u001b[0m\u001b[1;33m\u001b[0m\u001b[0m\n\u001b[0m\u001b[0;32m      4\u001b[0m \u001b[0mtorch\u001b[0m\u001b[1;33m.\u001b[0m\u001b[0mtesting\u001b[0m\u001b[1;33m.\u001b[0m\u001b[0massert_allclose\u001b[0m\u001b[1;33m(\u001b[0m\u001b[0mtorchBackward\u001b[0m\u001b[1;33m,\u001b[0m \u001b[0mourBackward\u001b[0m\u001b[1;33m)\u001b[0m\u001b[1;33m\u001b[0m\u001b[1;33m\u001b[0m\u001b[0m\n",
      "\u001b[1;32mD:\\Miniconda\\lib\\site-packages\\torch\\_tensor.py\u001b[0m in \u001b[0;36mbackward\u001b[1;34m(self, gradient, retain_graph, create_graph, inputs)\u001b[0m\n\u001b[0;32m    305\u001b[0m                 \u001b[0mcreate_graph\u001b[0m\u001b[1;33m=\u001b[0m\u001b[0mcreate_graph\u001b[0m\u001b[1;33m,\u001b[0m\u001b[1;33m\u001b[0m\u001b[1;33m\u001b[0m\u001b[0m\n\u001b[0;32m    306\u001b[0m                 inputs=inputs)\n\u001b[1;32m--> 307\u001b[1;33m         \u001b[0mtorch\u001b[0m\u001b[1;33m.\u001b[0m\u001b[0mautograd\u001b[0m\u001b[1;33m.\u001b[0m\u001b[0mbackward\u001b[0m\u001b[1;33m(\u001b[0m\u001b[0mself\u001b[0m\u001b[1;33m,\u001b[0m \u001b[0mgradient\u001b[0m\u001b[1;33m,\u001b[0m \u001b[0mretain_graph\u001b[0m\u001b[1;33m,\u001b[0m \u001b[0mcreate_graph\u001b[0m\u001b[1;33m,\u001b[0m \u001b[0minputs\u001b[0m\u001b[1;33m=\u001b[0m\u001b[0minputs\u001b[0m\u001b[1;33m)\u001b[0m\u001b[1;33m\u001b[0m\u001b[1;33m\u001b[0m\u001b[0m\n\u001b[0m\u001b[0;32m    308\u001b[0m \u001b[1;33m\u001b[0m\u001b[0m\n\u001b[0;32m    309\u001b[0m     \u001b[1;32mdef\u001b[0m \u001b[0mregister_hook\u001b[0m\u001b[1;33m(\u001b[0m\u001b[0mself\u001b[0m\u001b[1;33m,\u001b[0m \u001b[0mhook\u001b[0m\u001b[1;33m)\u001b[0m\u001b[1;33m:\u001b[0m\u001b[1;33m\u001b[0m\u001b[1;33m\u001b[0m\u001b[0m\n",
      "\u001b[1;32mD:\\Miniconda\\lib\\site-packages\\torch\\autograd\\__init__.py\u001b[0m in \u001b[0;36mbackward\u001b[1;34m(tensors, grad_tensors, retain_graph, create_graph, grad_variables, inputs)\u001b[0m\n\u001b[0;32m    154\u001b[0m     Variable._execution_engine.run_backward(\n\u001b[0;32m    155\u001b[0m         \u001b[0mtensors\u001b[0m\u001b[1;33m,\u001b[0m \u001b[0mgrad_tensors_\u001b[0m\u001b[1;33m,\u001b[0m \u001b[0mretain_graph\u001b[0m\u001b[1;33m,\u001b[0m \u001b[0mcreate_graph\u001b[0m\u001b[1;33m,\u001b[0m \u001b[0minputs\u001b[0m\u001b[1;33m,\u001b[0m\u001b[1;33m\u001b[0m\u001b[1;33m\u001b[0m\u001b[0m\n\u001b[1;32m--> 156\u001b[1;33m         allow_unreachable=True, accumulate_grad=True)  # allow_unreachable flag\n\u001b[0m\u001b[0;32m    157\u001b[0m \u001b[1;33m\u001b[0m\u001b[0m\n\u001b[0;32m    158\u001b[0m \u001b[1;33m\u001b[0m\u001b[0m\n",
      "\u001b[1;31mRuntimeError\u001b[0m: element 0 of tensors does not require grad and does not have a grad_fn"
     ]
    }
   ],
   "source": [
    "#test not written correctly\n",
    "ourBackward = ourMSE.backward()\n",
    "torchBackward = torchOutput.backward()\n",
    "torch.testing.assert_allclose(torchBackward, ourBackward)"
   ]
  },
  {
   "cell_type": "markdown",
   "id": "30d766c0-7172-4b5d-989e-b6655e715781",
   "metadata": {},
   "source": [
    "# ReLu test"
   ]
  },
  {
   "cell_type": "code",
   "execution_count": 11,
   "id": "749800ce-cfb0-44c7-82f2-bfb108103bed",
   "metadata": {},
   "outputs": [],
   "source": [
    "ourReLU = ReLU()\n",
    "torchReLU = nn.ReLU()"
   ]
  },
  {
   "cell_type": "code",
   "execution_count": 12,
   "id": "48098f79-a704-4332-aa80-c1f58e6acc9b",
   "metadata": {},
   "outputs": [],
   "source": [
    "ourOutput = ourReLU.forward(randomStuff)\n",
    "torchOutput = torchReLU(randomStuff)\n",
    "torch.testing.assert_allclose(torchOutput, ourOutput)"
   ]
  },
  {
   "cell_type": "markdown",
   "id": "0bba15b0-8dbc-44d6-bb76-c54eb2e96727",
   "metadata": {},
   "source": [
    "# sigmoid test"
   ]
  },
  {
   "cell_type": "code",
   "execution_count": 13,
   "id": "eb1df783-5501-4cd1-bfc0-d64a4db9c074",
   "metadata": {},
   "outputs": [],
   "source": [
    "ourSigmoid = Sigmoid()\n",
    "torchSigmoid = nn.Sigmoid()"
   ]
  },
  {
   "cell_type": "code",
   "execution_count": 14,
   "id": "4d120a4f-8d2e-44a5-8b49-b0ca418142a1",
   "metadata": {},
   "outputs": [],
   "source": [
    "ourOutput = ourSigmoid.forward(randomStuff)\n",
    "torchOutput = torchSigmoid(randomStuff)\n",
    "torch.testing.assert_allclose(torchOutput, ourOutput)"
   ]
  },
  {
   "cell_type": "markdown",
   "id": "68f19fa7-7383-4f16-a763-f8a13216f464",
   "metadata": {},
   "source": [
    "# Sequential test"
   ]
  },
  {
   "cell_type": "code",
   "execution_count": 15,
   "id": "28170a84-9855-4deb-9215-21e2e496190e",
   "metadata": {},
   "outputs": [],
   "source": [
    "ourSequential = Sequential(ourConv, ReLU(), Sigmoid())\n",
    "torchSequential = nn.Sequential(torchConv, nn.ReLU(), nn.Sigmoid())"
   ]
  },
  {
   "cell_type": "code",
   "execution_count": 16,
   "id": "2f0efa55-2d8c-40e2-a8e5-df4c570b51f8",
   "metadata": {},
   "outputs": [],
   "source": [
    "ourOutput = ourSequential.forward(randomStuff)\n",
    "torchOutput = torchSequential(randomStuff)\n",
    "torch.testing.assert_allclose(torchOutput, ourOutput)"
   ]
  },
  {
   "cell_type": "code",
   "execution_count": null,
   "id": "240974db-eb84-43e7-a02c-6f009f81c8f9",
   "metadata": {},
   "outputs": [],
   "source": []
  }
 ],
 "metadata": {
  "kernelspec": {
   "display_name": "Python 3 (ipykernel)",
   "language": "python",
   "name": "python3"
  },
  "language_info": {
   "codemirror_mode": {
    "name": "ipython",
    "version": 3
   },
   "file_extension": ".py",
   "mimetype": "text/x-python",
   "name": "python",
   "nbconvert_exporter": "python",
   "pygments_lexer": "ipython3",
   "version": "3.7.3"
  }
 },
 "nbformat": 4,
 "nbformat_minor": 5
}
