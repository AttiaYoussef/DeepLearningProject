{
 "cells": [
  {
   "cell_type": "code",
   "execution_count": 1,
   "id": "b9d1d171-b5ee-464e-b587-98e8b0d9301a",
   "metadata": {},
   "outputs": [],
   "source": [
    "from model import *\n",
    "import torch\n",
    "import torch.nn as nn\n",
    "from torch.autograd import Variable"
   ]
  },
  {
   "cell_type": "code",
   "execution_count": 2,
   "id": "5e4b10d9-2e83-4902-a8c5-b1b3fad03603",
   "metadata": {},
   "outputs": [],
   "source": [
    "randomStuff = torch.rand(5, 3, 16, 16)"
   ]
  },
  {
   "cell_type": "markdown",
   "id": "3abcf682-2e5b-4cbc-bafb-f26ad5526dae",
   "metadata": {
    "jp-MarkdownHeadingCollapsed": true,
    "tags": []
   },
   "source": [
    "# conv test"
   ]
  },
  {
   "cell_type": "code",
   "execution_count": 3,
   "id": "a454c149-4132-4b69-b565-4a0ec5cdbfa9",
   "metadata": {},
   "outputs": [],
   "source": [
    "kernel = 2\n",
    "stride = 3\n",
    "padding = 1\n",
    "in_channels = 3\n",
    "out_channels =48\n",
    "randomStuff = torch.rand(10, in_channels, 25, 25)\n",
    "ourConv = Conv2d(in_channels, out_channels, kernel, stride, padding)\n",
    "torchConv = nn.Conv2d(in_channels, out_channels, kernel, stride, padding)"
   ]
  },
  {
   "cell_type": "code",
   "execution_count": 4,
   "id": "a0991cfd-1110-4ba8-86cf-fdbe724cedf2",
   "metadata": {},
   "outputs": [],
   "source": [
    "\n",
    "ourConv.weights = torchConv.weight\n",
    "ourConv.bias = torchConv.bias"
   ]
  },
  {
   "cell_type": "code",
   "execution_count": null,
   "id": "2baa2ffe-7fcc-4286-b018-27037f032ed4",
   "metadata": {},
   "outputs": [],
   "source": []
  },
  {
   "cell_type": "code",
   "execution_count": 5,
   "id": "079de2cd-3cb7-4e95-85ad-9ed0482a2d1d",
   "metadata": {},
   "outputs": [
    {
     "ename": "AssertionError",
     "evalue": "Tensor-likes are not close!\n\nMismatched elements: 38880 / 38880 (100.0%)\nGreatest absolute difference: 1.615188181400299 at index (9, 45, 3, 1) (up to 1e-05 allowed)\nGreatest relative difference: 21765.155950752393 at index (8, 16, 0, 2) (up to 0.0001 allowed)",
     "output_type": "error",
     "traceback": [
      "\u001b[1;31m---------------------------------------------------------------------------\u001b[0m",
      "\u001b[1;31mAssertionError\u001b[0m                            Traceback (most recent call last)",
      "\u001b[1;32m~\\AppData\\Local\\Temp/ipykernel_15928/2967056730.py\u001b[0m in \u001b[0;36m<module>\u001b[1;34m\u001b[0m\n\u001b[0;32m      1\u001b[0m \u001b[0mourOutput\u001b[0m \u001b[1;33m=\u001b[0m \u001b[0mourConv\u001b[0m\u001b[1;33m.\u001b[0m\u001b[0mforward\u001b[0m\u001b[1;33m(\u001b[0m\u001b[0mrandomStuff\u001b[0m\u001b[1;33m)\u001b[0m\u001b[1;33m\u001b[0m\u001b[1;33m\u001b[0m\u001b[0m\n\u001b[0;32m      2\u001b[0m \u001b[0mtorchOutput\u001b[0m \u001b[1;33m=\u001b[0m \u001b[0mtorchConv\u001b[0m\u001b[1;33m(\u001b[0m\u001b[0mrandomStuff\u001b[0m\u001b[1;33m)\u001b[0m\u001b[1;33m\u001b[0m\u001b[1;33m\u001b[0m\u001b[0m\n\u001b[1;32m----> 3\u001b[1;33m \u001b[0mtorch\u001b[0m\u001b[1;33m.\u001b[0m\u001b[0mtesting\u001b[0m\u001b[1;33m.\u001b[0m\u001b[0massert_allclose\u001b[0m\u001b[1;33m(\u001b[0m\u001b[0mtorchOutput\u001b[0m\u001b[1;33m,\u001b[0m \u001b[0mourOutput\u001b[0m\u001b[1;33m)\u001b[0m\u001b[1;33m\u001b[0m\u001b[1;33m\u001b[0m\u001b[0m\n\u001b[0m",
      "\u001b[1;32m~\\anaconda3\\lib\\site-packages\\torch\\testing\\_deprecated.py\u001b[0m in \u001b[0;36massert_allclose\u001b[1;34m(actual, expected, rtol, atol, equal_nan, msg)\u001b[0m\n\u001b[0;32m     76\u001b[0m         \u001b[0mrtol\u001b[0m\u001b[1;33m,\u001b[0m \u001b[0matol\u001b[0m \u001b[1;33m=\u001b[0m \u001b[0m_get_default_rtol_and_atol\u001b[0m\u001b[1;33m(\u001b[0m\u001b[0mactual\u001b[0m\u001b[1;33m,\u001b[0m \u001b[0mexpected\u001b[0m\u001b[1;33m)\u001b[0m\u001b[1;33m\u001b[0m\u001b[1;33m\u001b[0m\u001b[0m\n\u001b[0;32m     77\u001b[0m \u001b[1;33m\u001b[0m\u001b[0m\n\u001b[1;32m---> 78\u001b[1;33m     torch.testing.assert_close(\n\u001b[0m\u001b[0;32m     79\u001b[0m         \u001b[0mactual\u001b[0m\u001b[1;33m,\u001b[0m\u001b[1;33m\u001b[0m\u001b[1;33m\u001b[0m\u001b[0m\n\u001b[0;32m     80\u001b[0m         \u001b[0mexpected\u001b[0m\u001b[1;33m,\u001b[0m\u001b[1;33m\u001b[0m\u001b[1;33m\u001b[0m\u001b[0m\n",
      "\u001b[1;32m~\\anaconda3\\lib\\site-packages\\torch\\testing\\_asserts.py\u001b[0m in \u001b[0;36massert_close\u001b[1;34m(actual, expected, allow_subclasses, rtol, atol, equal_nan, check_device, check_dtype, check_stride, check_is_coalesced, msg)\u001b[0m\n\u001b[0;32m    969\u001b[0m     )\n\u001b[0;32m    970\u001b[0m     \u001b[1;32mif\u001b[0m \u001b[0merror_meta\u001b[0m\u001b[1;33m:\u001b[0m\u001b[1;33m\u001b[0m\u001b[1;33m\u001b[0m\u001b[0m\n\u001b[1;32m--> 971\u001b[1;33m         \u001b[1;32mraise\u001b[0m \u001b[0merror_meta\u001b[0m\u001b[1;33m.\u001b[0m\u001b[0mto_error\u001b[0m\u001b[1;33m(\u001b[0m\u001b[1;33m)\u001b[0m\u001b[1;33m\u001b[0m\u001b[1;33m\u001b[0m\u001b[0m\n\u001b[0m",
      "\u001b[1;31mAssertionError\u001b[0m: Tensor-likes are not close!\n\nMismatched elements: 38880 / 38880 (100.0%)\nGreatest absolute difference: 1.615188181400299 at index (9, 45, 3, 1) (up to 1e-05 allowed)\nGreatest relative difference: 21765.155950752393 at index (8, 16, 0, 2) (up to 0.0001 allowed)"
     ]
    }
   ],
   "source": [
    "ourOutput = ourConv.forward(randomStuff)\n",
    "torchOutput = torchConv(randomStuff)\n",
    "torch.testing.assert_allclose(torchOutput, ourOutput)"
   ]
  },
  {
   "cell_type": "code",
   "execution_count": null,
   "id": "33a05cd0",
   "metadata": {},
   "outputs": [],
   "source": [
    "x=Variable(randomStuff,requires_grad=True)\n",
    "x2=Variable(x*1.0,requires_grad=True)"
   ]
  },
  {
   "cell_type": "code",
   "execution_count": null,
   "id": "a4d55983",
   "metadata": {},
   "outputs": [],
   "source": [
    "x.grad"
   ]
  },
  {
   "cell_type": "code",
   "execution_count": null,
   "id": "72a35bd5",
   "metadata": {},
   "outputs": [],
   "source": [
    "o=ourConv.forward(x2)"
   ]
  },
  {
   "cell_type": "code",
   "execution_count": null,
   "id": "11441f2a",
   "metadata": {},
   "outputs": [],
   "source": [
    "p=torchConv(x)"
   ]
  },
  {
   "cell_type": "code",
   "execution_count": null,
   "id": "eee6ffc7-eac5-47e1-9440-164c53932b98",
   "metadata": {},
   "outputs": [],
   "source": [
    "grdw=torch.rand(p.shape)"
   ]
  },
  {
   "cell_type": "code",
   "execution_count": null,
   "id": "ca3c09fc-92f5-469e-99b4-8529cad40500",
   "metadata": {},
   "outputs": [],
   "source": []
  },
  {
   "cell_type": "code",
   "execution_count": null,
   "id": "df99ad70-29ed-476d-bb85-98b273947563",
   "metadata": {},
   "outputs": [],
   "source": []
  },
  {
   "cell_type": "code",
   "execution_count": null,
   "id": "588c754b-b2cc-441b-a4e6-6abf6d1a8611",
   "metadata": {},
   "outputs": [],
   "source": []
  },
  {
   "cell_type": "code",
   "execution_count": null,
   "id": "aad03dd5",
   "metadata": {},
   "outputs": [],
   "source": [
    "\n",
    "\n",
    "p.backward(grdw)"
   ]
  },
  {
   "cell_type": "code",
   "execution_count": null,
   "id": "93c4f815",
   "metadata": {},
   "outputs": [],
   "source": []
  },
  {
   "cell_type": "code",
   "execution_count": null,
   "id": "9a55d9ab-6669-4945-bd3a-c9dd814b7f29",
   "metadata": {},
   "outputs": [],
   "source": []
  },
  {
   "cell_type": "code",
   "execution_count": null,
   "id": "e9d6971e-e754-461b-9c6c-b223b09509c3",
   "metadata": {},
   "outputs": [],
   "source": [
    "a=ourConv.backward(grdw)"
   ]
  },
  {
   "cell_type": "code",
   "execution_count": null,
   "id": "dd0a571f-bcd3-4158-84c8-fe0e8d6950d8",
   "metadata": {},
   "outputs": [],
   "source": [
    "torch.testing.assert_allclose(a, x.grad)"
   ]
  },
  {
   "cell_type": "code",
   "execution_count": null,
   "id": "e6b8d207-b177-474a-9f7f-64a11be62e3e",
   "metadata": {},
   "outputs": [],
   "source": []
  },
  {
   "cell_type": "code",
   "execution_count": null,
   "id": "7bf5aa4e-2e8b-4be5-bc55-11c4bbc0f55c",
   "metadata": {},
   "outputs": [],
   "source": [
    "torch.testing.assert_allclose(torchConv.weight.grad,ourConv.dweights)\n"
   ]
  },
  {
   "cell_type": "code",
   "execution_count": null,
   "id": "b3da9cdc-eeac-4c90-aa74-e1a121917aa9",
   "metadata": {},
   "outputs": [],
   "source": [
    "torch.testing.assert_allclose(torchConv.bias.grad,ourConv.dbias)"
   ]
  },
  {
   "cell_type": "code",
   "execution_count": null,
   "id": "7be9af3d-eead-4fdf-be62-39f22f2ae7e9",
   "metadata": {},
   "outputs": [],
   "source": [
    "torchConv.bias.grad"
   ]
  },
  {
   "cell_type": "code",
   "execution_count": null,
   "id": "c6e1bb0c-b0fb-4cc9-97a5-7035c784c7ed",
   "metadata": {},
   "outputs": [],
   "source": [
    "ourConv.dbias"
   ]
  },
  {
   "cell_type": "markdown",
   "id": "6c248653-5854-4e41-8c62-5de1d68f5396",
   "metadata": {
    "jp-MarkdownHeadingCollapsed": true,
    "tags": []
   },
   "source": [
    "# upsample test"
   ]
  },
  {
   "cell_type": "code",
   "execution_count": null,
   "id": "8edb7405-f92b-4a2f-8ac4-e1d76960285b",
   "metadata": {},
   "outputs": [],
   "source": [
    "scale_factor = 2\n",
    "loss=nn.MSELoss()\n",
    "ourUpsample = NearestUpsampling(scale_factor=scale_factor)\n",
    "torchUpsample = nn.Upsample(scale_factor = scale_factor)"
   ]
  },
  {
   "cell_type": "code",
   "execution_count": null,
   "id": "422a04dc-b614-4b6e-876f-7a0ee662e619",
   "metadata": {},
   "outputs": [],
   "source": [
    "ourOutput = ourUpsample.forward(randomStuff)\n",
    "torchOutput = torchUpsample(randomStuff)\n",
    "torch.testing.assert_allclose(torchOutput, ourOutput)"
   ]
  },
  {
   "cell_type": "code",
   "execution_count": null,
   "id": "0b24661e",
   "metadata": {},
   "outputs": [],
   "source": [
    "x=Variable(torch.rand(5*3*16).view((5,3,4,4))*1.0,requires_grad=True)"
   ]
  },
  {
   "cell_type": "code",
   "execution_count": null,
   "id": "2726980d",
   "metadata": {},
   "outputs": [],
   "source": [
    "outp=torch.rand(5*3*8*8).view(5,3,8,8)"
   ]
  },
  {
   "cell_type": "code",
   "execution_count": null,
   "id": "daa5c7e0-0c13-49b8-b2be-e29b06ac9d3b",
   "metadata": {},
   "outputs": [],
   "source": [
    "grdout=torch.rand_like(torchUpsample(x))"
   ]
  },
  {
   "cell_type": "code",
   "execution_count": null,
   "id": "4bf005a3-2ab7-44b4-8bb4-ed9529b435e7",
   "metadata": {},
   "outputs": [],
   "source": [
    "from torch.autograd import Variable"
   ]
  },
  {
   "cell_type": "code",
   "execution_count": null,
   "id": "fbd19adb-140b-4ce3-a155-013b2f220cbc",
   "metadata": {},
   "outputs": [],
   "source": [
    "torchUpsample(x).backward(grdout)"
   ]
  },
  {
   "cell_type": "code",
   "execution_count": null,
   "id": "85d565a3",
   "metadata": {},
   "outputs": [],
   "source": [
    "torch.testing.assert_allclose(ourUpsample.backward(grdout),x.grad)"
   ]
  },
  {
   "cell_type": "code",
   "execution_count": null,
   "id": "ccce5bcb-583f-4122-83fc-057d9119fa77",
   "metadata": {},
   "outputs": [],
   "source": []
  },
  {
   "cell_type": "code",
   "execution_count": null,
   "id": "8307e71b-3b95-41ed-8f93-19aafb2eefaf",
   "metadata": {},
   "outputs": [],
   "source": []
  },
  {
   "cell_type": "markdown",
   "id": "8b715681-14cb-46da-935a-607bd05eaaba",
   "metadata": {
    "jp-MarkdownHeadingCollapsed": true,
    "tags": []
   },
   "source": [
    "# MSE test"
   ]
  },
  {
   "cell_type": "code",
   "execution_count": null,
   "id": "9655e1f8-9d93-471e-a225-9ec864e09b48",
   "metadata": {},
   "outputs": [],
   "source": [
    "ourMSE = MSE()\n",
    "torchMSE = nn.MSELoss()"
   ]
  },
  {
   "cell_type": "code",
   "execution_count": null,
   "id": "66b756bc-cf95-4d88-8691-0c584b8b1d2a",
   "metadata": {},
   "outputs": [],
   "source": [
    "x=Variable(randomStuff,requires_grad=True)"
   ]
  },
  {
   "cell_type": "code",
   "execution_count": null,
   "id": "f2bfbba8-1023-4ca6-bf26-76c74ddc9042",
   "metadata": {},
   "outputs": [],
   "source": []
  },
  {
   "cell_type": "code",
   "execution_count": null,
   "id": "cd4545de-0527-4487-9bb1-e2d48adf185f",
   "metadata": {},
   "outputs": [],
   "source": [
    "ourOutput = ourMSE.forward(x, torch.zeros_like(x))\n",
    "torchOutput = torchMSE(x, torch.zeros_like(x))\n",
    "torch.testing.assert_allclose(torchOutput, ourOutput)"
   ]
  },
  {
   "cell_type": "code",
   "execution_count": null,
   "id": "26c78533-d9be-4aaa-bbb7-39b70769efae",
   "metadata": {},
   "outputs": [],
   "source": [
    "#test not written correctly\n",
    "ourBackward = ourMSE.backward()\n",
    "torchBackward = torchOutput.backward()\n",
    "torch.testing.assert_allclose(x.grad, ourBackward)"
   ]
  },
  {
   "cell_type": "code",
   "execution_count": null,
   "id": "a40131d2-45b3-4583-9a61-24c9f8d94230",
   "metadata": {},
   "outputs": [],
   "source": []
  },
  {
   "cell_type": "code",
   "execution_count": null,
   "id": "1c644a6d-2752-4178-9bb4-f8ae4324bb00",
   "metadata": {},
   "outputs": [],
   "source": []
  },
  {
   "cell_type": "markdown",
   "id": "30d766c0-7172-4b5d-989e-b6655e715781",
   "metadata": {
    "jp-MarkdownHeadingCollapsed": true,
    "tags": []
   },
   "source": [
    "# ReLu test"
   ]
  },
  {
   "cell_type": "code",
   "execution_count": null,
   "id": "749800ce-cfb0-44c7-82f2-bfb108103bed",
   "metadata": {},
   "outputs": [],
   "source": [
    "ourReLU = ReLU()\n",
    "torchReLU = nn.ReLU()\n",
    "x=Variable(randomStuff,requires_grad=True)"
   ]
  },
  {
   "cell_type": "code",
   "execution_count": null,
   "id": "48098f79-a704-4332-aa80-c1f58e6acc9b",
   "metadata": {},
   "outputs": [],
   "source": [
    "ourOutput = ourReLU.forward(x)\n",
    "torchOutput = torchReLU(x)\n",
    "torch.testing.assert_allclose(torchOutput, ourOutput)"
   ]
  },
  {
   "cell_type": "code",
   "execution_count": null,
   "id": "29889039-822c-47ea-9d28-7017914f8497",
   "metadata": {},
   "outputs": [],
   "source": [
    "grdout=torch.rand_like(x)"
   ]
  },
  {
   "cell_type": "code",
   "execution_count": null,
   "id": "379e1eb5-3377-4a25-9f99-ffa0b7b831a2",
   "metadata": {},
   "outputs": [],
   "source": [
    "grdout.shape"
   ]
  },
  {
   "cell_type": "code",
   "execution_count": null,
   "id": "ae596b95-0e54-4b19-9d8a-999e30bd1392",
   "metadata": {},
   "outputs": [],
   "source": [
    "torchOutput.backward(grdout)"
   ]
  },
  {
   "cell_type": "code",
   "execution_count": null,
   "id": "1dfe04cb-f76c-4fe3-bec8-70e670f02351",
   "metadata": {},
   "outputs": [],
   "source": [
    "torch.testing.assert_allclose(ourReLU.backward(grdout),x.grad)"
   ]
  },
  {
   "cell_type": "code",
   "execution_count": null,
   "id": "6a3f8c56-4c15-4985-aab0-31643ac76e46",
   "metadata": {},
   "outputs": [],
   "source": [
    "ourReLU.backward(grdout).shape"
   ]
  },
  {
   "cell_type": "markdown",
   "id": "0bba15b0-8dbc-44d6-bb76-c54eb2e96727",
   "metadata": {
    "jp-MarkdownHeadingCollapsed": true,
    "tags": []
   },
   "source": [
    "# sigmoid test"
   ]
  },
  {
   "cell_type": "code",
   "execution_count": null,
   "id": "eb1df783-5501-4cd1-bfc0-d64a4db9c074",
   "metadata": {},
   "outputs": [],
   "source": [
    "ourSigmoid = Sigmoid()\n",
    "torchSigmoid = nn.Sigmoid()\n",
    "x=Variable(randomStuff,requires_grad=True)\n",
    "grdout=torch.rand_like(x)"
   ]
  },
  {
   "cell_type": "code",
   "execution_count": null,
   "id": "4d120a4f-8d2e-44a5-8b49-b0ca418142a1",
   "metadata": {},
   "outputs": [],
   "source": [
    "ourOutput = ourSigmoid.forward(x)\n",
    "torchOutput = torchSigmoid(x)\n",
    "torch.testing.assert_allclose(torchOutput, ourOutput)"
   ]
  },
  {
   "cell_type": "code",
   "execution_count": null,
   "id": "8bfe8c3d-d44e-4559-9d05-312224cec7a6",
   "metadata": {},
   "outputs": [],
   "source": [
    "grdout.shape"
   ]
  },
  {
   "cell_type": "code",
   "execution_count": null,
   "id": "4dc1e3bd-0e92-48d5-bdf9-2b4a1e6e9171",
   "metadata": {},
   "outputs": [],
   "source": [
    "torchOutput.backward(grdout)"
   ]
  },
  {
   "cell_type": "code",
   "execution_count": null,
   "id": "b3081531-615f-4cb1-a04b-a6a2ea6a6dc5",
   "metadata": {},
   "outputs": [],
   "source": [
    "torch.testing.assert_allclose(ourSigmoid.backward(grdout),x.grad)"
   ]
  },
  {
   "cell_type": "code",
   "execution_count": null,
   "id": "df394e45-1fd7-4edb-ac7d-0c1bed389c13",
   "metadata": {},
   "outputs": [],
   "source": [
    "ourSigmoid.backward(grdout).shape"
   ]
  },
  {
   "cell_type": "markdown",
   "id": "68f19fa7-7383-4f16-a763-f8a13216f464",
   "metadata": {
    "jp-MarkdownHeadingCollapsed": true,
    "tags": []
   },
   "source": [
    "# Sequential test"
   ]
  },
  {
   "cell_type": "code",
   "execution_count": null,
   "id": "28170a84-9855-4deb-9215-21e2e496190e",
   "metadata": {},
   "outputs": [],
   "source": [
    "ourSequential = Sequential(ourConv, ReLU(), Sigmoid())\n",
    "torchSequential = nn.Sequential( torchConv, nn.ReLU(), nn.Sigmoid())\n",
    "x=Variable(randomStuff,requires_grad=True)"
   ]
  },
  {
   "cell_type": "code",
   "execution_count": null,
   "id": "6b11ca94-56d5-40f5-b80d-835f310403b7",
   "metadata": {},
   "outputs": [],
   "source": [
    "ourSequential = Sequential(ourConv)\n",
    "torchSequential = nn.Sequential( torchConv)\n",
    "x=Variable(randomStuff,requires_grad=True)"
   ]
  },
  {
   "cell_type": "code",
   "execution_count": null,
   "id": "2f0efa55-2d8c-40e2-a8e5-df4c570b51f8",
   "metadata": {},
   "outputs": [],
   "source": [
    "ourOutput = ourSequential.forward(x)\n",
    "torchOutput = torchSequential(x)\n",
    "torch.testing.assert_allclose(torchOutput, ourOutput)"
   ]
  },
  {
   "cell_type": "code",
   "execution_count": null,
   "id": "09e6253a-b081-4994-a7cc-2ccf0caf94a4",
   "metadata": {},
   "outputs": [],
   "source": [
    "grdout=torch.rand_like(ourOutput)"
   ]
  },
  {
   "cell_type": "code",
   "execution_count": null,
   "id": "c6883b3e-b82a-4b0a-8cee-61eae4c310fe",
   "metadata": {},
   "outputs": [],
   "source": [
    "torchOutput.backward(grdout)"
   ]
  },
  {
   "cell_type": "code",
   "execution_count": null,
   "id": "9daf2e73-63b9-4ec9-a7e4-50fb7eed5ac4",
   "metadata": {},
   "outputs": [],
   "source": [
    "grdout.shape"
   ]
  },
  {
   "cell_type": "code",
   "execution_count": null,
   "id": "b87582dc-d0f0-4432-8637-29b4c5bea58c",
   "metadata": {},
   "outputs": [],
   "source": [
    "ourSequential.backward(grdout)"
   ]
  },
  {
   "cell_type": "code",
   "execution_count": null,
   "id": "8070166a-1e00-420c-a49c-79ab69633ec5",
   "metadata": {},
   "outputs": [],
   "source": [
    "stuff=ourConv.dweights"
   ]
  },
  {
   "cell_type": "code",
   "execution_count": null,
   "id": "1475ec4d-472e-447d-8d95-a3fe06db7a2b",
   "metadata": {},
   "outputs": [],
   "source": [
    "torch.testing.assert_allclose(torchConv.weight.grad,stuff)"
   ]
  },
  {
   "cell_type": "code",
   "execution_count": null,
   "id": "91c767f3-f627-4caf-8ed8-69ea87bfe282",
   "metadata": {},
   "outputs": [],
   "source": [
    "torch.testing.assert_allclose(torchConv.bias.grad,ourConv.dbias)"
   ]
  },
  {
   "cell_type": "code",
   "execution_count": null,
   "id": "f02b4f17-f4b9-43b2-be10-c813de6e3982",
   "metadata": {},
   "outputs": [],
   "source": []
  },
  {
   "cell_type": "code",
   "execution_count": null,
   "id": "6771840a-7b1d-4a65-b9a6-608fff07c94e",
   "metadata": {},
   "outputs": [],
   "source": []
  },
  {
   "cell_type": "markdown",
   "id": "76f8af8b-9355-4f72-9aaf-455a5b2789ef",
   "metadata": {},
   "source": [
    "# Full model"
   ]
  },
  {
   "cell_type": "code",
   "execution_count": null,
   "id": "ca5a2404-e9cb-43bc-9e13-565571a9116d",
   "metadata": {},
   "outputs": [],
   "source": [
    "noisy_imgs_1, noisy_imgs_2 = torch.load('data/train_data.pkl') #pairs of images with different noises each time\n",
    "val_noisy_imgs, clean_imgs = torch.load('data/val_data.pkl')\n",
    "val_noisy_imgs = val_noisy_imgs\n",
    "clean_imgs = clean_imgs\n",
    "train_input, train_target = ((noisy_imgs_1/255.0)), ((noisy_imgs_2/255.0))\n"
   ]
  },
  {
   "cell_type": "code",
   "execution_count": null,
   "id": "a32e1bad-5225-4996-b2a4-8a74d169c020",
   "metadata": {},
   "outputs": [],
   "source": [
    "val_imgs_during_training = val_noisy_imgs[800:]\n",
    "clean_imgs_during_training = clean_imgs[800:]"
   ]
  },
  {
   "cell_type": "code",
   "execution_count": null,
   "id": "e70c5f7c-8835-4c7b-8a45-48f4c83eb60a",
   "metadata": {},
   "outputs": [],
   "source": [
    "def psnr ( denoised , ground_truth ) :\n",
    "    # Peak Signal to Noise Ratio : denoised and ground_truth have range [0 , 1]\n",
    "    mse = torch . mean (( denoised - ground_truth ) ** 2)\n",
    "    return -10 * torch . log10 ( mse + 10** -8)\n",
    "\n",
    "def validation_check(model):\n",
    "    with torch.no_grad():\n",
    "        denoised = ((model(val_imgs_during_training/255)))\n",
    "        avg_psnr = 0\n",
    "        for i in range(200) :\n",
    "             avg_psnr += psnr(denoised[i], clean_imgs_during_training[i]/255)\n",
    "        return avg_psnr/200"
   ]
  },
  {
   "cell_type": "code",
   "execution_count": null,
   "id": "260e8b6d-cf3b-4cdb-b7d8-2a06562b6b2f",
   "metadata": {},
   "outputs": [],
   "source": []
  },
  {
   "cell_type": "code",
   "execution_count": null,
   "id": "7bc7516c-29e4-431c-8504-c2105fa55596",
   "metadata": {},
   "outputs": [],
   "source": [
    "kernel = 3\n",
    "stride = 2\n",
    "        \n",
    "model = Sequential(\n",
    "    Conv2d(3,48,kernel,stride),\n",
    "    ReLU(),\n",
    "    Conv2d(48,48,kernel,stride),\n",
    "    ReLU(),\n",
    "    Conv2d(48,48,kernel,stride = 1, padding = 2),\n",
    "    NNUpsampling(scale_factor = 2),\n",
    "    Conv2d(48,24,kernel,stride = 1,),\n",
    "    ReLU(),\n",
    "    Conv2d(24,24,kernel,stride = 1, padding = 2),\n",
    "    NNUpsampling(scale_factor = 2),\n",
    "    Conv2d(24,24,kernel,stride = 1,),\n",
    "    Conv2d(24,3,kernel,stride = 1,),\n",
    "    Sigmoid()\n",
    ")"
   ]
  },
  {
   "cell_type": "code",
   "execution_count": null,
   "id": "6a4deeb5-e1e2-4447-9308-9474fa75c7c7",
   "metadata": {},
   "outputs": [],
   "source": [
    "optimizer = SGD(model.params(), lr = 0.15)"
   ]
  },
  {
   "cell_type": "code",
   "execution_count": null,
   "id": "6ee6f1bd-88f9-4cc3-9288-142770af1d4d",
   "metadata": {},
   "outputs": [],
   "source": [
    "loss = MSE()"
   ]
  },
  {
   "cell_type": "code",
   "execution_count": null,
   "id": "627b1dcc-7980-4563-b7da-55bdf1faf44a",
   "metadata": {},
   "outputs": [],
   "source": [
    "epochs = 7\n",
    "batch_size = 32\n",
    "\n",
    "for i in range(epochs):\n",
    "    for b in range(0, len(train_input), batch_size):\n",
    "        optimizer.zero_grad()\n",
    "        data = train_input[b:b+batch_size]\n",
    "        target = train_target[b:b+batch_size]\n",
    "        output=loss(model(data),target)\n",
    "        model.backward(loss.backward())\n",
    "        optimizer.step()\n",
    "        \n",
    "    val = validation_check(model)\n",
    "    print(val)"
   ]
  },
  {
   "cell_type": "code",
   "execution_count": null,
   "id": "146e0865-4a27-45fb-b12a-000ff0f8d1db",
   "metadata": {},
   "outputs": [],
   "source": [
    "import pickle\n",
    "pickle.dump(model,open('bestmodel.pth','wb'))"
   ]
  },
  {
   "cell_type": "code",
   "execution_count": null,
   "id": "1ba4ff0e-64d2-42b7-8d9c-f5d6293a2fc0",
   "metadata": {},
   "outputs": [],
   "source": [
    "test=pickle.load(open('bestmodel.pth','rb'))"
   ]
  },
  {
   "cell_type": "code",
   "execution_count": null,
   "id": "8be17cdb-3636-490f-9ac5-da99d161a695",
   "metadata": {},
   "outputs": [],
   "source": [
    "validation_check(test)"
   ]
  },
  {
   "cell_type": "code",
   "execution_count": null,
   "id": "311009d6-d3c9-4e85-adab-a035cdb6070d",
   "metadata": {},
   "outputs": [],
   "source": []
  }
 ],
 "metadata": {
  "kernelspec": {
   "display_name": "Python 3 (ipykernel)",
   "language": "python",
   "name": "python3"
  },
  "language_info": {
   "codemirror_mode": {
    "name": "ipython",
    "version": 3
   },
   "file_extension": ".py",
   "mimetype": "text/x-python",
   "name": "python",
   "nbconvert_exporter": "python",
   "pygments_lexer": "ipython3",
   "version": "3.9.7"
  }
 },
 "nbformat": 4,
 "nbformat_minor": 5
}
