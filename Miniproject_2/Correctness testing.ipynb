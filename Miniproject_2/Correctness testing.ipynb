{
 "cells": [
  {
   "cell_type": "code",
   "execution_count": 1,
   "metadata": {},
   "outputs": [],
   "source": [
    "from model import *\n",
    "import torch\n",
    "import torch.nn as nn\n",
    "from torch.autograd import Variable"
   ]
  },
  {
   "cell_type": "code",
   "execution_count": 2,
   "metadata": {},
   "outputs": [],
   "source": [
    "randomStuff = torch.rand(5, 3, 16, 16)"
   ]
  },
  {
   "cell_type": "markdown",
   "metadata": {
    "jp-MarkdownHeadingCollapsed": true,
    "tags": []
   },
   "source": [
    "# conv test"
   ]
  },
  {
   "cell_type": "code",
   "execution_count": 3,
   "metadata": {},
   "outputs": [],
   "source": [
    "kernel = 2\n",
    "stride = 3\n",
    "padding = 1\n",
    "in_channels = 3\n",
    "out_channels =48\n",
    "randomStuff = torch.rand(10, in_channels, 25, 25)\n",
    "ourConv = Conv2d(in_channels, out_channels, kernel, stride, padding)\n",
    "torchConv = nn.Conv2d(in_channels, out_channels, kernel, stride, padding)"
   ]
  },
  {
   "cell_type": "code",
   "execution_count": 4,
   "metadata": {},
   "outputs": [],
   "source": [
    "\n",
    "ourConv.weights = torchConv.weight\n",
    "ourConv.bias = torchConv.bias"
   ]
  },
  {
   "cell_type": "code",
   "execution_count": null,
   "metadata": {},
   "outputs": [],
   "source": []
  },
  {
   "cell_type": "code",
   "execution_count": 5,
   "metadata": {},
   "outputs": [
    {
     "ename": "AssertionError",
     "evalue": "Tensor-likes are not close!\n\nMismatched elements: 38880 / 38880 (100.0%)\nGreatest absolute difference: 1.615188181400299 at index (9, 45, 3, 1) (up to 1e-05 allowed)\nGreatest relative difference: 21765.155950752393 at index (8, 16, 0, 2) (up to 0.0001 allowed)",
     "output_type": "error",
     "traceback": [
      "\u001b[1;31m---------------------------------------------------------------------------\u001b[0m",
      "\u001b[1;31mAssertionError\u001b[0m                            Traceback (most recent call last)",
      "\u001b[1;32m~\\AppData\\Local\\Temp/ipykernel_15928/2967056730.py\u001b[0m in \u001b[0;36m<module>\u001b[1;34m\u001b[0m\n\u001b[0;32m      1\u001b[0m \u001b[0mourOutput\u001b[0m \u001b[1;33m=\u001b[0m \u001b[0mourConv\u001b[0m\u001b[1;33m.\u001b[0m\u001b[0mforward\u001b[0m\u001b[1;33m(\u001b[0m\u001b[0mrandomStuff\u001b[0m\u001b[1;33m)\u001b[0m\u001b[1;33m\u001b[0m\u001b[1;33m\u001b[0m\u001b[0m\n\u001b[0;32m      2\u001b[0m \u001b[0mtorchOutput\u001b[0m \u001b[1;33m=\u001b[0m \u001b[0mtorchConv\u001b[0m\u001b[1;33m(\u001b[0m\u001b[0mrandomStuff\u001b[0m\u001b[1;33m)\u001b[0m\u001b[1;33m\u001b[0m\u001b[1;33m\u001b[0m\u001b[0m\n\u001b[1;32m----> 3\u001b[1;33m \u001b[0mtorch\u001b[0m\u001b[1;33m.\u001b[0m\u001b[0mtesting\u001b[0m\u001b[1;33m.\u001b[0m\u001b[0massert_allclose\u001b[0m\u001b[1;33m(\u001b[0m\u001b[0mtorchOutput\u001b[0m\u001b[1;33m,\u001b[0m \u001b[0mourOutput\u001b[0m\u001b[1;33m)\u001b[0m\u001b[1;33m\u001b[0m\u001b[1;33m\u001b[0m\u001b[0m\n\u001b[0m",
      "\u001b[1;32m~\\anaconda3\\lib\\site-packages\\torch\\testing\\_deprecated.py\u001b[0m in \u001b[0;36massert_allclose\u001b[1;34m(actual, expected, rtol, atol, equal_nan, msg)\u001b[0m\n\u001b[0;32m     76\u001b[0m         \u001b[0mrtol\u001b[0m\u001b[1;33m,\u001b[0m \u001b[0matol\u001b[0m \u001b[1;33m=\u001b[0m \u001b[0m_get_default_rtol_and_atol\u001b[0m\u001b[1;33m(\u001b[0m\u001b[0mactual\u001b[0m\u001b[1;33m,\u001b[0m \u001b[0mexpected\u001b[0m\u001b[1;33m)\u001b[0m\u001b[1;33m\u001b[0m\u001b[1;33m\u001b[0m\u001b[0m\n\u001b[0;32m     77\u001b[0m \u001b[1;33m\u001b[0m\u001b[0m\n\u001b[1;32m---> 78\u001b[1;33m     torch.testing.assert_close(\n\u001b[0m\u001b[0;32m     79\u001b[0m         \u001b[0mactual\u001b[0m\u001b[1;33m,\u001b[0m\u001b[1;33m\u001b[0m\u001b[1;33m\u001b[0m\u001b[0m\n\u001b[0;32m     80\u001b[0m         \u001b[0mexpected\u001b[0m\u001b[1;33m,\u001b[0m\u001b[1;33m\u001b[0m\u001b[1;33m\u001b[0m\u001b[0m\n",
      "\u001b[1;32m~\\anaconda3\\lib\\site-packages\\torch\\testing\\_asserts.py\u001b[0m in \u001b[0;36massert_close\u001b[1;34m(actual, expected, allow_subclasses, rtol, atol, equal_nan, check_device, check_dtype, check_stride, check_is_coalesced, msg)\u001b[0m\n\u001b[0;32m    969\u001b[0m     )\n\u001b[0;32m    970\u001b[0m     \u001b[1;32mif\u001b[0m \u001b[0merror_meta\u001b[0m\u001b[1;33m:\u001b[0m\u001b[1;33m\u001b[0m\u001b[1;33m\u001b[0m\u001b[0m\n\u001b[1;32m--> 971\u001b[1;33m         \u001b[1;32mraise\u001b[0m \u001b[0merror_meta\u001b[0m\u001b[1;33m.\u001b[0m\u001b[0mto_error\u001b[0m\u001b[1;33m(\u001b[0m\u001b[1;33m)\u001b[0m\u001b[1;33m\u001b[0m\u001b[1;33m\u001b[0m\u001b[0m\n\u001b[0m",
      "\u001b[1;31mAssertionError\u001b[0m: Tensor-likes are not close!\n\nMismatched elements: 38880 / 38880 (100.0%)\nGreatest absolute difference: 1.615188181400299 at index (9, 45, 3, 1) (up to 1e-05 allowed)\nGreatest relative difference: 21765.155950752393 at index (8, 16, 0, 2) (up to 0.0001 allowed)"
     ]
    }
   ],
   "source": [
    "ourOutput = ourConv.forward(randomStuff)\n",
    "torchOutput = torchConv(randomStuff)\n",
    "torch.testing.assert_allclose(torchOutput, ourOutput)"
   ]
  },
  {
   "cell_type": "code",
   "execution_count": null,
   "metadata": {},
   "outputs": [],
   "source": [
    "x=Variable(randomStuff,requires_grad=True)\n",
    "x2=Variable(x*1.0,requires_grad=True)"
   ]
  },
  {
   "cell_type": "code",
   "execution_count": null,
   "metadata": {},
   "outputs": [],
   "source": [
    "x.grad"
   ]
  },
  {
   "cell_type": "code",
   "execution_count": null,
   "metadata": {},
   "outputs": [],
   "source": [
    "o=ourConv.forward(x2)"
   ]
  },
  {
   "cell_type": "code",
   "execution_count": null,
   "metadata": {},
   "outputs": [],
   "source": [
    "p=torchConv(x)"
   ]
  },
  {
   "cell_type": "code",
   "execution_count": null,
   "metadata": {},
   "outputs": [],
   "source": [
    "grdw=torch.rand(p.shape)"
   ]
  },
  {
   "cell_type": "code",
   "execution_count": null,
   "metadata": {},
   "outputs": [],
   "source": []
  },
  {
   "cell_type": "code",
   "execution_count": null,
   "metadata": {},
   "outputs": [],
   "source": []
  },
  {
   "cell_type": "code",
   "execution_count": null,
   "metadata": {},
   "outputs": [],
   "source": []
  },
  {
   "cell_type": "code",
   "execution_count": null,
   "metadata": {},
   "outputs": [],
   "source": [
    "\n",
    "\n",
    "p.backward(grdw)"
   ]
  },
  {
   "cell_type": "code",
   "execution_count": null,
   "metadata": {},
   "outputs": [],
   "source": []
  },
  {
   "cell_type": "code",
   "execution_count": null,
   "metadata": {},
   "outputs": [],
   "source": []
  },
  {
   "cell_type": "code",
   "execution_count": null,
   "metadata": {},
   "outputs": [],
   "source": [
    "a=ourConv.backward(grdw)"
   ]
  },
  {
   "cell_type": "code",
   "execution_count": null,
   "metadata": {},
   "outputs": [],
   "source": [
    "torch.testing.assert_allclose(a, x.grad)"
   ]
  },
  {
   "cell_type": "code",
   "execution_count": null,
   "metadata": {},
   "outputs": [],
   "source": []
  },
  {
   "cell_type": "code",
   "execution_count": null,
   "metadata": {},
   "outputs": [],
   "source": [
    "torch.testing.assert_allclose(torchConv.weight.grad,ourConv.dweights)\n"
   ]
  },
  {
   "cell_type": "code",
   "execution_count": null,
   "metadata": {},
   "outputs": [],
   "source": [
    "torch.testing.assert_allclose(torchConv.bias.grad,ourConv.dbias)"
   ]
  },
  {
   "cell_type": "code",
   "execution_count": null,
   "metadata": {},
   "outputs": [],
   "source": [
    "torchConv.bias.grad"
   ]
  },
  {
   "cell_type": "code",
   "execution_count": null,
   "metadata": {},
   "outputs": [],
   "source": [
    "ourConv.dbias"
   ]
  },
  {
   "cell_type": "markdown",
   "metadata": {
    "jp-MarkdownHeadingCollapsed": true,
    "tags": []
   },
   "source": [
    "# upsample test"
   ]
  },
  {
   "cell_type": "code",
   "execution_count": null,
   "metadata": {},
   "outputs": [],
   "source": [
    "scale_factor = 2\n",
    "loss=nn.MSELoss()\n",
    "ourUpsample = NearestUpsampling(scale_factor=scale_factor)\n",
    "torchUpsample = nn.Upsample(scale_factor = scale_factor)"
   ]
  },
  {
   "cell_type": "code",
   "execution_count": null,
   "metadata": {},
   "outputs": [],
   "source": [
    "ourOutput = ourUpsample.forward(randomStuff)\n",
    "torchOutput = torchUpsample(randomStuff)\n",
    "torch.testing.assert_allclose(torchOutput, ourOutput)"
   ]
  },
  {
   "cell_type": "code",
   "execution_count": null,
   "metadata": {},
   "outputs": [],
   "source": [
    "x=Variable(torch.rand(5*3*16).view((5,3,4,4))*1.0,requires_grad=True)"
   ]
  },
  {
   "cell_type": "code",
   "execution_count": null,
   "metadata": {},
   "outputs": [],
   "source": [
    "outp=torch.rand(5*3*8*8).view(5,3,8,8)"
   ]
  },
  {
   "cell_type": "code",
   "execution_count": null,
   "metadata": {},
   "outputs": [],
   "source": [
    "grdout=torch.rand_like(torchUpsample(x))"
   ]
  },
  {
   "cell_type": "code",
   "execution_count": null,
   "metadata": {},
   "outputs": [],
   "source": [
    "from torch.autograd import Variable"
   ]
  },
  {
   "cell_type": "code",
   "execution_count": null,
   "metadata": {},
   "outputs": [],
   "source": [
    "torchUpsample(x).backward(grdout)"
   ]
  },
  {
   "cell_type": "code",
   "execution_count": null,
   "metadata": {},
   "outputs": [],
   "source": [
    "torch.testing.assert_allclose(ourUpsample.backward(grdout),x.grad)"
   ]
  },
  {
   "cell_type": "code",
   "execution_count": null,
   "metadata": {},
   "outputs": [],
   "source": []
  },
  {
   "cell_type": "code",
   "execution_count": null,
   "metadata": {},
   "outputs": [],
   "source": []
  },
  {
   "cell_type": "markdown",
   "metadata": {
    "jp-MarkdownHeadingCollapsed": true,
    "tags": []
   },
   "source": [
    "# MSE test"
   ]
  },
  {
   "cell_type": "code",
   "execution_count": null,
   "metadata": {},
   "outputs": [],
   "source": [
    "ourMSE = MSE()\n",
    "torchMSE = nn.MSELoss()"
   ]
  },
  {
   "cell_type": "code",
   "execution_count": null,
   "metadata": {},
   "outputs": [],
   "source": [
    "x=Variable(randomStuff,requires_grad=True)"
   ]
  },
  {
   "cell_type": "code",
   "execution_count": null,
   "metadata": {},
   "outputs": [],
   "source": []
  },
  {
   "cell_type": "code",
   "execution_count": null,
   "metadata": {},
   "outputs": [],
   "source": [
    "ourOutput = ourMSE.forward(x, torch.zeros_like(x))\n",
    "torchOutput = torchMSE(x, torch.zeros_like(x))\n",
    "torch.testing.assert_allclose(torchOutput, ourOutput)"
   ]
  },
  {
   "cell_type": "code",
   "execution_count": null,
   "metadata": {},
   "outputs": [],
   "source": [
    "#test not written correctly\n",
    "ourBackward = ourMSE.backward()\n",
    "torchBackward = torchOutput.backward()\n",
    "torch.testing.assert_allclose(x.grad, ourBackward)"
   ]
  },
  {
   "cell_type": "code",
   "execution_count": null,
   "metadata": {},
   "outputs": [],
   "source": []
  },
  {
   "cell_type": "code",
   "execution_count": null,
   "metadata": {},
   "outputs": [],
   "source": []
  },
  {
   "cell_type": "markdown",
   "metadata": {
    "jp-MarkdownHeadingCollapsed": true,
    "tags": []
   },
   "source": [
    "# ReLu test"
   ]
  },
  {
   "cell_type": "code",
   "execution_count": null,
   "metadata": {},
   "outputs": [],
   "source": [
    "ourReLU = ReLU()\n",
    "torchReLU = nn.ReLU()\n",
    "x=Variable(randomStuff,requires_grad=True)"
   ]
  },
  {
   "cell_type": "code",
   "execution_count": null,
   "metadata": {},
   "outputs": [],
   "source": [
    "ourOutput = ourReLU.forward(x)\n",
    "torchOutput = torchReLU(x)\n",
    "torch.testing.assert_allclose(torchOutput, ourOutput)"
   ]
  },
  {
   "cell_type": "code",
   "execution_count": null,
   "metadata": {},
   "outputs": [],
   "source": [
    "grdout=torch.rand_like(x)"
   ]
  },
  {
   "cell_type": "code",
   "execution_count": null,
   "metadata": {},
   "outputs": [],
   "source": [
    "grdout.shape"
   ]
  },
  {
   "cell_type": "code",
   "execution_count": null,
   "metadata": {},
   "outputs": [],
   "source": [
    "torchOutput.backward(grdout)"
   ]
  },
  {
   "cell_type": "code",
   "execution_count": null,
   "metadata": {},
   "outputs": [],
   "source": [
    "torch.testing.assert_allclose(ourReLU.backward(grdout),x.grad)"
   ]
  },
  {
   "cell_type": "code",
   "execution_count": null,
   "metadata": {},
   "outputs": [],
   "source": [
    "ourReLU.backward(grdout).shape"
   ]
  },
  {
   "cell_type": "markdown",
   "metadata": {
    "jp-MarkdownHeadingCollapsed": true,
    "tags": []
   },
   "source": [
    "# sigmoid test"
   ]
  },
  {
   "cell_type": "code",
   "execution_count": null,
   "metadata": {},
   "outputs": [],
   "source": [
    "ourSigmoid = Sigmoid()\n",
    "torchSigmoid = nn.Sigmoid()\n",
    "x=Variable(randomStuff,requires_grad=True)\n",
    "grdout=torch.rand_like(x)"
   ]
  },
  {
   "cell_type": "code",
   "execution_count": null,
   "metadata": {},
   "outputs": [],
   "source": [
    "ourOutput = ourSigmoid.forward(x)\n",
    "torchOutput = torchSigmoid(x)\n",
    "torch.testing.assert_allclose(torchOutput, ourOutput)"
   ]
  },
  {
   "cell_type": "code",
   "execution_count": null,
   "metadata": {},
   "outputs": [],
   "source": [
    "grdout.shape"
   ]
  },
  {
   "cell_type": "code",
   "execution_count": null,
   "metadata": {},
   "outputs": [],
   "source": [
    "torchOutput.backward(grdout)"
   ]
  },
  {
   "cell_type": "code",
   "execution_count": null,
   "metadata": {},
   "outputs": [],
   "source": [
    "torch.testing.assert_allclose(ourSigmoid.backward(grdout),x.grad)"
   ]
  },
  {
   "cell_type": "code",
   "execution_count": null,
   "metadata": {},
   "outputs": [],
   "source": [
    "ourSigmoid.backward(grdout).shape"
   ]
  },
  {
   "cell_type": "markdown",
   "metadata": {
    "jp-MarkdownHeadingCollapsed": true,
    "tags": []
   },
   "source": [
    "# Sequential test"
   ]
  },
  {
   "cell_type": "code",
   "execution_count": null,
   "metadata": {},
   "outputs": [],
   "source": [
    "ourSequential = Sequential(ourConv, ReLU(), Sigmoid())\n",
    "torchSequential = nn.Sequential( torchConv, nn.ReLU(), nn.Sigmoid())\n",
    "x=Variable(randomStuff,requires_grad=True)"
   ]
  },
  {
   "cell_type": "code",
   "execution_count": null,
   "metadata": {},
   "outputs": [],
   "source": [
    "ourSequential = Sequential(ourConv)\n",
    "torchSequential = nn.Sequential( torchConv)\n",
    "x=Variable(randomStuff,requires_grad=True)"
   ]
  },
  {
   "cell_type": "code",
   "execution_count": null,
   "metadata": {},
   "outputs": [],
   "source": [
    "ourOutput = ourSequential.forward(x)\n",
    "torchOutput = torchSequential(x)\n",
    "torch.testing.assert_allclose(torchOutput, ourOutput)"
   ]
  },
  {
   "cell_type": "code",
   "execution_count": null,
   "metadata": {},
   "outputs": [],
   "source": [
    "grdout=torch.rand_like(ourOutput)"
   ]
  },
  {
   "cell_type": "code",
   "execution_count": null,
   "metadata": {},
   "outputs": [],
   "source": [
    "torchOutput.backward(grdout)"
   ]
  },
  {
   "cell_type": "code",
   "execution_count": null,
   "metadata": {},
   "outputs": [],
   "source": [
    "grdout.shape"
   ]
  },
  {
   "cell_type": "code",
   "execution_count": null,
   "metadata": {},
   "outputs": [],
   "source": [
    "ourSequential.backward(grdout)"
   ]
  },
  {
   "cell_type": "code",
   "execution_count": null,
   "metadata": {},
   "outputs": [],
   "source": [
    "stuff=ourConv.dweights"
   ]
  },
  {
   "cell_type": "code",
   "execution_count": null,
   "metadata": {},
   "outputs": [],
   "source": [
    "torch.testing.assert_allclose(torchConv.weight.grad,stuff)"
   ]
  },
  {
   "cell_type": "code",
   "execution_count": null,
   "metadata": {},
   "outputs": [],
   "source": [
    "torch.testing.assert_allclose(torchConv.bias.grad,ourConv.dbias)"
   ]
  },
  {
   "cell_type": "code",
   "execution_count": null,
   "metadata": {},
   "outputs": [],
   "source": []
  },
  {
   "cell_type": "code",
   "execution_count": null,
   "metadata": {},
   "outputs": [],
   "source": []
  },
  {
   "cell_type": "markdown",
   "metadata": {},
   "source": [
    "# Full model"
   ]
  },
  {
   "cell_type": "code",
   "execution_count": 2,
   "metadata": {},
   "outputs": [
    {
     "data": {
      "text/plain": [
       "<torch.autograd.grad_mode.set_grad_enabled at 0x19b8bf56940>"
      ]
     },
     "execution_count": 2,
     "metadata": {},
     "output_type": "execute_result"
    }
   ],
   "source": [
    "torch.set_grad_enabled(False)"
   ]
  },
  {
   "cell_type": "code",
   "execution_count": 3,
   "metadata": {},
   "outputs": [],
   "source": [
    "noisy_imgs_1, noisy_imgs_2 = torch.load('../data/train_data.pkl') #pairs of images with different noises each time\n",
    "val_noisy_imgs, clean_imgs = torch.load('../data/val_data.pkl')\n",
    "val_noisy_imgs = val_noisy_imgs\n",
    "clean_imgs = clean_imgs\n",
    "train_input, train_target = ((noisy_imgs_1/255.0)), ((noisy_imgs_2/255.0))\n"
   ]
  },
  {
   "cell_type": "code",
   "execution_count": 4,
   "metadata": {},
   "outputs": [],
   "source": [
    "val_imgs_during_training = val_noisy_imgs[800:]\n",
    "clean_imgs_during_training = clean_imgs[800:]"
   ]
  },
  {
   "cell_type": "code",
   "execution_count": 5,
   "metadata": {},
   "outputs": [],
   "source": [
    "def psnr ( denoised , ground_truth ) :\n",
    "    # Peak Signal to Noise Ratio : denoised and ground_truth have range [0 , 1]\n",
    "    mse = torch . mean (( denoised - ground_truth ) ** 2)\n",
    "    return -10 * torch . log10 ( mse + 10** -8)\n",
    "\n",
    "def validation_check(model):\n",
    "    with torch.no_grad():\n",
    "        denoised = ((model(val_imgs_during_training/255)))\n",
    "        avg_psnr = 0\n",
    "        for i in range(200) :\n",
    "             avg_psnr += psnr(denoised[i], clean_imgs_during_training[i]/255)\n",
    "        return avg_psnr/200"
   ]
  },
  {
   "cell_type": "code",
   "execution_count": null,
   "metadata": {},
   "outputs": [],
   "source": []
  },
  {
   "cell_type": "code",
   "execution_count": 6,
   "metadata": {},
   "outputs": [],
   "source": [
    "kernel = 3\n",
    "stride = 2\n",
    "        \n",
    "model = Sequential(\n",
    "    Conv2d(3,48,kernel,stride),\n",
    "    ReLU(),\n",
    "    Conv2d(48,48,kernel,stride),\n",
    "    ReLU(),\n",
    "    Conv2d(48,48,kernel,stride = 1, padding = 2),\n",
    "    NNUpsampling(scale_factor = 2),\n",
    "    Conv2d(48,24,kernel,stride = 1,),\n",
    "    ReLU(),\n",
    "    Conv2d(24,24,kernel,stride = 1, padding = 2),\n",
    "    NNUpsampling(scale_factor = 2),\n",
    "    Conv2d(24,24,kernel,stride = 1,),\n",
    "    Conv2d(24,3,kernel,stride = 1,),\n",
    "    Sigmoid()\n",
    ")"
   ]
  },
  {
   "cell_type": "code",
   "execution_count": 7,
   "metadata": {},
   "outputs": [],
   "source": [
    "optimizer = SGD(model.params(), lr = 0.15)"
   ]
  },
  {
   "cell_type": "code",
   "execution_count": 8,
   "metadata": {},
   "outputs": [],
   "source": [
    "loss = MSE()"
   ]
  },
  {
   "cell_type": "code",
   "execution_count": 9,
   "metadata": {},
   "outputs": [],
   "source": [
    "import time"
   ]
  },
  {
   "cell_type": "code",
   "execution_count": 10,
   "metadata": {},
   "outputs": [
    {
     "name": "stdout",
     "output_type": "stream",
     "text": [
      "0\n",
      "tensor(17.5452)\n",
      "epoch time : 302.97255182266235\n",
      "1\n",
      "tensor(19.2766)\n",
      "epoch time : 307.9238667488098\n",
      "2\n",
      "tensor(19.8543)\n",
      "epoch time : 310.88910460472107\n",
      "3\n",
      "tensor(20.7399)\n",
      "epoch time : 312.2520868778229\n",
      "4\n",
      "tensor(21.1539)\n",
      "epoch time : 322.1563529968262\n",
      "5\n",
      "tensor(21.2533)\n",
      "epoch time : 322.1631512641907\n",
      "6\n",
      "tensor(21.3077)\n",
      "epoch time : 301.1667289733887\n",
      "7\n",
      "tensor(21.4302)\n",
      "epoch time : 312.9112026691437\n",
      "8\n",
      "tensor(21.4753)\n",
      "epoch time : 354.9637134075165\n",
      "9\n",
      "tensor(21.5912)\n",
      "epoch time : 343.8578779697418\n",
      "10\n",
      "tensor(21.7387)\n",
      "epoch time : 330.95810747146606\n",
      "11\n",
      "tensor(21.6489)\n",
      "epoch time : 333.10935711860657\n",
      "12\n",
      "tensor(21.7995)\n",
      "epoch time : 333.98378109931946\n",
      "13\n",
      "tensor(21.8751)\n",
      "epoch time : 335.01853704452515\n",
      "14\n",
      "tensor(21.8754)\n",
      "epoch time : 332.8360061645508\n"
     ]
    }
   ],
   "source": [
    "epochs = 15\n",
    "batch_size = 32\n",
    "\n",
    "for e in range(epochs):\n",
    "    t = time.time()\n",
    "    \n",
    "    for b in range(0, len(train_input), batch_size):\n",
    "        optimizer.zero_grad()\n",
    "        data = train_input[b:b+batch_size]\n",
    "        target = train_target[b:b+batch_size]\n",
    "        output=loss(model(data),target)\n",
    "        model.backward(loss.backward())\n",
    "        optimizer.step()\n",
    "        \n",
    "    val = validation_check(model)\n",
    "    print(e)\n",
    "    print(val)\n",
    "    print(\"epoch time : \" + str(time.time() - t))"
   ]
  },
  {
   "cell_type": "code",
   "execution_count": 11,
   "metadata": {},
   "outputs": [],
   "source": [
    "import pickle\n",
    "pickle.dump(model,open('bestmodel.pth','wb'))"
   ]
  },
  {
   "cell_type": "code",
   "execution_count": 12,
   "metadata": {},
   "outputs": [],
   "source": [
    "test=pickle.load(open('bestmodel.pth','rb'))"
   ]
  },
  {
   "cell_type": "code",
   "execution_count": 13,
   "metadata": {},
   "outputs": [
    {
     "data": {
      "text/plain": [
       "tensor(21.8754)"
      ]
     },
     "execution_count": 13,
     "metadata": {},
     "output_type": "execute_result"
    }
   ],
   "source": [
    "validation_check(test)"
   ]
  },
  {
   "cell_type": "code",
   "execution_count": null,
   "metadata": {},
   "outputs": [],
   "source": []
  }
 ],
 "metadata": {
  "kernelspec": {
   "display_name": "Python 3",
   "language": "python",
   "name": "python3"
  },
  "language_info": {
   "codemirror_mode": {
    "name": "ipython",
    "version": 3
   },
   "file_extension": ".py",
   "mimetype": "text/x-python",
   "name": "python",
   "nbconvert_exporter": "python",
   "pygments_lexer": "ipython3",
   "version": "3.8.3"
  }
 },
 "nbformat": 4,
 "nbformat_minor": 5
}
