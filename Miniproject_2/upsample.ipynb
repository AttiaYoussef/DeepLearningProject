{
 "cells": [
  {
   "cell_type": "code",
   "execution_count": 88,
   "id": "773315fe",
   "metadata": {},
   "outputs": [],
   "source": [
    "import torch\n",
    "import time"
   ]
  },
  {
   "cell_type": "code",
   "execution_count": 89,
   "id": "53a9e628",
   "metadata": {},
   "outputs": [],
   "source": [
    "def upsample(x, scale):\n",
    "    return x.repeat_interleave(scale, dim=2).repeat_interleave(scale, dim=3)"
   ]
  },
  {
   "cell_type": "code",
   "execution_count": 90,
   "id": "ae7306fe",
   "metadata": {},
   "outputs": [],
   "source": [
    "x = torch.arange(64).reshape(1, 2, 8, 4)*1.00"
   ]
  },
  {
   "cell_type": "code",
   "execution_count": 91,
   "id": "4ee13ecf",
   "metadata": {},
   "outputs": [],
   "source": [
    "u = upsample(x, 2)"
   ]
  },
  {
   "cell_type": "code",
   "execution_count": 92,
   "id": "bab067ae",
   "metadata": {},
   "outputs": [],
   "source": [
    "def downsample(y , scale):\n",
    "    return torch.mean(torch.stack([y[:,:,i::scale,i::scale] for i in range(scale)]), axis=0)"
   ]
  },
  {
   "cell_type": "code",
   "execution_count": 93,
   "id": "21713926",
   "metadata": {
    "scrolled": true
   },
   "outputs": [
    {
     "name": "stdout",
     "output_type": "stream",
     "text": [
      "torch.Size([2, 1, 2, 8, 4])\n"
     ]
    }
   ],
   "source": [
    "d = downsample(u, 2)"
   ]
  },
  {
   "cell_type": "code",
   "execution_count": 36,
   "id": "a0abdbc3",
   "metadata": {},
   "outputs": [],
   "source": [
    "def backward( self , gradwrtoutput ):\n",
    "    gradwrtinput= downsample(gradwrtoutput,scale)\n",
    "    return gradwrtinput"
   ]
  },
  {
   "cell_type": "code",
   "execution_count": null,
   "id": "14533c2d",
   "metadata": {},
   "outputs": [],
   "source": []
  }
 ],
 "metadata": {
  "kernelspec": {
   "display_name": "Python 3",
   "language": "python",
   "name": "python3"
  },
  "language_info": {
   "codemirror_mode": {
    "name": "ipython",
    "version": 3
   },
   "file_extension": ".py",
   "mimetype": "text/x-python",
   "name": "python",
   "nbconvert_exporter": "python",
   "pygments_lexer": "ipython3",
   "version": "3.8.8"
  }
 },
 "nbformat": 4,
 "nbformat_minor": 5
}
