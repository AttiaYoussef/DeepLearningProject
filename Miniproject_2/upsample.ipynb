{
 "cells": [
  {
   "cell_type": "code",
   "execution_count": null,
   "id": "773315fe",
   "metadata": {},
   "outputs": [],
   "source": [
    "import torch\n",
    "import time\n",
    "from model import *"
   ]
  },
  {
   "cell_type": "code",
   "execution_count": null,
   "id": "4ec71418-736c-4202-b5dd-e848ac71ffff",
   "metadata": {},
   "outputs": [],
   "source": [
    "class Upsampling(Module):\n",
    "    def __init__(self,in_channels, out_channels, kernel_size, dilation=1, padding=0, scale_factor=1 , stride=1):\n",
    "        self.conv=Conv2d(in_channels,out_channels,kernel_size, dilation, padding,stride)\n",
    "        self.nn=NNUpsampling(scale_factor)\n",
    "    def forward(self,input):\n",
    "        return self.conv(self.nn(input))\n",
    "    def backward(self,grad_wrt_output):\n",
    "        return self.nn.backward(self.conv.backward(grad_wrt_output))\n",
    "        \n",
    "        "
   ]
  }
 ],
 "metadata": {
  "kernelspec": {
   "display_name": "Python 3 (ipykernel)",
   "language": "python",
   "name": "python3"
  },
  "language_info": {
   "codemirror_mode": {
    "name": "ipython",
    "version": 3
   },
   "file_extension": ".py",
   "mimetype": "text/x-python",
   "name": "python",
   "nbconvert_exporter": "python",
   "pygments_lexer": "ipython3",
   "version": "3.9.7"
  }
 },
 "nbformat": 4,
 "nbformat_minor": 5
}
