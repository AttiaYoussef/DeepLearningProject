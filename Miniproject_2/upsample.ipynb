{
 "cells": [
  {
   "cell_type": "code",
   "execution_count": 1,
   "id": "773315fe",
   "metadata": {},
   "outputs": [],
   "source": [
    "import torch"
   ]
  },
  {
   "cell_type": "code",
   "execution_count": 2,
   "id": "53a9e628",
   "metadata": {},
   "outputs": [],
   "source": [
    "def upsample(x, scale):\n",
    "    y=torch.empty((1,x.size(1),scale*x.size(2),scale*x.size(3)))\n",
    "    print (y.shape)\n",
    "    for i in range (x.size(3)):\n",
    "        for j in range (x.size(2)):\n",
    "            for k in range (0,x.size(1)):\n",
    "                \n",
    "                y[0,k,j*scale:j*scale+scale,i*scale:i*scale+scale]=x[0,k,j,i]\n",
    "               \n",
    "                \n",
    "    \n",
    "    \n",
    "    return y"
   ]
  },
  {
   "cell_type": "code",
   "execution_count": 3,
   "id": "bab067ae",
   "metadata": {},
   "outputs": [],
   "source": [
    "def downsample(y , scale):\n",
    "    \n",
    "    x=torch.empty((1,y.size(1),int(y.size(2)/scale),int(y.size(3)/scale)))\n",
    "   \n",
    "    for i in range (x.size(3)):\n",
    "        for j in range (x.size(2)):\n",
    "            for k in range (0,x.size(1)):\n",
    "                x[0,k,j,i]=y[0,k,j*scale,i*scale]\n",
    "    return x\n",
    "    "
   ]
  },
  {
   "cell_type": "code",
   "execution_count": 3,
   "id": "a0abdbc3",
   "metadata": {},
   "outputs": [],
   "source": [
    "def backward( self , gradwrtoutput ):\n",
    "    gradwrtinput= downsample(gradwrtoutput,scale)\n",
    "    return gradwrtinput*scale^2"
   ]
  },
  {
   "cell_type": "code",
   "execution_count": null,
   "id": "14533c2d",
   "metadata": {},
   "outputs": [],
   "source": []
  }
 ],
 "metadata": {
  "kernelspec": {
   "display_name": "Python 3 (ipykernel)",
   "language": "python",
   "name": "python3"
  },
  "language_info": {
   "codemirror_mode": {
    "name": "ipython",
    "version": 3
   },
   "file_extension": ".py",
   "mimetype": "text/x-python",
   "name": "python",
   "nbconvert_exporter": "python",
   "pygments_lexer": "ipython3",
   "version": "3.9.7"
  }
 },
 "nbformat": 4,
 "nbformat_minor": 5
}
