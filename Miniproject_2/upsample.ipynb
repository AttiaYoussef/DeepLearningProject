{
 "cells": [
  {
   "cell_type": "code",
   "execution_count": 5,
   "id": "773315fe",
   "metadata": {},
   "outputs": [],
   "source": [
    "import torch\n",
    "import time"
   ]
  },
  {
   "cell_type": "code",
   "execution_count": 2,
   "id": "4a339985-740e-40d6-88a9-0cfb389f37c5",
   "metadata": {},
   "outputs": [
    {
     "ename": "SyntaxError",
     "evalue": "invalid syntax (<ipython-input-2-64ead37769d2>, line 1)",
     "output_type": "error",
     "traceback": [
      "\u001b[1;36m  File \u001b[1;32m\"<ipython-input-2-64ead37769d2>\"\u001b[1;36m, line \u001b[1;32m1\u001b[0m\n\u001b[1;33m    1 +\u001b[0m\n\u001b[1;37m        ^\u001b[0m\n\u001b[1;31mSyntaxError\u001b[0m\u001b[1;31m:\u001b[0m invalid syntax\n"
     ]
    }
   ],
   "source": [
    "1 + \n",
    "2"
   ]
  },
  {
   "cell_type": "code",
   "execution_count": 57,
   "id": "53a9e628",
   "metadata": {},
   "outputs": [],
   "source": [
    "def upsample(x, scale):\n",
    "    return x.repeat_interleave(scale, dim=2).repeat_interleave(scale, dim=3)"
   ]
  },
  {
   "cell_type": "code",
   "execution_count": 86,
   "id": "ae7306fe",
   "metadata": {},
   "outputs": [],
   "source": [
    "x = torch.arange(32).view(1,2,4,4).float()"
   ]
  },
  {
   "cell_type": "code",
   "execution_count": 87,
   "id": "4ee13ecf",
   "metadata": {},
   "outputs": [],
   "source": [
    "u = upsample(x, 2)"
   ]
  },
  {
   "cell_type": "code",
   "execution_count": 111,
   "id": "bab067ae",
   "metadata": {},
   "outputs": [],
   "source": [
    "def scuffed_downsample(y , scale):\n",
    "    acc=torch.zeros(1,-1,y.size(1),int(y.size(2)/scale),int(y.size(3)/scale))\n",
    "    \n",
    "    for i in range(scale):\n",
    "        for j in range(scale):\n",
    "                acc=torch.cat((acc,y[:,:,j::scale,i::scale].view(1,-1,y.size(1),int(y.size(2)/scale),int(y.size(3)/scale))),dim=0)\n",
    "           \n",
    "    \n",
    "    return acc.sum(dim=0)"
   ]
  },
  {
   "cell_type": "code",
   "execution_count": 112,
   "id": "21713926",
   "metadata": {
    "scrolled": true
   },
   "outputs": [],
   "source": [
    "d=scuffed_downsample(u,2)"
   ]
  },
  {
   "cell_type": "code",
   "execution_count": 113,
   "id": "52abf6aa",
   "metadata": {},
   "outputs": [
    {
     "data": {
      "text/plain": [
       "tensor([[[[  0.,   4.,   8.,  12.],\n",
       "          [ 16.,  20.,  24.,  28.],\n",
       "          [ 32.,  36.,  40.,  44.],\n",
       "          [ 48.,  52.,  56.,  60.]],\n",
       "\n",
       "         [[ 64.,  68.,  72.,  76.],\n",
       "          [ 80.,  84.,  88.,  92.],\n",
       "          [ 96., 100., 104., 108.],\n",
       "          [112., 116., 120., 124.]]]])"
      ]
     },
     "execution_count": 113,
     "metadata": {},
     "output_type": "execute_result"
    }
   ],
   "source": [
    "d"
   ]
  },
  {
   "cell_type": "code",
   "execution_count": 62,
   "id": "a0abdbc3",
   "metadata": {},
   "outputs": [],
   "source": [
    "def backward( self , gradwrtoutput ):\n",
    "    gradwrtinput= scuffed_downsample(gradwrtoutput,scale)\n",
    "    return gradwrtinput"
   ]
  },
  {
   "cell_type": "code",
   "execution_count": 55,
   "id": "14533c2d",
   "metadata": {},
   "outputs": [
    {
     "ename": "TypeError",
     "evalue": "zeros(): argument 'size' must be tuple of ints, but found element of type float at pos 4",
     "output_type": "error",
     "traceback": [
      "\u001b[1;31m---------------------------------------------------------------------------\u001b[0m",
      "\u001b[1;31mTypeError\u001b[0m                                 Traceback (most recent call last)",
      "\u001b[1;32m~\\AppData\\Local\\Temp/ipykernel_22128/3312209298.py\u001b[0m in \u001b[0;36m<module>\u001b[1;34m\u001b[0m\n\u001b[1;32m----> 1\u001b[1;33m \u001b[0macc\u001b[0m\u001b[1;33m=\u001b[0m\u001b[0mtorch\u001b[0m\u001b[1;33m.\u001b[0m\u001b[0mzeros\u001b[0m\u001b[1;33m(\u001b[0m\u001b[1;36m1\u001b[0m\u001b[1;33m,\u001b[0m\u001b[1;36m1\u001b[0m\u001b[1;33m,\u001b[0m\u001b[1;36m1\u001b[0m\u001b[1;33m,\u001b[0m\u001b[1;36m8\u001b[0m\u001b[1;33m/\u001b[0m\u001b[1;36m2\u001b[0m\u001b[1;33m,\u001b[0m\u001b[1;36m4\u001b[0m\u001b[1;33m)\u001b[0m\u001b[1;33m\u001b[0m\u001b[1;33m\u001b[0m\u001b[0m\n\u001b[0m",
      "\u001b[1;31mTypeError\u001b[0m: zeros(): argument 'size' must be tuple of ints, but found element of type float at pos 4"
     ]
    }
   ],
   "source": [
    "acc=torch.zeros(1,1,1,4,4)"
   ]
  },
  {
   "cell_type": "code",
   "execution_count": 54,
   "id": "865844c3",
   "metadata": {},
   "outputs": [],
   "source": [
    "for i in range(2):\n",
    "    for j in range(2): \n",
    "        torch.cat((acc,u[:,:,j::2,i::2].view(1,1,1,4,4)),dim=0 )"
   ]
  },
  {
   "cell_type": "code",
   "execution_count": 52,
   "id": "f183e81c",
   "metadata": {},
   "outputs": [
    {
     "data": {
      "text/plain": [
       "tensor([[[[[ 0.,  1.,  2.,  3.],\n",
       "           [ 4.,  5.,  6.,  7.],\n",
       "           [ 8.,  9., 10., 11.],\n",
       "           [12., 13., 14., 15.]]]]])"
      ]
     },
     "execution_count": 52,
     "metadata": {},
     "output_type": "execute_result"
    }
   ],
   "source": [
    "u[:,:,0::2,0::2].view(1,1,1,4,4)"
   ]
  },
  {
   "cell_type": "code",
   "execution_count": 42,
   "id": "74f7d5b2",
   "metadata": {},
   "outputs": [
    {
     "data": {
      "text/plain": [
       "range(0, 2)"
      ]
     },
     "execution_count": 42,
     "metadata": {},
     "output_type": "execute_result"
    }
   ],
   "source": [
    "range(2)"
   ]
  },
  {
   "cell_type": "code",
   "execution_count": 63,
   "id": "e91e4292",
   "metadata": {},
   "outputs": [
    {
     "data": {
      "text/plain": [
       "tensor([[[[ 0.,  2.,  4.,  6.],\n",
       "          [ 8., 10., 12., 14.],\n",
       "          [16., 18., 20., 22.],\n",
       "          [24., 26., 28., 30.]]]])"
      ]
     },
     "execution_count": 63,
     "metadata": {},
     "output_type": "execute_result"
    }
   ],
   "source": [
    "d"
   ]
  },
  {
   "cell_type": "code",
   "execution_count": 26,
   "id": "cf608cb5",
   "metadata": {},
   "outputs": [
    {
     "data": {
      "text/plain": [
       "torch.Size([3, 1, 1, 10, 10])"
      ]
     },
     "execution_count": 26,
     "metadata": {},
     "output_type": "execute_result"
    }
   ],
   "source": [
    "(torch.stack([u[:,:,i::3,i::3] for i in range(3)])).shape"
   ]
  }
 ],
 "metadata": {
  "kernelspec": {
   "display_name": "Python 3",
   "language": "python",
   "name": "python3"
  },
  "language_info": {
   "codemirror_mode": {
    "name": "ipython",
    "version": 3
   },
   "file_extension": ".py",
   "mimetype": "text/x-python",
   "name": "python",
   "nbconvert_exporter": "python",
   "pygments_lexer": "ipython3",
   "version": "3.8.8"
  }
 },
 "nbformat": 4,
 "nbformat_minor": 5
}
