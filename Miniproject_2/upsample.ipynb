{
 "cells": [
  {
   "cell_type": "code",
   "execution_count": 1,
   "id": "773315fe",
   "metadata": {},
   "outputs": [],
   "source": [
    "import torch\n",
    "import time"
   ]
  },
  {
   "cell_type": "code",
   "execution_count": 4,
   "id": "53a9e628",
   "metadata": {},
   "outputs": [],
   "source": [
    "def upsample(x, scale):\n",
    "    return x.repeat_interleave(scale, dim=2).repeat_interleave(scale, dim=3)"
   ]
  },
  {
   "cell_type": "code",
   "execution_count": 92,
   "id": "ae7306fe",
   "metadata": {},
   "outputs": [],
   "source": [
    "x = torch.arange(100).view(1,1,10,10)"
   ]
  },
  {
   "cell_type": "code",
   "execution_count": 93,
   "id": "4ee13ecf",
   "metadata": {},
   "outputs": [],
   "source": [
    "u = upsample(x, 3)"
   ]
  },
  {
   "cell_type": "code",
   "execution_count": 95,
   "id": "bab067ae",
   "metadata": {},
   "outputs": [],
   "source": [
    "def downsample(y , scale):\n",
    "    \n",
    "    \n",
    "    return ((y[:,:,0::scale,0::scale] ))"
   ]
  },
  {
   "cell_type": "code",
   "execution_count": 94,
   "id": "21713926",
   "metadata": {
    "scrolled": true
   },
   "outputs": [
    {
     "name": "stdout",
     "output_type": "stream",
     "text": [
      "tensor([[[[ 0,  1,  2,  3,  4,  5,  6,  7,  8,  9],\n",
      "          [10, 11, 12, 13, 14, 15, 16, 17, 18, 19],\n",
      "          [20, 21, 22, 23, 24, 25, 26, 27, 28, 29],\n",
      "          [30, 31, 32, 33, 34, 35, 36, 37, 38, 39],\n",
      "          [40, 41, 42, 43, 44, 45, 46, 47, 48, 49],\n",
      "          [50, 51, 52, 53, 54, 55, 56, 57, 58, 59],\n",
      "          [60, 61, 62, 63, 64, 65, 66, 67, 68, 69],\n",
      "          [70, 71, 72, 73, 74, 75, 76, 77, 78, 79],\n",
      "          [80, 81, 82, 83, 84, 85, 86, 87, 88, 89],\n",
      "          [90, 91, 92, 93, 94, 95, 96, 97, 98, 99]]]])\n"
     ]
    }
   ],
   "source": []
  },
  {
   "cell_type": "code",
   "execution_count": 82,
   "id": "a0abdbc3",
   "metadata": {},
   "outputs": [],
   "source": [
    "def backward( self , gradwrtoutput ):\n",
    "    gradwrtinput= downsample(gradwrtoutput,scale)\n",
    "    return gradwrtinput*scale^2"
   ]
  },
  {
   "cell_type": "code",
   "execution_count": 18,
   "id": "14533c2d",
   "metadata": {},
   "outputs": [],
   "source": []
  },
  {
   "cell_type": "code",
   "execution_count": 20,
   "id": "cd160c87",
   "metadata": {},
   "outputs": [],
   "source": []
  },
  {
   "cell_type": "code",
   "execution_count": 21,
   "id": "b6c7c5ea",
   "metadata": {},
   "outputs": [
    {
     "data": {
      "text/plain": [
       "tensor([[[[0.9723, 0.5200, 0.2680, 0.4789],\n",
       "          [0.6874, 0.9658, 0.2364, 0.4496],\n",
       "          [0.1058, 0.0309, 0.5724, 0.2376],\n",
       "          [0.7705, 0.3477, 0.9755, 0.9305]]]])"
      ]
     },
     "execution_count": 21,
     "metadata": {},
     "output_type": "execute_result"
    }
   ],
   "source": []
  },
  {
   "cell_type": "code",
   "execution_count": 38,
   "id": "f9c9c7eb",
   "metadata": {},
   "outputs": [
    {
     "ename": "TypeError",
     "evalue": "cumsum() received an invalid combination of arguments - got (), but expected one of:\n * (int dim, *, torch.dtype dtype)\n * (name dim, *, torch.dtype dtype)\n",
     "output_type": "error",
     "traceback": [
      "\u001b[1;31m---------------------------------------------------------------------------\u001b[0m",
      "\u001b[1;31mTypeError\u001b[0m                                 Traceback (most recent call last)",
      "\u001b[1;32m~\\AppData\\Local\\Temp/ipykernel_11504/3335677029.py\u001b[0m in \u001b[0;36m<module>\u001b[1;34m\u001b[0m\n\u001b[1;32m----> 1\u001b[1;33m \u001b[0mx\u001b[0m\u001b[1;33m.\u001b[0m\u001b[0mcumsum\u001b[0m\u001b[1;33m(\u001b[0m\u001b[1;33m)\u001b[0m\u001b[1;33m\u001b[0m\u001b[1;33m\u001b[0m\u001b[0m\n\u001b[0m",
      "\u001b[1;31mTypeError\u001b[0m: cumsum() received an invalid combination of arguments - got (), but expected one of:\n * (int dim, *, torch.dtype dtype)\n * (name dim, *, torch.dtype dtype)\n"
     ]
    }
   ],
   "source": []
  },
  {
   "cell_type": "code",
   "execution_count": 42,
   "id": "dd6ffeb0",
   "metadata": {},
   "outputs": [
    {
     "data": {
      "text/plain": [
       "120"
      ]
     },
     "execution_count": 42,
     "metadata": {},
     "output_type": "execute_result"
    }
   ],
   "source": []
  },
  {
   "cell_type": "code",
   "execution_count": 43,
   "id": "c20e3a13",
   "metadata": {},
   "outputs": [
    {
     "data": {
      "text/plain": [
       "tensor([[[[0.9723, 0.9723, 0.5200, 0.5200, 0.2680, 0.2680, 0.4789, 0.4789],\n",
       "          [0.9723, 0.9723, 0.5200, 0.5200, 0.2680, 0.2680, 0.4789, 0.4789],\n",
       "          [0.6874, 0.6874, 0.9658, 0.9658, 0.2364, 0.2364, 0.4496, 0.4496],\n",
       "          [0.6874, 0.6874, 0.9658, 0.9658, 0.2364, 0.2364, 0.4496, 0.4496],\n",
       "          [0.1058, 0.1058, 0.0309, 0.0309, 0.5724, 0.5724, 0.2376, 0.2376],\n",
       "          [0.1058, 0.1058, 0.0309, 0.0309, 0.5724, 0.5724, 0.2376, 0.2376],\n",
       "          [0.7705, 0.7705, 0.3477, 0.3477, 0.9755, 0.9755, 0.9305, 0.9305],\n",
       "          [0.7705, 0.7705, 0.3477, 0.3477, 0.9755, 0.9755, 0.9305, 0.9305]]]])"
      ]
     },
     "execution_count": 43,
     "metadata": {},
     "output_type": "execute_result"
    }
   ],
   "source": []
  },
  {
   "cell_type": "code",
   "execution_count": 54,
   "id": "62c37b1f",
   "metadata": {},
   "outputs": [
    {
     "ename": "RuntimeError",
     "evalue": "mean(): input dtype should be either floating point or complex dtypes. Got Long instead.",
     "output_type": "error",
     "traceback": [
      "\u001b[1;31m---------------------------------------------------------------------------\u001b[0m",
      "\u001b[1;31mRuntimeError\u001b[0m                              Traceback (most recent call last)",
      "\u001b[1;32m~\\AppData\\Local\\Temp/ipykernel_11504/3791599204.py\u001b[0m in \u001b[0;36m<module>\u001b[1;34m\u001b[0m\n\u001b[1;32m----> 1\u001b[1;33m \u001b[0mx\u001b[0m\u001b[1;33m.\u001b[0m\u001b[0mmean\u001b[0m\u001b[1;33m(\u001b[0m\u001b[1;33m)\u001b[0m\u001b[1;33m\u001b[0m\u001b[1;33m\u001b[0m\u001b[0m\n\u001b[0m",
      "\u001b[1;31mRuntimeError\u001b[0m: mean(): input dtype should be either floating point or complex dtypes. Got Long instead."
     ]
    }
   ],
   "source": []
  },
  {
   "cell_type": "code",
   "execution_count": 48,
   "id": "c418ef1b",
   "metadata": {},
   "outputs": [
    {
     "data": {
      "text/plain": [
       "torch.Tensor"
      ]
     },
     "execution_count": 48,
     "metadata": {},
     "output_type": "execute_result"
    }
   ],
   "source": []
  },
  {
   "cell_type": "code",
   "execution_count": 56,
   "id": "1017a585",
   "metadata": {},
   "outputs": [],
   "source": []
  },
  {
   "cell_type": "code",
   "execution_count": 58,
   "id": "77fd9d4c",
   "metadata": {},
   "outputs": [
    {
     "data": {
      "text/plain": [
       "tensor([[[ 0.,  1.,  2.,  3.],\n",
       "         [ 4.,  5.,  6.,  7.],\n",
       "         [ 8.,  9., 10., 11.],\n",
       "         [12., 13., 14., 15.]]], dtype=torch.float64)"
      ]
     },
     "execution_count": 58,
     "metadata": {},
     "output_type": "execute_result"
    }
   ],
   "source": []
  },
  {
   "cell_type": "code",
   "execution_count": 90,
   "id": "7d14f887",
   "metadata": {},
   "outputs": [
    {
     "name": "stdout",
     "output_type": "stream",
     "text": [
      "tensor([[[[ 0,  1,  2,  3,  4,  5],\n",
      "          [ 6,  7,  8,  9, 10, 11],\n",
      "          [12, 13, 14, 15, 16, 17],\n",
      "          [18, 19, 20, 21, 22, 23],\n",
      "          [24, 25, 26, 27, 28, 29],\n",
      "          [30, 31, 32, 33, 34, 35]]]])\n"
     ]
    }
   ],
   "source": []
  },
  {
   "cell_type": "code",
   "execution_count": 96,
   "id": "c6abf4cf",
   "metadata": {},
   "outputs": [
    {
     "data": {
      "text/plain": [
       "tensor([[[[ 0,  1,  2,  3,  4,  5,  6,  7,  8,  9],\n",
       "          [10, 11, 12, 13, 14, 15, 16, 17, 18, 19],\n",
       "          [20, 21, 22, 23, 24, 25, 26, 27, 28, 29],\n",
       "          [30, 31, 32, 33, 34, 35, 36, 37, 38, 39],\n",
       "          [40, 41, 42, 43, 44, 45, 46, 47, 48, 49],\n",
       "          [50, 51, 52, 53, 54, 55, 56, 57, 58, 59],\n",
       "          [60, 61, 62, 63, 64, 65, 66, 67, 68, 69],\n",
       "          [70, 71, 72, 73, 74, 75, 76, 77, 78, 79],\n",
       "          [80, 81, 82, 83, 84, 85, 86, 87, 88, 89],\n",
       "          [90, 91, 92, 93, 94, 95, 96, 97, 98, 99]]]])"
      ]
     },
     "execution_count": 96,
     "metadata": {},
     "output_type": "execute_result"
    }
   ],
   "source": []
  },
  {
   "cell_type": "code",
   "execution_count": 97,
   "id": "da46a363",
   "metadata": {},
   "outputs": [
    {
     "data": {
      "text/plain": [
       "tensor([[[[ 0,  1,  2,  3,  4,  5,  6,  7,  8,  9],\n",
       "          [10, 11, 12, 13, 14, 15, 16, 17, 18, 19],\n",
       "          [20, 21, 22, 23, 24, 25, 26, 27, 28, 29],\n",
       "          [30, 31, 32, 33, 34, 35, 36, 37, 38, 39],\n",
       "          [40, 41, 42, 43, 44, 45, 46, 47, 48, 49],\n",
       "          [50, 51, 52, 53, 54, 55, 56, 57, 58, 59],\n",
       "          [60, 61, 62, 63, 64, 65, 66, 67, 68, 69],\n",
       "          [70, 71, 72, 73, 74, 75, 76, 77, 78, 79],\n",
       "          [80, 81, 82, 83, 84, 85, 86, 87, 88, 89],\n",
       "          [90, 91, 92, 93, 94, 95, 96, 97, 98, 99]]]])"
      ]
     },
     "execution_count": 97,
     "metadata": {},
     "output_type": "execute_result"
    }
   ],
   "source": [
    "x"
   ]
  },
  {
   "cell_type": "code",
   "execution_count": 76,
   "id": "80560583",
   "metadata": {},
   "outputs": [
    {
     "data": {
      "text/plain": [
       "torch.Size([2, 1, 1, 4, 4])"
      ]
     },
     "execution_count": 76,
     "metadata": {},
     "output_type": "execute_result"
    }
   ],
   "source": []
  },
  {
   "cell_type": "code",
   "execution_count": 77,
   "id": "f865ab84",
   "metadata": {},
   "outputs": [
    {
     "ename": "AttributeError",
     "evalue": "'Tensor' object has no attribute 'cat'",
     "output_type": "error",
     "traceback": [
      "\u001b[1;31m---------------------------------------------------------------------------\u001b[0m",
      "\u001b[1;31mAttributeError\u001b[0m                            Traceback (most recent call last)",
      "\u001b[1;32m~\\AppData\\Local\\Temp/ipykernel_11504/728503139.py\u001b[0m in \u001b[0;36m<module>\u001b[1;34m\u001b[0m\n\u001b[1;32m----> 1\u001b[1;33m \u001b[0mx\u001b[0m\u001b[1;33m.\u001b[0m\u001b[0mcat\u001b[0m\u001b[1;33m(\u001b[0m\u001b[0mx\u001b[0m\u001b[1;33m)\u001b[0m\u001b[1;33m\u001b[0m\u001b[1;33m\u001b[0m\u001b[0m\n\u001b[0m",
      "\u001b[1;31mAttributeError\u001b[0m: 'Tensor' object has no attribute 'cat'"
     ]
    }
   ],
   "source": []
  },
  {
   "cell_type": "code",
   "execution_count": null,
   "id": "aaf4c4bb",
   "metadata": {},
   "outputs": [],
   "source": []
  }
 ],
 "metadata": {
  "kernelspec": {
   "display_name": "Python 3 (ipykernel)",
   "language": "python",
   "name": "python3"
  },
  "language_info": {
   "codemirror_mode": {
    "name": "ipython",
    "version": 3
   },
   "file_extension": ".py",
   "mimetype": "text/x-python",
   "name": "python",
   "nbconvert_exporter": "python",
   "pygments_lexer": "ipython3",
   "version": "3.9.7"
  }
 },
 "nbformat": 4,
 "nbformat_minor": 5
}
