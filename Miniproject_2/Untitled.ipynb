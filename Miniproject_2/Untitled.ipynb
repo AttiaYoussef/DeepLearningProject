{
 "cells": [
  {
   "cell_type": "code",
   "execution_count": 1,
   "id": "b9d1d171-b5ee-464e-b587-98e8b0d9301a",
   "metadata": {},
   "outputs": [],
   "source": [
    "from others.module import *\n",
    "import torch\n",
    "import torch.nn as nn"
   ]
  },
  {
   "cell_type": "code",
   "execution_count": 2,
   "id": "5e4b10d9-2e83-4902-a8c5-b1b3fad03603",
   "metadata": {},
   "outputs": [],
   "source": [
    "randomStuff = torch.arange(1024).reshape([-1, 2, 16, 16])*1.0"
   ]
  },
  {
   "cell_type": "markdown",
   "id": "3abcf682-2e5b-4cbc-bafb-f26ad5526dae",
   "metadata": {},
   "source": [
    "# conv test"
   ]
  },
  {
   "cell_type": "code",
   "execution_count": 3,
   "id": "a454c149-4132-4b69-b565-4a0ec5cdbfa9",
   "metadata": {},
   "outputs": [],
   "source": [
    "kernel = 3\n",
    "stride = 1\n",
    "padding = 2\n",
    "in_channels = 2\n",
    "out_channels = 4\n",
    "\n",
    "ourConv = Conv2d(in_channels, out_channels, kernel, stride, padding)\n",
    "torchConv = nn.Conv2d(in_channels, out_channels, kernel, stride, padding)"
   ]
  },
  {
   "cell_type": "code",
   "execution_count": 4,
   "id": "a0991cfd-1110-4ba8-86cf-fdbe724cedf2",
   "metadata": {},
   "outputs": [],
   "source": [
    "ourConv.weights = torchConv.weight\n",
    "ourConv.bias = torchConv.bias"
   ]
  },
  {
   "cell_type": "code",
   "execution_count": 5,
   "id": "079de2cd-3cb7-4e95-85ad-9ed0482a2d1d",
   "metadata": {},
   "outputs": [],
   "source": [
    "ourOutput = ourConv.forward(randomStuff)\n",
    "torchOutput = torchConv(randomStuff)\n",
    "torch.testing.assert_allclose(torchOutput, ourOutput)"
   ]
  },
  {
   "cell_type": "markdown",
   "id": "6c248653-5854-4e41-8c62-5de1d68f5396",
   "metadata": {},
   "source": [
    "# upsample test"
   ]
  },
  {
   "cell_type": "code",
   "execution_count": 6,
   "id": "8edb7405-f92b-4a2f-8ac4-e1d76960285b",
   "metadata": {},
   "outputs": [],
   "source": [
    "scale_factor = 3\n",
    "\n",
    "ourUpsample = Upsample(scale_factor=scale_factor)\n",
    "torchUpsample = nn.Upsample(scale_factor = scale_factor)"
   ]
  },
  {
   "cell_type": "code",
   "execution_count": 7,
   "id": "422a04dc-b614-4b6e-876f-7a0ee662e619",
   "metadata": {},
   "outputs": [],
   "source": [
    "ourOutput = ourUpsample.forward(randomStuff)\n",
    "torchOutput = torchUpsample(randomStuff)\n",
    "torch.testing.assert_allclose(torchOutput, ourOutput)"
   ]
  },
  {
   "cell_type": "code",
   "execution_count": null,
   "id": "c21ad3ce-cd62-49b7-ac67-3da018508e38",
   "metadata": {},
   "outputs": [],
   "source": []
  },
  {
   "cell_type": "code",
   "execution_count": null,
   "id": "95760476-f455-4c45-923b-95fd3f33eb61",
   "metadata": {},
   "outputs": [],
   "source": []
  },
  {
   "cell_type": "markdown",
   "id": "8b715681-14cb-46da-935a-607bd05eaaba",
   "metadata": {},
   "source": [
    "# MSE test"
   ]
  },
  {
   "cell_type": "code",
   "execution_count": null,
   "id": "9655e1f8-9d93-471e-a225-9ec864e09b48",
   "metadata": {},
   "outputs": [],
   "source": []
  },
  {
   "cell_type": "markdown",
   "id": "30d766c0-7172-4b5d-989e-b6655e715781",
   "metadata": {},
   "source": [
    "# ReLu test"
   ]
  },
  {
   "cell_type": "code",
   "execution_count": null,
   "id": "749800ce-cfb0-44c7-82f2-bfb108103bed",
   "metadata": {},
   "outputs": [],
   "source": []
  },
  {
   "cell_type": "markdown",
   "id": "0bba15b0-8dbc-44d6-bb76-c54eb2e96727",
   "metadata": {},
   "source": [
    "# sigmoid test"
   ]
  },
  {
   "cell_type": "code",
   "execution_count": null,
   "id": "eb1df783-5501-4cd1-bfc0-d64a4db9c074",
   "metadata": {},
   "outputs": [],
   "source": []
  },
  {
   "cell_type": "markdown",
   "id": "68f19fa7-7383-4f16-a763-f8a13216f464",
   "metadata": {},
   "source": [
    "# Sequential test"
   ]
  },
  {
   "cell_type": "code",
   "execution_count": null,
   "id": "28170a84-9855-4deb-9215-21e2e496190e",
   "metadata": {},
   "outputs": [],
   "source": []
  }
 ],
 "metadata": {
  "kernelspec": {
   "display_name": "Python 3",
   "language": "python",
   "name": "python3"
  },
  "language_info": {
   "codemirror_mode": {
    "name": "ipython",
    "version": 3
   },
   "file_extension": ".py",
   "mimetype": "text/x-python",
   "name": "python",
   "nbconvert_exporter": "python",
   "pygments_lexer": "ipython3",
   "version": "3.8.8"
  }
 },
 "nbformat": 4,
 "nbformat_minor": 5
}
