{
 "cells": [
  {
   "cell_type": "code",
   "execution_count": 1,
   "id": "79f460a9-a534-4c0d-a269-6faa029b8251",
   "metadata": {},
   "outputs": [],
   "source": [
    "import torch\n",
    "import numpy as np"
   ]
  },
  {
   "cell_type": "code",
   "execution_count": 2,
   "id": "0d30ace4-2b50-4f4f-809d-85a113344b62",
   "metadata": {},
   "outputs": [],
   "source": [
    "x = torch.tensor(np.array([[0,1,-1],[78,-2,5]])).float()\n",
    "x[x<=0] = 0"
   ]
  },
  {
   "cell_type": "code",
   "execution_count": 3,
   "id": "a44721ba-02f3-41b7-bef0-06f86ef777ef",
   "metadata": {},
   "outputs": [],
   "source": [
    "r = x.clone()"
   ]
  },
  {
   "cell_type": "code",
   "execution_count": 4,
   "id": "e4ac4f54-2431-41d8-815b-23c583f0b389",
   "metadata": {},
   "outputs": [],
   "source": [
    "r[0][0] = -1"
   ]
  },
  {
   "cell_type": "code",
   "execution_count": 12,
   "id": "e0602831-1657-4066-a9db-fdac84d81432",
   "metadata": {},
   "outputs": [
    {
     "data": {
      "text/plain": [
       "tensor(0.1667)"
      ]
     },
     "execution_count": 12,
     "metadata": {},
     "output_type": "execute_result"
    }
   ],
   "source": [
    "((x - r)**2).mean()"
   ]
  },
  {
   "cell_type": "code",
   "execution_count": 39,
   "id": "f6e90696-0337-45e7-8d1d-c2c7635915ac",
   "metadata": {},
   "outputs": [],
   "source": [
    "mask = torch.empty((4,4)).fill_(0)\n",
    "s = torch.empty((4,4)).normal_()"
   ]
  },
  {
   "cell_type": "code",
   "execution_count": 43,
   "id": "305a0d10-b000-46d4-a5e8-33a5f47c73cb",
   "metadata": {},
   "outputs": [],
   "source": [
    "mask[s>=0] = 1"
   ]
  },
  {
   "cell_type": "code",
   "execution_count": 44,
   "id": "95bdd2f0-d9b3-49b7-aaaf-8cb6e40d4003",
   "metadata": {},
   "outputs": [
    {
     "data": {
      "text/plain": [
       "tensor([[-2.7973e+00, -2.0436e+00,  9.1782e-01,  7.6174e-01],\n",
       "        [-1.7902e+00, -4.5888e-02,  7.1191e-01, -1.2846e+00],\n",
       "        [ 2.5902e-02, -1.4443e-03, -5.7944e-02,  4.6965e-01],\n",
       "        [-1.4914e+00, -8.2760e-01, -4.9944e-01, -8.0932e-01]])"
      ]
     },
     "execution_count": 44,
     "metadata": {},
     "output_type": "execute_result"
    }
   ],
   "source": [
    "s"
   ]
  },
  {
   "cell_type": "code",
   "execution_count": 47,
   "id": "ef441c7e-c4fb-48de-b47c-2b17495711d7",
   "metadata": {},
   "outputs": [
    {
     "data": {
      "text/plain": [
       "tensor([[-0.0000, -0.0000, 0.9178, 0.7617],\n",
       "        [-0.0000, -0.0000, 0.7119, -0.0000],\n",
       "        [0.0259, -0.0000, -0.0000, 0.4697],\n",
       "        [-0.0000, -0.0000, -0.0000, -0.0000]])"
      ]
     },
     "execution_count": 47,
     "metadata": {},
     "output_type": "execute_result"
    }
   ],
   "source": [
    "mask * s"
   ]
  },
  {
   "cell_type": "code",
   "execution_count": null,
   "id": "39c608c9-a6a8-4999-9120-c5f6b1eb75a7",
   "metadata": {},
   "outputs": [],
   "source": []
  }
 ],
 "metadata": {
  "kernelspec": {
   "display_name": "Python 3 (ipykernel)",
   "language": "python",
   "name": "python3"
  },
  "language_info": {
   "codemirror_mode": {
    "name": "ipython",
    "version": 3
   },
   "file_extension": ".py",
   "mimetype": "text/x-python",
   "name": "python",
   "nbconvert_exporter": "python",
   "pygments_lexer": "ipython3",
   "version": "3.7.3"
  }
 },
 "nbformat": 4,
 "nbformat_minor": 5
}
