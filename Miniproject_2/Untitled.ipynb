{
 "cells": [
  {
   "cell_type": "code",
   "execution_count": 1,
   "id": "2a36b7c6-f171-474b-b446-1b2b049e413e",
   "metadata": {},
   "outputs": [],
   "source": [
    "from others import module"
   ]
  },
  {
   "cell_type": "code",
   "execution_count": 2,
   "id": "9cb44cb7-c124-4c18-8238-fa50f12418e3",
   "metadata": {},
   "outputs": [],
   "source": [
    "import torch"
   ]
  },
  {
   "cell_type": "code",
   "execution_count": 5,
   "id": "6b672f74-f9ca-4408-9394-b58025f69072",
   "metadata": {},
   "outputs": [],
   "source": [
    "in_channels = 3\n",
    "x = torch.randn((100, in_channels, 32, 32))\n",
    "y = torch.randn((100, in_channels, 32, 32))"
   ]
  },
  {
   "cell_type": "code",
   "execution_count": 8,
   "id": "d91c0fa1-ec2f-450c-a581-65b102911337",
   "metadata": {},
   "outputs": [],
   "source": [
    "loss = torch.nn.MSELoss()"
   ]
  },
  {
   "cell_type": "code",
   "execution_count": 9,
   "id": "51eb7ad0-5ca0-456f-9a6f-836015251e06",
   "metadata": {},
   "outputs": [
    {
     "data": {
      "text/plain": [
       "tensor(1.9983)"
      ]
     },
     "execution_count": 9,
     "metadata": {},
     "output_type": "execute_result"
    }
   ],
   "source": [
    "loss(x,y)"
   ]
  },
  {
   "cell_type": "code",
   "execution_count": 10,
   "id": "af03f78a-da79-4584-b436-0643684ff456",
   "metadata": {},
   "outputs": [],
   "source": [
    "ourloss = module.MSE()"
   ]
  },
  {
   "cell_type": "code",
   "execution_count": 11,
   "id": "2c5c49d8-c2a2-4c1d-a55e-792a0457f7ec",
   "metadata": {},
   "outputs": [
    {
     "data": {
      "text/plain": [
       "tensor(613876.0625)"
      ]
     },
     "execution_count": 11,
     "metadata": {},
     "output_type": "execute_result"
    }
   ],
   "source": [
    "ourloss.forward(x,y)"
   ]
  },
  {
   "cell_type": "code",
   "execution_count": null,
   "id": "d6f60331-00ae-4505-b0c1-c51331010d00",
   "metadata": {},
   "outputs": [],
   "source": []
  }
 ],
 "metadata": {
  "kernelspec": {
   "display_name": "Python 3 (ipykernel)",
   "language": "python",
   "name": "python3"
  },
  "language_info": {
   "codemirror_mode": {
    "name": "ipython",
    "version": 3
   },
   "file_extension": ".py",
   "mimetype": "text/x-python",
   "name": "python",
   "nbconvert_exporter": "python",
   "pygments_lexer": "ipython3",
   "version": "3.7.3"
  }
 },
 "nbformat": 4,
 "nbformat_minor": 5
}
