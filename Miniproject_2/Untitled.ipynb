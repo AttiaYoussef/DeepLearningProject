{
 "cells": [
  {
   "cell_type": "code",
   "execution_count": null,
   "id": "b9d1d171-b5ee-464e-b587-98e8b0d9301a",
   "metadata": {},
   "outputs": [],
   "source": []
  },
  {
   "cell_type": "markdown",
   "id": "3abcf682-2e5b-4cbc-bafb-f26ad5526dae",
   "metadata": {},
   "source": [
    "# conv test"
   ]
  },
  {
   "cell_type": "code",
   "execution_count": null,
   "id": "a454c149-4132-4b69-b565-4a0ec5cdbfa9",
   "metadata": {},
   "outputs": [],
   "source": []
  },
  {
   "cell_type": "markdown",
   "id": "6c248653-5854-4e41-8c62-5de1d68f5396",
   "metadata": {},
   "source": [
    "# upsample test"
   ]
  },
  {
   "cell_type": "code",
   "execution_count": null,
   "id": "8edb7405-f92b-4a2f-8ac4-e1d76960285b",
   "metadata": {},
   "outputs": [],
   "source": []
  },
  {
   "cell_type": "markdown",
   "id": "8b715681-14cb-46da-935a-607bd05eaaba",
   "metadata": {},
   "source": [
    "# MSE test"
   ]
  },
  {
   "cell_type": "code",
   "execution_count": null,
   "id": "9655e1f8-9d93-471e-a225-9ec864e09b48",
   "metadata": {},
   "outputs": [],
   "source": []
  },
  {
   "cell_type": "markdown",
   "id": "30d766c0-7172-4b5d-989e-b6655e715781",
   "metadata": {},
   "source": [
    "# ReLu test"
   ]
  },
  {
   "cell_type": "code",
   "execution_count": null,
   "id": "749800ce-cfb0-44c7-82f2-bfb108103bed",
   "metadata": {},
   "outputs": [],
   "source": []
  },
  {
   "cell_type": "markdown",
   "id": "0bba15b0-8dbc-44d6-bb76-c54eb2e96727",
   "metadata": {},
   "source": [
    "# sigmoid test"
   ]
  },
  {
   "cell_type": "code",
   "execution_count": null,
   "id": "eb1df783-5501-4cd1-bfc0-d64a4db9c074",
   "metadata": {},
   "outputs": [],
   "source": []
  },
  {
   "cell_type": "markdown",
   "id": "68f19fa7-7383-4f16-a763-f8a13216f464",
   "metadata": {},
   "source": [
    "# Sequential test"
   ]
  },
  {
   "cell_type": "code",
   "execution_count": null,
   "id": "28170a84-9855-4deb-9215-21e2e496190e",
   "metadata": {},
   "outputs": [],
   "source": []
  }
 ],
 "metadata": {
  "kernelspec": {
   "display_name": "Python 3",
   "language": "python",
   "name": "python3"
  },
  "language_info": {
   "codemirror_mode": {
    "name": "ipython",
    "version": 3
   },
   "file_extension": ".py",
   "mimetype": "text/x-python",
   "name": "python",
   "nbconvert_exporter": "python",
   "pygments_lexer": "ipython3",
   "version": "3.8.8"
  }
 },
 "nbformat": 4,
 "nbformat_minor": 5
}
