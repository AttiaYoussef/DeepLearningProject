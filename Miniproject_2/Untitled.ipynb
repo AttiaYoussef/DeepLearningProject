{
 "cells": [
  {
   "cell_type": "code",
   "execution_count": 1,
   "id": "2a36b7c6-f171-474b-b446-1b2b049e413e",
   "metadata": {},
   "outputs": [],
   "source": [
    "from others import module"
   ]
  },
  {
   "cell_type": "code",
   "execution_count": 3,
   "id": "9cb44cb7-c124-4c18-8238-fa50f12418e3",
   "metadata": {},
   "outputs": [],
   "source": [
    "import torch"
   ]
  },
  {
   "cell_type": "code",
   "execution_count": 5,
   "id": "6b672f74-f9ca-4408-9394-b58025f69072",
   "metadata": {},
   "outputs": [],
   "source": [
    "in_channels = 3\n",
    "x = torch.randn((100, in_channels, 32, 32))\n",
    "y = torch.randn((100, in_channels, 32, 32))"
   ]
  },
  {
   "cell_type": "code",
   "execution_count": 8,
   "id": "d91c0fa1-ec2f-450c-a581-65b102911337",
   "metadata": {},
   "outputs": [],
   "source": [
    "loss = torch.nn.MSELoss()"
   ]
  },
  {
   "cell_type": "code",
   "execution_count": 9,
   "id": "51eb7ad0-5ca0-456f-9a6f-836015251e06",
   "metadata": {},
   "outputs": [
    {
     "data": {
      "text/plain": [
       "tensor(1.9983)"
      ]
     },
     "execution_count": 9,
     "metadata": {},
     "output_type": "execute_result"
    }
   ],
   "source": [
    "loss(x,y)"
   ]
  },
  {
   "cell_type": "code",
   "execution_count": 10,
   "id": "af03f78a-da79-4584-b436-0643684ff456",
   "metadata": {},
   "outputs": [],
   "source": [
    "ourloss = module.MSE()"
   ]
  },
  {
   "cell_type": "code",
   "execution_count": 11,
   "id": "2c5c49d8-c2a2-4c1d-a55e-792a0457f7ec",
   "metadata": {},
   "outputs": [
    {
     "data": {
      "text/plain": [
       "tensor(613876.0625)"
      ]
     },
     "execution_count": 11,
     "metadata": {},
     "output_type": "execute_result"
    }
   ],
   "source": [
    "ourloss.forward(x,y)"
   ]
  },
  {
   "cell_type": "code",
   "execution_count": 4,
   "id": "d6f60331-00ae-4505-b0c1-c51331010d00",
   "metadata": {},
   "outputs": [],
   "source": [
    "m=torch.nn.Upsample(scale_factor=2, mode='nearest')"
   ]
  },
  {
   "cell_type": "code",
   "execution_count": 121,
   "id": "9afc4015",
   "metadata": {},
   "outputs": [],
   "source": [
    "def upsample(x, scale):\n",
    "    y=torch.zeros((1,x.size(1),scale*x.size(2),scale*x.size(3)))\n",
    "    print (y.shape)\n",
    "    for i in range (x.size(3)):\n",
    "        for j in range (x.size(2)):\n",
    "            for k in range (0,x.size(1)):\n",
    "                \n",
    "                y[0,k,j*scale:j*scale+scale,i*scale:i*scale+scale]=x[0,k,j,i]\n",
    "               \n",
    "                \n",
    "    \n",
    "    \n",
    "    return y"
   ]
  },
  {
   "cell_type": "code",
   "execution_count": 17,
   "id": "7ca37c00",
   "metadata": {},
   "outputs": [],
   "source": [
    "a=torch.rand((1,1,32,32))"
   ]
  },
  {
   "cell_type": "code",
   "execution_count": 18,
   "id": "1d6726ad",
   "metadata": {},
   "outputs": [],
   "source": [
    "ma=m(a)"
   ]
  },
  {
   "cell_type": "code",
   "execution_count": 15,
   "id": "7979f60d",
   "metadata": {},
   "outputs": [],
   "source": [
    "b=torch.empty((1,a.size(1),2*a.size(2),2*a.size(3)))"
   ]
  },
  {
   "cell_type": "code",
   "execution_count": 14,
   "id": "525654fb",
   "metadata": {},
   "outputs": [
    {
     "data": {
      "text/plain": [
       "3"
      ]
     },
     "execution_count": 14,
     "metadata": {},
     "output_type": "execute_result"
    }
   ],
   "source": [
    "a.size(1)"
   ]
  },
  {
   "cell_type": "code",
   "execution_count": 16,
   "id": "1fe82f6a",
   "metadata": {},
   "outputs": [
    {
     "data": {
      "text/plain": [
       "torch.Size([1, 3, 64, 64])"
      ]
     },
     "execution_count": 16,
     "metadata": {},
     "output_type": "execute_result"
    }
   ],
   "source": [
    "b.shape"
   ]
  },
  {
   "cell_type": "code",
   "execution_count": 19,
   "id": "3e67961b",
   "metadata": {},
   "outputs": [
    {
     "data": {
      "text/plain": [
       "tensor([[[[0.0300, 0.9394, 0.8721,  ..., 0.6475, 0.3227, 0.5231],\n",
       "          [0.7714, 0.9567, 0.8102,  ..., 0.1663, 0.7446, 0.7574],\n",
       "          [0.1913, 0.1460, 0.5665,  ..., 0.7093, 0.9350, 0.0829],\n",
       "          ...,\n",
       "          [0.9828, 0.7579, 0.1483,  ..., 0.7730, 0.0863, 0.1489],\n",
       "          [0.1247, 0.0711, 0.3300,  ..., 0.2721, 0.1847, 0.5465],\n",
       "          [0.0240, 0.3565, 0.4091,  ..., 0.5948, 0.2048, 0.9991]]]])"
      ]
     },
     "execution_count": 19,
     "metadata": {},
     "output_type": "execute_result"
    }
   ],
   "source": [
    "ma"
   ]
  },
  {
   "cell_type": "code",
   "execution_count": 23,
   "id": "a783b5a7",
   "metadata": {},
   "outputs": [],
   "source": [
    "ma[0,0,0:2,0:2]=1"
   ]
  },
  {
   "cell_type": "code",
   "execution_count": 24,
   "id": "527abf7a",
   "metadata": {},
   "outputs": [
    {
     "data": {
      "text/plain": [
       "tensor([[[[1.0000, 1.0000, 0.9394,  ..., 0.3227, 0.5231, 0.5231],\n",
       "          [1.0000, 1.0000, 0.9394,  ..., 0.3227, 0.5231, 0.5231],\n",
       "          [0.7714, 0.7714, 0.9567,  ..., 0.7446, 0.7574, 0.7574],\n",
       "          ...,\n",
       "          [0.1247, 0.1247, 0.0711,  ..., 0.1847, 0.5465, 0.5465],\n",
       "          [0.0240, 0.0240, 0.3565,  ..., 0.2048, 0.9991, 0.9991],\n",
       "          [0.0240, 0.0240, 0.3565,  ..., 0.2048, 0.9991, 0.9991]]]])"
      ]
     },
     "execution_count": 24,
     "metadata": {},
     "output_type": "execute_result"
    }
   ],
   "source": [
    "ma"
   ]
  },
  {
   "cell_type": "code",
   "execution_count": 49,
   "id": "2b0b9055",
   "metadata": {},
   "outputs": [],
   "source": [
    "x=torch.rand((1,1,2,2))"
   ]
  },
  {
   "cell_type": "code",
   "execution_count": 106,
   "id": "38bd0fb2",
   "metadata": {},
   "outputs": [
    {
     "data": {
      "text/plain": [
       "tensor([[[[0.5465, 0.5415],\n",
       "          [0.7915, 0.8045]]]])"
      ]
     },
     "execution_count": 106,
     "metadata": {},
     "output_type": "execute_result"
    }
   ],
   "source": [
    "x"
   ]
  },
  {
   "cell_type": "code",
   "execution_count": 116,
   "id": "3b0b5595",
   "metadata": {},
   "outputs": [
    {
     "name": "stdout",
     "output_type": "stream",
     "text": [
      "torch.Size([1, 1, 4, 4])\n",
      "(0, 0, 0)\n",
      "(0, 1, 0)\n",
      "(1, 0, 0)\n",
      "(1, 1, 0)\n"
     ]
    },
    {
     "data": {
      "text/plain": [
       "tensor([[[[0.5465, 0.5465, 0.5415, 0.5415],\n",
       "          [0.5465, 0.5465, 0.5415, 0.5415],\n",
       "          [0.7915, 0.7915, 0.8045, 0.8045],\n",
       "          [0.7915, 0.7915, 0.8045, 0.8045]]]])"
      ]
     },
     "execution_count": 116,
     "metadata": {},
     "output_type": "execute_result"
    }
   ],
   "source": [
    "upsample(x,2)"
   ]
  },
  {
   "cell_type": "code",
   "execution_count": 110,
   "id": "cbb4f58a",
   "metadata": {},
   "outputs": [
    {
     "name": "stdout",
     "output_type": "stream",
     "text": [
      "(0, 0, 0)\n",
      "(0, 1, 0)\n",
      "(1, 0, 0)\n",
      "(1, 1, 0)\n"
     ]
    }
   ],
   "source": [
    "for i in range (0,x.size(3)):\n",
    "        for j in range (0,x.size(2)):\n",
    "            for k in range (0,x.size(1)):\n",
    "                print((i,j,k))"
   ]
  },
  {
   "cell_type": "code",
   "execution_count": 68,
   "id": "73e3de79",
   "metadata": {},
   "outputs": [],
   "source": [
    "y=m(x)"
   ]
  },
  {
   "cell_type": "code",
   "execution_count": 45,
   "id": "958a9b5b",
   "metadata": {},
   "outputs": [
    {
     "data": {
      "text/plain": [
       "tensor(0.0103)"
      ]
     },
     "execution_count": 45,
     "metadata": {},
     "output_type": "execute_result"
    }
   ],
   "source": [
    "x[0,0,1,1]"
   ]
  },
  {
   "cell_type": "code",
   "execution_count": 48,
   "id": "152242b7",
   "metadata": {},
   "outputs": [
    {
     "data": {
      "text/plain": [
       "3"
      ]
     },
     "execution_count": 48,
     "metadata": {},
     "output_type": "execute_result"
    }
   ],
   "source": [
    "x.size(1)"
   ]
  },
  {
   "cell_type": "code",
   "execution_count": 73,
   "id": "38d14aba",
   "metadata": {},
   "outputs": [
    {
     "data": {
      "text/plain": [
       "tensor([[0.7915, 0.7915],\n",
       "        [0.7915, 0.7915]])"
      ]
     },
     "execution_count": 73,
     "metadata": {},
     "output_type": "execute_result"
    }
   ],
   "source": [
    "y[0,0,2:4,0:2]"
   ]
  },
  {
   "cell_type": "code",
   "execution_count": 72,
   "id": "888f88ce",
   "metadata": {},
   "outputs": [
    {
     "data": {
      "text/plain": [
       "tensor([[[[0.5465, 0.5465, 0.5415, 0.5415],\n",
       "          [0.5465, 0.5465, 0.5415, 0.5415],\n",
       "          [0.7915, 0.7915, 0.8045, 0.8045],\n",
       "          [0.7915, 0.7915, 0.8045, 0.8045]]]])"
      ]
     },
     "execution_count": 72,
     "metadata": {},
     "output_type": "execute_result"
    }
   ],
   "source": [
    "y"
   ]
  },
  {
   "cell_type": "code",
   "execution_count": 88,
   "id": "63f3debc",
   "metadata": {},
   "outputs": [
    {
     "data": {
      "text/plain": [
       "torch.Size([1, 1, 4, 4])"
      ]
     },
     "execution_count": 88,
     "metadata": {},
     "output_type": "execute_result"
    }
   ],
   "source": [
    "y.shape"
   ]
  },
  {
   "cell_type": "code",
   "execution_count": 112,
   "id": "4704244c",
   "metadata": {},
   "outputs": [
    {
     "name": "stdout",
     "output_type": "stream",
     "text": [
      "tensor([[0.5465, 0.5465],\n",
      "        [0.5465, 0.5465]])\n",
      "tensor([[0.7915, 0.7915],\n",
      "        [0.7915, 0.7915]])\n",
      "tensor([[0.5415, 0.5415],\n",
      "        [0.5415, 0.5415]])\n",
      "tensor([[0.8045, 0.8045],\n",
      "        [0.8045, 0.8045]])\n"
     ]
    }
   ],
   "source": [
    "for i in range (0,x.size(3),1):\n",
    "        for j in range (0,x.size(2),1):\n",
    "            for k in range (0,x.size(1)):\n",
    "                print(y[0,k,2*j:2*j+2,2*i:2*i+2])"
   ]
  },
  {
   "cell_type": "code",
   "execution_count": 99,
   "id": "273094a9",
   "metadata": {},
   "outputs": [],
   "source": [
    "scale=2"
   ]
  },
  {
   "cell_type": "code",
   "execution_count": 118,
   "id": "e636cbf8",
   "metadata": {},
   "outputs": [],
   "source": [
    "from torch.autograd import Variable"
   ]
  },
  {
   "cell_type": "code",
   "execution_count": 131,
   "id": "65833492",
   "metadata": {},
   "outputs": [],
   "source": [
    "x = Variable(torch.ones(1,1,2,2), requires_grad=True)"
   ]
  },
  {
   "cell_type": "code",
   "execution_count": 134,
   "id": "39ba0d93",
   "metadata": {},
   "outputs": [],
   "source": [
    "y=Variable(2*x,requires_grad=True)\n",
    "y.backward(torch.ones_like(y))\n",
    "x.grad"
   ]
  },
  {
   "cell_type": "code",
   "execution_count": 133,
   "id": "bad592dd",
   "metadata": {},
   "outputs": [],
   "source": [
    "x.grad"
   ]
  },
  {
   "cell_type": "code",
   "execution_count": null,
   "id": "38c2c4b7",
   "metadata": {},
   "outputs": [],
   "source": []
  }
 ],
 "metadata": {
  "kernelspec": {
   "display_name": "Python 3 (ipykernel)",
   "language": "python",
   "name": "python3"
  },
  "language_info": {
   "codemirror_mode": {
    "name": "ipython",
    "version": 3
   },
   "file_extension": ".py",
   "mimetype": "text/x-python",
   "name": "python",
   "nbconvert_exporter": "python",
   "pygments_lexer": "ipython3",
   "version": "3.9.7"
  }
 },
 "nbformat": 4,
 "nbformat_minor": 5
}
