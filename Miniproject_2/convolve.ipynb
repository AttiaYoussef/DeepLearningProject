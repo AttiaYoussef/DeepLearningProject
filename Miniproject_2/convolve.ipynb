{
 "cells": [
  {
   "cell_type": "code",
   "execution_count": 64,
   "id": "bd6267b9",
   "metadata": {},
   "outputs": [],
   "source": [
    "import torch"
   ]
  },
  {
   "cell_type": "code",
   "execution_count": 65,
   "id": "88bc24ab",
   "metadata": {},
   "outputs": [],
   "source": [
    "inchan = 3"
   ]
  },
  {
   "cell_type": "code",
   "execution_count": 66,
   "id": "c093ad27",
   "metadata": {},
   "outputs": [],
   "source": [
    "outchan = 10"
   ]
  },
  {
   "cell_type": "code",
   "execution_count": 67,
   "id": "25ac7901",
   "metadata": {},
   "outputs": [],
   "source": [
    "kernel_size = (2,2)"
   ]
  },
  {
   "cell_type": "code",
   "execution_count": 68,
   "id": "37efe5d9",
   "metadata": {},
   "outputs": [],
   "source": [
    "conv = torch.nn.Conv2d (inchan,outchan,kernel_size )\n",
    "x = torch.randn((1 ,inchan,32,32) )"
   ]
  },
  {
   "cell_type": "code",
   "execution_count": 73,
   "id": "49edc9af",
   "metadata": {},
   "outputs": [],
   "source": [
    "def convolve(a,weight,bias,kernel,inc,outc) :\n",
    "    unfold_a = torch.nn.functional.unfold(a,kernel_size = kernel )\n",
    "    \n",
    "    \n",
    "    \n",
    "    return (weight.view(outc,-1)@unfold_a+bias.view(1,-1,1)).view(1,outc,x.shape[2]-kernel[0]+1,x.shape[3]-kernel[1]+ 1)"
   ]
  },
  {
   "cell_type": "code",
   "execution_count": 74,
   "id": "2002a302",
   "metadata": {},
   "outputs": [
    {
     "data": {
      "text/plain": [
       "tensor([[[[ 0.1396, -0.2316, -0.5337,  ...,  1.3494,  0.3536,  0.7840],\n",
       "          [ 0.9383,  0.6390, -0.7830,  ..., -0.3564,  0.2714, -0.7207],\n",
       "          [ 0.5406, -0.6729, -0.3746,  ..., -0.0527,  0.3844, -0.0491],\n",
       "          ...,\n",
       "          [ 0.6741,  0.4605,  0.0496,  ..., -0.5970, -0.3233, -0.4040],\n",
       "          [ 0.7167, -0.2295, -0.8403,  ...,  0.1863,  1.1061, -0.2220],\n",
       "          [-0.3213,  0.8111,  0.0731,  ..., -0.0675, -0.2994, -0.1797]],\n",
       "\n",
       "         [[-0.2822, -0.1151,  0.6172,  ..., -0.4373,  0.2308, -0.0320],\n",
       "          [-1.8233, -0.3264,  1.2359,  ...,  0.9656, -0.6999,  1.0107],\n",
       "          [-0.9600,  0.8411, -0.0778,  ...,  0.8725, -0.6783,  0.0352],\n",
       "          ...,\n",
       "          [-0.2748, -0.7567,  0.2927,  ..., -0.1939, -0.0137, -0.2722],\n",
       "          [-0.0480,  0.6383,  0.2873,  ...,  0.5838, -1.7089, -0.7578],\n",
       "          [ 0.8044, -1.0989, -1.3980,  ...,  0.0354, -0.8756,  0.3512]],\n",
       "\n",
       "         [[ 0.3537, -0.3610,  0.3803,  ..., -0.0606, -0.6068,  1.3491],\n",
       "          [ 0.0106, -1.2193, -1.1691,  ..., -0.0876,  1.1662, -0.7931],\n",
       "          [-0.1736,  0.0296,  0.1268,  ..., -0.0648, -0.6878, -0.8552],\n",
       "          ...,\n",
       "          [-0.1528, -0.2033, -0.3083,  ..., -1.6407, -0.1654,  1.0496],\n",
       "          [ 0.6603, -1.4342,  0.5703,  ..., -0.5977, -0.3006, -0.8034],\n",
       "          [ 0.2654,  0.2275, -0.7917,  ..., -0.4633, -0.4256, -0.2010]],\n",
       "\n",
       "         ...,\n",
       "\n",
       "         [[-0.1661, -0.4985, -0.4123,  ...,  0.2887,  0.9878, -0.1827],\n",
       "          [-0.6039, -0.6679,  0.6513,  ..., -0.2767, -0.7103,  0.0864],\n",
       "          [-0.6772, -1.1717, -1.0946,  ...,  0.5441,  0.1022, -0.9604],\n",
       "          ...,\n",
       "          [-0.1148, -1.2326,  0.1400,  ..., -0.4800, -0.2986, -0.2432],\n",
       "          [-0.5014, -0.0420, -0.3803,  ...,  0.2681,  0.2358, -0.4810],\n",
       "          [ 0.3838, -0.2172, -0.4842,  ...,  0.4490, -1.0727,  0.2668]],\n",
       "\n",
       "         [[ 0.6735,  0.4224,  0.8551,  ..., -0.2204,  0.5088,  0.1425],\n",
       "          [ 0.1383, -0.4574,  0.5316,  ...,  0.8656,  0.3159,  0.7339],\n",
       "          [ 0.6809,  0.1672,  0.3243,  ...,  0.2146, -0.3066, -0.6052],\n",
       "          ...,\n",
       "          [-0.3903,  0.3922,  0.8466,  ...,  0.8213,  0.3901,  0.6265],\n",
       "          [ 0.0550, -0.0261,  0.7308,  ...,  0.6394,  0.0551,  1.0039],\n",
       "          [ 0.5460, -0.1308,  0.3846,  ..., -0.0821,  0.1177,  0.0416]],\n",
       "\n",
       "         [[ 0.3199,  1.1371, -0.5505,  ..., -1.4677,  0.7507, -0.1251],\n",
       "          [-0.8177, -0.0533,  0.6757,  ...,  0.8347, -0.0341,  0.9061],\n",
       "          [-0.2272,  0.3466,  0.5171,  ...,  0.9591,  0.4934,  0.3403],\n",
       "          ...,\n",
       "          [ 1.0354, -0.9492,  0.4932,  ..., -0.6551,  0.1775, -0.3700],\n",
       "          [-0.0366,  1.0633,  0.0294,  ...,  0.4288, -0.0870,  0.4885],\n",
       "          [-0.1027,  0.3265,  0.5530,  ...,  1.3103, -0.2395, -0.2511]]]],\n",
       "       grad_fn=<ViewBackward0>)"
      ]
     },
     "execution_count": 74,
     "metadata": {},
     "output_type": "execute_result"
    }
   ],
   "source": [
    "convolve(x,conv.weight,conv.bias,kernel_size,in_channels,out_channels)"
   ]
  },
  {
   "cell_type": "code",
   "execution_count": 75,
   "id": "f3724078",
   "metadata": {},
   "outputs": [
    {
     "data": {
      "text/plain": [
       "tensor(1)"
      ]
     },
     "execution_count": 75,
     "metadata": {},
     "output_type": "execute_result"
    }
   ],
   "source": [
    "torch.prod(conv(x) == convolve(x,conv.weight,conv.bias,kernel_size,inchan,outchan))\n"
   ]
  },
  {
   "cell_type": "code",
   "execution_count": null,
   "id": "6db92c24",
   "metadata": {},
   "outputs": [],
   "source": []
  },
  {
   "cell_type": "code",
   "execution_count": null,
   "id": "f07ddd8a",
   "metadata": {},
   "outputs": [],
   "source": []
  }
 ],
 "metadata": {
  "kernelspec": {
   "display_name": "Python 3 (ipykernel)",
   "language": "python",
   "name": "python3"
  },
  "language_info": {
   "codemirror_mode": {
    "name": "ipython",
    "version": 3
   },
   "file_extension": ".py",
   "mimetype": "text/x-python",
   "name": "python",
   "nbconvert_exporter": "python",
   "pygments_lexer": "ipython3",
   "version": "3.9.7"
  }
 },
 "nbformat": 4,
 "nbformat_minor": 5
}
