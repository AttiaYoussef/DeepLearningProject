{
 "cells": [
  {
   "cell_type": "code",
   "execution_count": 86,
   "id": "f8db0e4f",
   "metadata": {},
   "outputs": [],
   "source": [
    "import torch"
   ]
  },
  {
   "cell_type": "code",
   "execution_count": 87,
   "id": "152e7788",
   "metadata": {},
   "outputs": [],
   "source": [
    "inchan = 3"
   ]
  },
  {
   "cell_type": "code",
   "execution_count": 88,
   "id": "494fefb6",
   "metadata": {},
   "outputs": [],
   "source": [
    "outchan = 10"
   ]
  },
  {
   "cell_type": "code",
   "execution_count": 89,
   "id": "144c844a",
   "metadata": {},
   "outputs": [],
   "source": [
    "kernel_size = (2,2)"
   ]
  },
  {
   "cell_type": "code",
   "execution_count": 90,
   "id": "fd065c7e",
   "metadata": {},
   "outputs": [],
   "source": [
    "conv = torch.nn.Conv2d (inchan,outchan,kernel_size )\n",
    "x = torch.randn((1 ,inchan,32,32) )"
   ]
  },
  {
   "cell_type": "code",
   "execution_count": 91,
   "id": "8e74f6bf",
   "metadata": {},
   "outputs": [],
   "source": [
    "def convolve(a,weight,bias,kernel,inc,outc) :\n",
    "    unfold_a = torch.nn.functional.unfold(a,kernel_size = kernel )\n",
    "    \n",
    "    \n",
    "    \n",
    "    return (weight.view(outc,-1)@unfold_a+bias.view(1,-1,1)).view(1,outc,a.shape[2]-kernel[0]+1,a.shape[3]-kernel[1]+ 1)"
   ]
  },
  {
   "cell_type": "code",
   "execution_count": 92,
   "id": "1ff603ec",
   "metadata": {
    "scrolled": true
   },
   "outputs": [
    {
     "data": {
      "text/plain": [
       "tensor([[[[-1.8253e-01,  4.2886e-01,  6.9907e-02,  ..., -1.3715e+00,\n",
       "           -7.7773e-02, -3.9079e-01],\n",
       "          [-9.9181e-01, -4.8537e-01, -4.4643e-01,  ...,  1.2424e-01,\n",
       "           -1.4552e-01, -4.0366e-01],\n",
       "          [ 5.9080e-01, -7.6545e-01, -9.7913e-01,  ..., -5.4295e-01,\n",
       "           -2.0503e-01, -4.3941e-01],\n",
       "          ...,\n",
       "          [-3.3324e-01,  5.9088e-02,  2.2961e-01,  ...,  1.1984e-01,\n",
       "            2.5911e-01,  2.9072e-01],\n",
       "          [-2.2640e-01, -1.9868e-01, -3.4009e-01,  ...,  7.6204e-02,\n",
       "           -2.9841e-01,  1.2600e-01],\n",
       "          [-3.1017e-02,  7.4495e-01, -1.0269e-01,  ..., -1.0585e+00,\n",
       "           -5.7449e-01, -9.4852e-01]],\n",
       "\n",
       "         [[-2.6285e-01,  8.6862e-02,  2.1220e-02,  ...,  6.5884e-01,\n",
       "           -1.7639e-01, -4.9723e-01],\n",
       "          [ 1.1865e+00,  1.2610e-01, -5.9859e-01,  ..., -9.3550e-01,\n",
       "            3.2099e-01,  1.0274e+00],\n",
       "          [-1.2152e+00, -3.8093e-01, -1.7992e-02,  ...,  3.5321e-01,\n",
       "            8.7310e-02,  1.5329e-02],\n",
       "          ...,\n",
       "          [-6.4623e-02, -2.4255e-01, -7.3274e-01,  ..., -1.2720e+00,\n",
       "            5.1440e-01,  1.6986e-01],\n",
       "          [-1.5270e-01,  6.4487e-01, -6.7791e-01,  ..., -5.3959e-01,\n",
       "            1.0695e+00,  1.8882e-02],\n",
       "          [-5.3155e-01,  4.5172e-01, -7.0295e-01,  ...,  6.9193e-02,\n",
       "            1.0297e+00,  9.5915e-01]],\n",
       "\n",
       "         [[ 4.9177e-02, -3.5851e-01,  6.2483e-02,  ..., -1.6537e+00,\n",
       "           -3.3109e-03, -9.1049e-01],\n",
       "          [-1.1675e+00, -4.5647e-01,  4.5412e-01,  ..., -6.1223e-01,\n",
       "           -1.0909e-01, -1.3917e+00],\n",
       "          [ 4.9384e-01, -1.1628e+00,  1.7912e-01,  ...,  2.8073e-01,\n",
       "            1.8749e-01, -8.4380e-01],\n",
       "          ...,\n",
       "          [-1.0726e+00, -7.5066e-02,  4.1306e-01,  ...,  2.0012e-01,\n",
       "            3.7841e-01, -3.5088e-01],\n",
       "          [ 8.8719e-02, -1.3706e-01,  1.8138e-01,  ...,  6.4703e-01,\n",
       "           -9.1225e-01,  3.3189e-01],\n",
       "          [-4.8300e-01,  8.9282e-01,  6.9525e-02,  ..., -4.6241e-01,\n",
       "           -1.5526e+00,  1.2692e-01]],\n",
       "\n",
       "         ...,\n",
       "\n",
       "         [[-1.2187e-01,  2.1110e-01, -3.7407e-01,  ...,  9.8358e-01,\n",
       "           -6.2050e-01, -2.1456e-01],\n",
       "          [ 6.3454e-01,  5.8337e-02,  6.8465e-01,  ..., -5.3422e-01,\n",
       "           -2.8808e-01, -2.6987e-01],\n",
       "          [-6.6498e-01, -5.2117e-01,  4.7274e-01,  ...,  2.4062e-01,\n",
       "            5.0407e-01, -7.8875e-02],\n",
       "          ...,\n",
       "          [ 6.7101e-02, -6.6478e-01,  2.1752e-01,  ..., -1.3870e-01,\n",
       "            1.2642e-01, -4.2083e-02],\n",
       "          [-1.6437e-01, -1.4952e-01, -1.4513e-01,  ...,  4.0021e-01,\n",
       "            2.2316e-01, -6.5114e-01],\n",
       "          [-4.5667e-01, -3.2197e-01,  4.0268e-01,  ...,  3.8948e-01,\n",
       "           -2.0001e-01,  4.4202e-01]],\n",
       "\n",
       "         [[-1.3989e+00,  2.7611e-01, -4.0617e-01,  ...,  1.0225e-01,\n",
       "           -5.0734e-01, -2.1252e-02],\n",
       "          [ 7.7488e-01,  1.1496e+00, -2.6737e-01,  ...,  2.9409e-01,\n",
       "           -8.3033e-01,  5.5419e-01],\n",
       "          [ 4.5188e-01,  6.3229e-01,  3.1018e-01,  ..., -8.5227e-01,\n",
       "            3.7445e-01,  1.1503e+00],\n",
       "          ...,\n",
       "          [ 2.7567e-01, -2.6545e-01, -4.2040e-01,  ...,  2.7353e-01,\n",
       "           -9.2953e-01, -8.5028e-01],\n",
       "          [-5.9426e-02,  1.5202e-02, -4.5208e-01,  ..., -3.6683e-01,\n",
       "           -8.4782e-02, -9.5913e-01],\n",
       "          [-6.3666e-01, -6.6049e-02,  4.3661e-01,  ...,  4.0219e-03,\n",
       "            3.8394e-02, -6.4408e-01]],\n",
       "\n",
       "         [[-4.6457e-01,  2.4475e-01, -6.8287e-01,  ...,  1.1703e+00,\n",
       "           -5.8628e-04,  5.7702e-01],\n",
       "          [ 7.2872e-01,  2.5974e-01,  7.8163e-01,  ...,  7.4049e-01,\n",
       "           -4.2784e-01, -5.8008e-01],\n",
       "          [ 2.2377e-01,  5.0989e-01,  1.1528e+00,  ...,  2.5080e-01,\n",
       "           -1.0329e-01, -2.2506e-01],\n",
       "          ...,\n",
       "          [ 4.4885e-01, -4.7255e-01,  2.1450e-01,  ..., -3.0108e-01,\n",
       "           -1.8805e-01, -5.4921e-02],\n",
       "          [ 1.0468e+00,  2.7394e-01, -8.6620e-01,  ...,  3.7412e-01,\n",
       "            9.7182e-01, -7.1335e-01],\n",
       "          [ 9.0321e-02, -3.4445e-01, -1.7720e-01,  ...,  1.9471e+00,\n",
       "            1.1563e+00,  8.4250e-01]]]], grad_fn=<ViewBackward0>)"
      ]
     },
     "execution_count": 92,
     "metadata": {},
     "output_type": "execute_result"
    }
   ],
   "source": [
    "convolve(x,conv.weight,conv.bias,kernel_size,in_channels,out_channels)"
   ]
  },
  {
   "cell_type": "code",
   "execution_count": 93,
   "id": "198b63e9",
   "metadata": {},
   "outputs": [
    {
     "data": {
      "text/plain": [
       "tensor(1)"
      ]
     },
     "execution_count": 93,
     "metadata": {},
     "output_type": "execute_result"
    }
   ],
   "source": [
    "torch.prod(conv(x) == convolve(x,conv.weight,conv.bias,kernel_size,inchan,outchan))\n"
   ]
  },
  {
   "cell_type": "code",
   "execution_count": null,
   "id": "e3277248",
   "metadata": {},
   "outputs": [],
   "source": []
  },
  {
   "cell_type": "code",
   "execution_count": null,
   "id": "c39cb655",
   "metadata": {},
   "outputs": [],
   "source": []
  },
  {
   "cell_type": "code",
   "execution_count": null,
   "id": "c535ba45",
   "metadata": {},
   "outputs": [],
   "source": []
  }
 ],
 "metadata": {
  "kernelspec": {
   "display_name": "Python 3 (ipykernel)",
   "language": "python",
   "name": "python3"
  },
  "language_info": {
   "codemirror_mode": {
    "name": "ipython",
    "version": 3
   },
   "file_extension": ".py",
   "mimetype": "text/x-python",
   "name": "python",
   "nbconvert_exporter": "python",
   "pygments_lexer": "ipython3",
   "version": "3.9.7"
  }
 },
 "nbformat": 4,
 "nbformat_minor": 5
}
