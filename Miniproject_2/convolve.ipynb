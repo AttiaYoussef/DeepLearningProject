{
 "cells": [
  {
   "cell_type": "code",
   "execution_count": 76,
   "id": "71e54b81",
   "metadata": {},
   "outputs": [],
   "source": [
    "import torch"
   ]
  },
  {
   "cell_type": "code",
   "execution_count": 77,
   "id": "6f494cf7",
   "metadata": {},
   "outputs": [],
   "source": [
    "inchan = 3"
   ]
  },
  {
   "cell_type": "code",
   "execution_count": 78,
   "id": "423a8e0d",
   "metadata": {},
   "outputs": [],
   "source": [
    "outchan = 10"
   ]
  },
  {
   "cell_type": "code",
   "execution_count": 79,
   "id": "0feef1b4",
   "metadata": {},
   "outputs": [],
   "source": [
    "kernel_size = (2,2)"
   ]
  },
  {
   "cell_type": "code",
   "execution_count": 80,
   "id": "38583bbb",
   "metadata": {},
   "outputs": [],
   "source": [
    "conv = torch.nn.Conv2d (inchan,outchan,kernel_size )\n",
    "x = torch.randn((1 ,inchan,32,32) )"
   ]
  },
  {
   "cell_type": "code",
   "execution_count": 81,
   "id": "36e37202",
   "metadata": {},
   "outputs": [],
   "source": [
    "def convolve(a,weight,bias,kernel,inc,outc) :\n",
    "    unfold_a = torch.nn.functional.unfold(a,kernel_size = kernel )\n",
    "    \n",
    "    \n",
    "    \n",
    "    return (weight.view(outc,-1)@unfold_a+bias.view(1,-1,1)).view(1,outc,x.shape[2]-kernel[0]+1,x.shape[3]-kernel[1]+ 1)"
   ]
  },
  {
   "cell_type": "code",
   "execution_count": 82,
   "id": "c5d80b7a",
   "metadata": {},
   "outputs": [
    {
     "data": {
      "text/plain": [
       "tensor([[[[-1.0915, -0.6901, -0.6862,  ...,  1.7146,  0.5694,  0.8458],\n",
       "          [-0.0832, -0.4704,  0.5231,  ...,  0.6723,  1.0339, -0.3534],\n",
       "          [ 0.5312,  0.1262,  0.2758,  ..., -0.5475,  0.9007,  0.0693],\n",
       "          ...,\n",
       "          [-0.6120,  0.3693,  0.7421,  ..., -0.6925,  0.9387, -0.8761],\n",
       "          [-0.5187,  0.6696,  0.3920,  ..., -0.8699, -0.8339,  0.9996],\n",
       "          [ 0.3622, -1.0830, -0.0824,  ..., -0.6180, -0.7092, -0.2830]],\n",
       "\n",
       "         [[ 0.1039, -0.1502,  0.0059,  ..., -0.6412, -0.6726, -0.7743],\n",
       "          [-0.6639, -0.0204, -0.1089,  ..., -0.1961, -0.4672,  0.1910],\n",
       "          [-0.2618, -0.4699, -0.7593,  ..., -0.6000, -0.5150, -0.5814],\n",
       "          ...,\n",
       "          [ 0.5748,  0.5181,  0.0640,  ..., -0.2052, -0.7403,  0.0800],\n",
       "          [-0.8062, -1.3121,  0.0819,  ..., -0.1579,  0.0454, -0.7892],\n",
       "          [-0.1393, -0.5331, -0.5804,  ...,  0.3722, -1.1801,  0.4849]],\n",
       "\n",
       "         [[ 0.0919,  0.1921, -0.2114,  ..., -0.1975,  0.0748, -0.1183],\n",
       "          [ 0.7723,  0.6635,  0.6817,  ..., -0.0585,  0.2150, -0.3026],\n",
       "          [ 0.1458,  0.0448, -0.5557,  ..., -0.3664, -0.1249,  0.9164],\n",
       "          ...,\n",
       "          [ 0.1033,  1.1872, -0.3881,  ...,  0.5325, -0.1257,  0.7313],\n",
       "          [ 0.6614, -0.5283,  1.1230,  ...,  0.0541,  0.4350, -0.6117],\n",
       "          [ 0.6617, -0.9366,  0.2022,  ..., -0.1206,  0.8952,  0.0161]],\n",
       "\n",
       "         ...,\n",
       "\n",
       "         [[-0.0300,  0.6073,  0.3612,  ..., -0.4140, -0.0636, -0.1128],\n",
       "          [-0.9026, -0.3933, -0.5257,  ...,  0.5653, -0.0356,  0.1799],\n",
       "          [-0.2273, -0.1909, -0.5760,  ..., -0.4488, -0.0282, -0.0672],\n",
       "          ...,\n",
       "          [ 0.1804,  0.5607, -0.9258,  ..., -0.6387, -0.0395,  0.5759],\n",
       "          [-0.6569, -0.7970,  1.3147,  ..., -0.4803,  0.5616, -0.3297],\n",
       "          [-0.0475, -1.0031,  0.3530,  ..., -1.0848,  0.2877,  0.7156]],\n",
       "\n",
       "         [[-1.3277, -0.5340, -1.0743,  ...,  0.7499, -0.1592,  0.0400],\n",
       "          [-1.3978, -0.9778, -0.2072,  ...,  0.6379,  0.0333,  0.0244],\n",
       "          [ 0.6611, -0.0982, -0.5166,  ..., -0.4832, -0.1686, -0.7419],\n",
       "          ...,\n",
       "          [-0.1734,  0.1785, -0.0612,  ...,  0.1434, -0.4954,  0.1977],\n",
       "          [-0.8697,  0.3266, -0.4250,  ..., -1.4114,  0.1680,  1.2958],\n",
       "          [-0.4978,  0.2611,  0.1811,  ..., -0.8626, -1.3196,  0.0097]],\n",
       "\n",
       "         [[-0.4095, -1.0737,  0.3084,  ...,  1.2788,  0.3340,  0.2993],\n",
       "          [ 0.4650, -0.6491,  0.3194,  ..., -0.2181,  0.8719, -0.3979],\n",
       "          [ 0.3801, -0.1948,  0.3539,  ..., -0.3221,  0.3564, -0.4892],\n",
       "          ...,\n",
       "          [-0.0030,  0.4140,  0.8706,  ..., -0.4275, -0.1541, -1.5981],\n",
       "          [-0.1327, -0.5400, -0.5643,  ...,  0.6461, -1.9601, -0.2334],\n",
       "          [ 0.9334, -1.9678, -1.2592,  ...,  0.3484, -0.6109, -0.3502]]]],\n",
       "       grad_fn=<ViewBackward0>)"
      ]
     },
     "execution_count": 82,
     "metadata": {},
     "output_type": "execute_result"
    }
   ],
   "source": [
    "convolve(x,conv.weight,conv.bias,kernel_size,in_channels,out_channels)"
   ]
  },
  {
   "cell_type": "code",
   "execution_count": 83,
   "id": "8a72ca82",
   "metadata": {},
   "outputs": [
    {
     "data": {
      "text/plain": [
       "tensor(1)"
      ]
     },
     "execution_count": 83,
     "metadata": {},
     "output_type": "execute_result"
    }
   ],
   "source": [
    "torch.prod(conv(x) == convolve(x,conv.weight,conv.bias,kernel_size,inchan,outchan))\n"
   ]
  },
  {
   "cell_type": "code",
   "execution_count": null,
   "id": "7eba6d25",
   "metadata": {},
   "outputs": [],
   "source": []
  },
  {
   "cell_type": "code",
   "execution_count": null,
   "id": "adb8b080",
   "metadata": {},
   "outputs": [],
   "source": []
  },
  {
   "cell_type": "code",
   "execution_count": null,
   "id": "55c58635",
   "metadata": {},
   "outputs": [],
   "source": []
  }
 ],
 "metadata": {
  "kernelspec": {
   "display_name": "Python 3 (ipykernel)",
   "language": "python",
   "name": "python3"
  },
  "language_info": {
   "codemirror_mode": {
    "name": "ipython",
    "version": 3
   },
   "file_extension": ".py",
   "mimetype": "text/x-python",
   "name": "python",
   "nbconvert_exporter": "python",
   "pygments_lexer": "ipython3",
   "version": "3.9.7"
  }
 },
 "nbformat": 4,
 "nbformat_minor": 5
}
