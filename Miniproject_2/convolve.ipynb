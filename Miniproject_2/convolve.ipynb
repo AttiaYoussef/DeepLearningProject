{
 "cells": [
  {
   "cell_type": "code",
   "execution_count": 1,
   "id": "f8db0e4f",
   "metadata": {},
   "outputs": [],
   "source": [
    "import torch"
   ]
  },
  {
   "cell_type": "code",
   "execution_count": 2,
   "id": "152e7788",
   "metadata": {},
   "outputs": [],
   "source": [
    "in_channels = 3"
   ]
  },
  {
   "cell_type": "code",
   "execution_count": 3,
   "id": "494fefb6",
   "metadata": {},
   "outputs": [],
   "source": [
    "out_channels = 10"
   ]
  },
  {
   "cell_type": "code",
   "execution_count": 4,
   "id": "144c844a",
   "metadata": {},
   "outputs": [],
   "source": [
    "kernel_size = (2, 2)"
   ]
  },
  {
   "cell_type": "code",
   "execution_count": 5,
   "id": "fd065c7e",
   "metadata": {},
   "outputs": [],
   "source": [
    "conv = torch.nn.Conv2d (in_channels, out_channels, kernel_size, stride = 1 )\n",
    "x = torch.randn((100, in_channels, 32, 32))\n",
    "y = torch.randn((100, in_channels, 32, 32))"
   ]
  },
  {
   "cell_type": "code",
   "execution_count": 6,
   "id": "6750cb19-f917-4355-b712-0b221e2f1d84",
   "metadata": {},
   "outputs": [
    {
     "data": {
      "text/plain": [
       "4"
      ]
     },
     "execution_count": 6,
     "metadata": {},
     "output_type": "execute_result"
    }
   ],
   "source": [
    "x.dim()"
   ]
  },
  {
   "cell_type": "code",
   "execution_count": 7,
   "id": "02eca58c-1b1a-4025-a7ab-d2622ba6b1d2",
   "metadata": {},
   "outputs": [],
   "source": [
    "import math"
   ]
  },
  {
   "cell_type": "code",
   "execution_count": 8,
   "id": "8e74f6bf",
   "metadata": {},
   "outputs": [],
   "source": [
    "def convolve(a, weight, bias, kernel, inc, outc) :\n",
    "    n = a.size(0)\n",
    "    stride = (1,1)\n",
    "    dilation = (1,1)\n",
    "    padding = (0,0)\n",
    "    print(weight.view(-1, weight.size(0)).size())\n",
    "    unfold_a = torch.nn.functional.unfold(a, kernel_size = kernel, stride = stride, padding = padding, dilation = dilation)\n",
    "    h_out = math.floor(1 + (a.size(2) + 2 * padding[0] - dilation[0] * (kernel[0] - 1 ) - 1)/stride[0])\n",
    "    w_out = math.floor(1 + (a.size(3) + 2 * padding[1] - dilation[1] * (kernel[1] - 1 ) - 1)/stride[1])\n",
    "    print(\"Unfold size:\",unfold_a.size())\n",
    "    print(\"Weight size:\",weight.view(outc,-1).size())\n",
    "    print(\"Bias size:\",bias.view(1,-1,1).size())\n",
    "    print((weight.view(outc,-1) @ unfold_a).size())\n",
    "    return (weight.view(outc,-1) @ unfold_a + bias.view(1,-1,1)).view(n, outc, h_out, w_out)"
   ]
  },
  {
   "cell_type": "code",
   "execution_count": 9,
   "id": "1ff603ec",
   "metadata": {
    "scrolled": true
   },
   "outputs": [
    {
     "name": "stdout",
     "output_type": "stream",
     "text": [
      "torch.Size([12, 10])\n",
      "Unfold size: torch.Size([100, 12, 961])\n",
      "Weight size: torch.Size([10, 12])\n",
      "Bias size: torch.Size([1, 10, 1])\n",
      "torch.Size([100, 10, 961])\n"
     ]
    }
   ],
   "source": [
    "result_our_conv = convolve(x,conv.weight,conv.bias,kernel_size,in_channels,out_channels)\n",
    "result_pytorch_conv = conv(x)"
   ]
  },
  {
   "cell_type": "code",
   "execution_count": 10,
   "id": "690a373a-c844-4c4a-a7ab-b0b2472699ce",
   "metadata": {},
   "outputs": [],
   "source": [
    "l = list(conv.parameters())"
   ]
  },
  {
   "cell_type": "code",
   "execution_count": 11,
   "id": "a4ca9e78-dd7e-4e89-bf60-9c871ecbaf1f",
   "metadata": {},
   "outputs": [
    {
     "data": {
      "text/plain": [
       "(torch.Size([10, 3, 2, 2]), torch.Size([10]))"
      ]
     },
     "execution_count": 11,
     "metadata": {},
     "output_type": "execute_result"
    }
   ],
   "source": [
    "l[0].size(),l[1].size()"
   ]
  },
  {
   "cell_type": "code",
   "execution_count": 12,
   "id": "dcf2e180",
   "metadata": {},
   "outputs": [],
   "source": [
    "torch.testing.assert_allclose(result_pytorch_conv, result_our_conv)"
   ]
  },
  {
   "cell_type": "code",
   "execution_count": 13,
   "id": "b0d27657",
   "metadata": {},
   "outputs": [],
   "source": [
    "conv = torch.nn.Conv2d (in_channels, out_channels, kernel_size, stride = 1 )\n",
    "conv1 = torch.nn.Conv2d (in_channels, out_channels, kernel_size, stride = 1 )\n",
    "s = torch.nn.Sequential(conv,conv1)"
   ]
  },
  {
   "cell_type": "code",
   "execution_count": 34,
   "id": "00321cf0",
   "metadata": {},
   "outputs": [],
   "source": [
    "parameters = [(torch.empty(2,2).fill_(1),torch.empty(2,2).normal_())]"
   ]
  },
  {
   "cell_type": "code",
   "execution_count": 35,
   "id": "9412aa9e-94c8-4d0f-b4ef-63b44a021fa3",
   "metadata": {},
   "outputs": [
    {
     "data": {
      "text/plain": [
       "[(tensor([[1., 1.],\n",
       "          [1., 1.]]),\n",
       "  tensor([[-0.8852, -2.3041],\n",
       "          [ 0.7805, -0.8119]]))]"
      ]
     },
     "execution_count": 35,
     "metadata": {},
     "output_type": "execute_result"
    }
   ],
   "source": [
    "parameters"
   ]
  },
  {
   "cell_type": "code",
   "execution_count": 36,
   "id": "5eb6d99f-b335-43ff-9cb5-f1bca1c6aa1a",
   "metadata": {},
   "outputs": [],
   "source": [
    "for (p,g) in parameters:\n",
    "    g.zero_()"
   ]
  },
  {
   "cell_type": "code",
   "execution_count": 37,
   "id": "274f2054-b051-4543-ba48-60a51919c943",
   "metadata": {},
   "outputs": [
    {
     "data": {
      "text/plain": [
       "[(tensor([[1., 1.],\n",
       "          [1., 1.]]),\n",
       "  tensor([[0., 0.],\n",
       "          [0., 0.]]))]"
      ]
     },
     "execution_count": 37,
     "metadata": {},
     "output_type": "execute_result"
    }
   ],
   "source": [
    "parameters"
   ]
  },
  {
   "cell_type": "code",
   "execution_count": null,
   "id": "eee013ea-d5a8-4065-a9b1-e88477b6ed45",
   "metadata": {},
   "outputs": [],
   "source": []
  }
 ],
 "metadata": {
  "kernelspec": {
   "display_name": "Python 3",
   "language": "python",
   "name": "python3"
  },
  "language_info": {
   "codemirror_mode": {
    "name": "ipython",
    "version": 3
   },
   "file_extension": ".py",
   "mimetype": "text/x-python",
   "name": "python",
   "nbconvert_exporter": "python",
   "pygments_lexer": "ipython3",
   "version": "3.8.8"
  }
 },
 "nbformat": 4,
 "nbformat_minor": 5
}
