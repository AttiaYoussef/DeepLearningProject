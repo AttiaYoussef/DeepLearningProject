{
 "cells": [
  {
   "cell_type": "code",
   "execution_count": 1,
   "id": "f8db0e4f",
   "metadata": {},
   "outputs": [],
   "source": [
    "import torch"
   ]
  },
  {
   "cell_type": "code",
   "execution_count": 2,
   "id": "152e7788",
   "metadata": {},
   "outputs": [],
   "source": [
    "in_channels = 3"
   ]
  },
  {
   "cell_type": "code",
   "execution_count": 3,
   "id": "494fefb6",
   "metadata": {},
   "outputs": [],
   "source": [
    "out_channels = 10"
   ]
  },
  {
   "cell_type": "code",
   "execution_count": 4,
   "id": "144c844a",
   "metadata": {},
   "outputs": [],
   "source": [
    "kernel_size = (2, 2)"
   ]
  },
  {
   "cell_type": "code",
   "execution_count": 5,
   "id": "fd065c7e",
   "metadata": {},
   "outputs": [],
   "source": [
    "conv = torch.nn.Conv2d (in_channels, out_channels, kernel_size, stride = 1 )\n",
    "x = torch.randn((100, in_channels, 32, 32))"
   ]
  },
  {
   "cell_type": "code",
   "execution_count": 6,
   "id": "02eca58c-1b1a-4025-a7ab-d2622ba6b1d2",
   "metadata": {},
   "outputs": [],
   "source": [
    "import math"
   ]
  },
  {
   "cell_type": "code",
   "execution_count": 7,
   "id": "8e74f6bf",
   "metadata": {},
   "outputs": [],
   "source": [
    "def convolve(a, weight, bias, kernel, inc, outc) :\n",
    "    n = a.size(0)\n",
    "    stride = (1,1)\n",
    "    dilation = (1,1)\n",
    "    padding = (0,0)\n",
    "    unfold_a = torch.nn.functional.unfold(a, kernel_size = kernel, stride = stride, padding = padding, dilation = dilation)\n",
    "    h_out = math.floor(1 + (a.size(2) + 2 * padding[0] - dilation[0] * (kernel[0] - 1 ) - 1)/stride[0])\n",
    "    w_out = math.floor(1 + (a.size(3) + 2 * padding[1] - dilation[1] * (kernel[1] - 1 ) - 1)/stride[1])\n",
    "    return (weight.view(outc,-1) @ unfold_a + bias.view(1,-1,1)).view(n, outc, h_out, w_out)"
   ]
  },
  {
   "cell_type": "code",
   "execution_count": 8,
   "id": "1ff603ec",
   "metadata": {
    "scrolled": true
   },
   "outputs": [],
   "source": [
    "result_our_conv = convolve(x,conv.weight,conv.bias,kernel_size,in_channels,out_channels)\n",
    "result_pytorch_conv = conv(x)"
   ]
  },
  {
   "cell_type": "code",
   "execution_count": 9,
   "id": "198b63e9",
   "metadata": {},
   "outputs": [],
   "source": [
    "torch.testing.assert_allclose(result_pytorch_conv, result_our_conv)"
   ]
  },
  {
   "cell_type": "code",
   "execution_count": null,
   "id": "b1bdceb2-b374-44e1-9677-bb7f3df6b9ef",
   "metadata": {},
   "outputs": [],
   "source": []
  }
 ],
 "metadata": {
  "kernelspec": {
   "display_name": "Python 3 (ipykernel)",
   "language": "python",
   "name": "python3"
  },
  "language_info": {
   "codemirror_mode": {
    "name": "ipython",
    "version": 3
   },
   "file_extension": ".py",
   "mimetype": "text/x-python",
   "name": "python",
   "nbconvert_exporter": "python",
   "pygments_lexer": "ipython3",
   "version": "3.7.3"
  }
 },
 "nbformat": 4,
 "nbformat_minor": 5
}
