{
 "cells": [
  {
   "cell_type": "code",
   "execution_count": 1,
   "metadata": {
    "id": "07e0d635-8fa7-4a84-a4d1-2a97e99d6e3c"
   },
   "outputs": [],
   "source": [
    "import torch\n",
    "from torch import nn\n",
    "import torchvision.transforms as T\n",
    "import numpy as np\n",
    "import matplotlib.pyplot as plt\n",
    "import torchvision.transforms.functional as F\n",
    "\n",
    "torch.cuda.is_available()\n",
    "\n",
    "device = torch.device(\"cuda:0\")"
   ]
  },
  {
   "cell_type": "code",
   "execution_count": 2,
   "metadata": {
    "id": "3c585b58-1512-436e-bb3b-16a52a2a895d"
   },
   "outputs": [],
   "source": [
    "noisy_imgs_1, noisy_imgs_2 = torch.load('../data/train_data.pkl') #pairs of images with different noises each time\n",
    "#noisy_imgs_1 = torch.cat((noisy_imgs_1, torch.rot90(noisy_imgs_1, 2, [2, 3])), 0).to(device)\n",
    "#noisy_imgs_2 = torch.cat((noisy_imgs_2, torch.rot90(noisy_imgs_2, 2, [2, 3])), 0).to(device)"
   ]
  },
  {
   "cell_type": "code",
   "execution_count": 3,
   "metadata": {
    "id": "949a20d8-9053-4f65-9776-2730ea240e16"
   },
   "outputs": [],
   "source": [
    "val_noisy_imgs, clean_imgs = torch.load('../data/val_data.pkl')\n",
    "val_noisy_imgs = val_noisy_imgs.to(device)\n",
    "clean_imgs = clean_imgs.to(device)"
   ]
  },
  {
   "cell_type": "code",
   "execution_count": 4,
   "metadata": {
    "id": "08881a81-4f19-4cb8-b182-328afcc704df"
   },
   "outputs": [],
   "source": [
    "noisy_imgs_1, noisy_imgs_2 = ((noisy_imgs_1/255.0)).to(device), ((noisy_imgs_2/255.0)).to(device)"
   ]
  },
  {
   "cell_type": "code",
   "execution_count": 5,
   "metadata": {
    "id": "77dcf0ac-6a35-48fa-b4de-a6eb0d75e142"
   },
   "outputs": [],
   "source": [
    "\"\"\"\n",
    "This file contains all necessary functions and classes to implement the autoencoder described in the paper \n",
    "\"Noise2Noise: Learning Image Restoration without Clean Data\"\n",
    "Link: https://arxiv.org/abs/1803.04189\n",
    "\"\"\"\n",
    "\n",
    "import torch\n",
    "from torch import nn\n",
    "\n",
    "\"\"\"\n",
    "Describes an \"encoding block\" in the autoencoder; it's composed of a 3x3 convolutional layer, followed by either\n",
    "a leaky relu or linear activation layer, and a 2x2 maxpool layer\n",
    "\"\"\"\n",
    "\n",
    "class EncodingBlock(nn.Module):\n",
    "    \n",
    "    def __init__(self, n_in, n_out, dropout = True, p = 0):\n",
    "        super().__init__()\n",
    "        self.conv = nn.Conv2d(n_in, n_out, kernel_size = 3, padding = 'same', padding_mode = 'zeros')\n",
    "        self.after = nn.Identity()\n",
    "        if dropout:\n",
    "            self.after = nn.Dropout(p = p)\n",
    "        self.norm = nn.BatchNorm2d(n_out)\n",
    "        self.pool = nn.MaxPool2d(kernel_size = 2)\n",
    "        self.activation = nn.LeakyReLU(0.1)\n",
    "    \n",
    "    def forward(self,x):\n",
    "        x = self.conv(x)\n",
    "        x = self.norm(x)\n",
    "        x = self.activation(x)\n",
    "        x = self.after(x)\n",
    "        x = self.pool(x)\n",
    "        \n",
    "        return x\n",
    "    \n",
    "\"\"\"\n",
    "Describes an \"decoding block\" in the autoencoder; it's composed of a 3x3 convolutional layer, followed by either\n",
    "a leaky relu or linear activation layer, and a 2x2 upsample layer\n",
    "\"\"\"\n",
    "class DecodingBlock(nn.Module):\n",
    "    \n",
    "    def __init__(self, n_in, n_out, dropout = True, p = 0):\n",
    "        super().__init__()\n",
    "        \n",
    "        self.conv = nn.Conv2d(n_in, n_out, kernel_size = 3, padding = 'same', padding_mode = 'zeros')\n",
    "        self.after = nn.Identity()\n",
    "        if dropout:\n",
    "            self.after = nn.Dropout(p = p)\n",
    "        self.norm = nn.BatchNorm2d(n_out)\n",
    "        self.up = nn.Upsample(scale_factor = 2,mode = 'nearest')\n",
    "        self.activation = nn.LeakyReLU(0.1)\n",
    "    \n",
    "    def forward(self, x):\n",
    "        x = self.conv(x)\n",
    "        x = self.norm(x)\n",
    "        x = self.activation(x)\n",
    "        x = self.up(x)\n",
    "        x = self.after(x)\n",
    "        return x\n",
    "    \n",
    "\"\"\"\n",
    "Implements the autoencoder\n",
    "\"\"\"\n",
    "class Noise2Noise(nn.Module):\n",
    "    \n",
    "    def __init__(self, encoding_block_n_in = 48, encoding_block_n_out = 48, decoding_block_n_in = 96,decoding_block_n_out = 96, deconv_block_n_in = 144 ,  n = 3, m = 3, encoding_block_dropout = 0.2, decoding_block_dropout = 0.2):    \n",
    "        super().__init__()\n",
    "        #### First layer\n",
    "        self.conv0 = nn.Conv2d(n, encoding_block_n_in, kernel_size = 3, padding = 'same', padding_mode = 'zeros')\n",
    "        #### ENCODING BLOCKS\n",
    "        self.encoding1 = EncodingBlock(encoding_block_n_in, encoding_block_n_out, p = encoding_block_dropout)\n",
    "        self.encoding2 = EncodingBlock(encoding_block_n_in, encoding_block_n_out, p = encoding_block_dropout)\n",
    "        self.encoding3 = EncodingBlock(encoding_block_n_in, encoding_block_n_out, p = encoding_block_dropout)\n",
    "        self.encoding4 = EncodingBlock(encoding_block_n_in, encoding_block_n_out, p = encoding_block_dropout)\n",
    "        self.encoding5 = EncodingBlock(encoding_block_n_in, encoding_block_n_out, p = encoding_block_dropout)\n",
    "        \n",
    "        #### DECODING BLOCKS\n",
    "        self.decoding1 = DecodingBlock(encoding_block_n_in,encoding_block_n_out, p = decoding_block_dropout)\n",
    "        self.deconv1 = nn.Conv2d(decoding_block_n_in, decoding_block_n_out, kernel_size = 3, padding = 'same', padding_mode = 'zeros')\n",
    "        self.decoding2 = DecodingBlock(decoding_block_n_in,decoding_block_n_out, p = decoding_block_dropout)\n",
    "        self.deconv2 = nn.Conv2d(deconv_block_n_in, decoding_block_n_out, kernel_size = 3, padding = 'same', padding_mode = 'zeros')\n",
    "\n",
    "        self.decoding3 = DecodingBlock(decoding_block_n_in,decoding_block_n_out, p = decoding_block_dropout)\n",
    "        self.deconv3 = nn.Conv2d(deconv_block_n_in, decoding_block_n_out, kernel_size = 3, padding = 'same')\n",
    "        self.decoding4 = DecodingBlock(decoding_block_n_in,decoding_block_n_out, p = decoding_block_dropout)\n",
    "        self.deconv4 = nn.Conv2d(deconv_block_n_in, decoding_block_n_out, kernel_size = 3, padding = 'same')\n",
    "        self.decoding5 = DecodingBlock(decoding_block_n_in,decoding_block_n_out, p = decoding_block_dropout)\n",
    "        \n",
    "        #### Last layers\n",
    "        self.conv1 = nn.Conv2d(decoding_block_n_in + n, 64, kernel_size = 3, padding = 'same', padding_mode = 'zeros')\n",
    "        self.conv2 = nn.Conv2d(64, 32, kernel_size = 3, padding = 'same', padding_mode = 'zeros')\n",
    "        self.conv3 = nn.Conv2d(32, m, kernel_size = 3, padding = 'same', padding_mode = 'zeros')\n",
    "        \n",
    "    def forward(self, x):\n",
    "        input_ = x.detach().clone()\n",
    "        n = m = 3\n",
    "        x = self.conv0(x) #enc_conv0\n",
    "        x = nn.LeakyReLU(0.1)(x)\n",
    "        #### ENCODING PHASE\n",
    "        pool1 = self.encoding1(x) #pool1\n",
    "        pool2 = self.encoding2(pool1) #pool2\n",
    "        pool3 = self.encoding3(pool2) #pool3\n",
    "        pool4 = self.encoding4(pool3) #pool4\n",
    "        pool5 = self.encoding5(pool4) #pool5\n",
    "        \n",
    "        \n",
    "        #### DECODING PHASE\n",
    "        upsample5 = self.decoding1(pool5)\n",
    "        concat5 = torch.cat([upsample5,pool4], dim = 1)\n",
    "        dec_conv5a = self.deconv1(concat5)\n",
    "        dec_conv5a = nn.LeakyReLU(0.1)(dec_conv5a)\n",
    "        \n",
    "        upsample4 = self.decoding2(dec_conv5a)\n",
    "        concat4 = torch.cat([upsample4,pool3], dim = 1)\n",
    "        dec_conv4a = self.deconv2(concat4)\n",
    "        dec_conv4a = nn.LeakyReLU(0.1)(dec_conv4a)\n",
    "        \n",
    "        upsample3 = self.decoding3(dec_conv4a)\n",
    "        concat3 = torch.cat([upsample3,pool2], dim = 1)\n",
    "        dec_conv3a = self.deconv3(concat3)\n",
    "        dec_conv3a = nn.LeakyReLU(0.1)(dec_conv3a)\n",
    "        \n",
    "        upsample2 = self.decoding4(dec_conv3a)\n",
    "        concat2 = torch.cat([upsample2,pool1], dim = 1)\n",
    "        dec_conv2a = self.deconv4(concat2)\n",
    "        dec_conv2a = nn.LeakyReLU(0.1)(dec_conv2a)\n",
    "        \n",
    "        \n",
    "        upsample1 = self.decoding5(dec_conv2a)\n",
    "        concat1 = torch.cat([upsample1,input_], dim = 1)\n",
    "        \n",
    "        \n",
    "        #### Last phase\n",
    "        r = self.conv1(concat1)\n",
    "        r = nn.LeakyReLU(0.1)(r)\n",
    "        \n",
    "        r = self.conv2(r)\n",
    "        r = nn.LeakyReLU(0.1)(r)\n",
    "        \n",
    "        r = self.conv3(r)\n",
    "        return r"
   ]
  },
  {
   "cell_type": "code",
   "execution_count": 6,
   "metadata": {
    "id": "ZTnviHIql0ZK"
   },
   "outputs": [],
   "source": [
    "val_imgs_during_training = val_noisy_imgs[800:]\n",
    "clean_imgs_during_training = clean_imgs[800:]"
   ]
  },
  {
   "cell_type": "code",
   "execution_count": 7,
   "metadata": {
    "id": "472a2446-e6ba-4bb8-8604-f03b7c69eea0",
    "scrolled": true
   },
   "outputs": [
    {
     "data": {
      "text/plain": [
       "Noise2Noise(\n",
       "  (conv0): Conv2d(3, 48, kernel_size=(3, 3), stride=(1, 1), padding=same)\n",
       "  (encoding1): EncodingBlock(\n",
       "    (conv): Conv2d(48, 48, kernel_size=(3, 3), stride=(1, 1), padding=same)\n",
       "    (after): Dropout(p=0.2, inplace=False)\n",
       "    (norm): BatchNorm2d(48, eps=1e-05, momentum=0.1, affine=True, track_running_stats=True)\n",
       "    (pool): MaxPool2d(kernel_size=2, stride=2, padding=0, dilation=1, ceil_mode=False)\n",
       "    (activation): LeakyReLU(negative_slope=0.1)\n",
       "  )\n",
       "  (encoding2): EncodingBlock(\n",
       "    (conv): Conv2d(48, 48, kernel_size=(3, 3), stride=(1, 1), padding=same)\n",
       "    (after): Dropout(p=0.2, inplace=False)\n",
       "    (norm): BatchNorm2d(48, eps=1e-05, momentum=0.1, affine=True, track_running_stats=True)\n",
       "    (pool): MaxPool2d(kernel_size=2, stride=2, padding=0, dilation=1, ceil_mode=False)\n",
       "    (activation): LeakyReLU(negative_slope=0.1)\n",
       "  )\n",
       "  (encoding3): EncodingBlock(\n",
       "    (conv): Conv2d(48, 48, kernel_size=(3, 3), stride=(1, 1), padding=same)\n",
       "    (after): Dropout(p=0.2, inplace=False)\n",
       "    (norm): BatchNorm2d(48, eps=1e-05, momentum=0.1, affine=True, track_running_stats=True)\n",
       "    (pool): MaxPool2d(kernel_size=2, stride=2, padding=0, dilation=1, ceil_mode=False)\n",
       "    (activation): LeakyReLU(negative_slope=0.1)\n",
       "  )\n",
       "  (encoding4): EncodingBlock(\n",
       "    (conv): Conv2d(48, 48, kernel_size=(3, 3), stride=(1, 1), padding=same)\n",
       "    (after): Dropout(p=0.2, inplace=False)\n",
       "    (norm): BatchNorm2d(48, eps=1e-05, momentum=0.1, affine=True, track_running_stats=True)\n",
       "    (pool): MaxPool2d(kernel_size=2, stride=2, padding=0, dilation=1, ceil_mode=False)\n",
       "    (activation): LeakyReLU(negative_slope=0.1)\n",
       "  )\n",
       "  (encoding5): EncodingBlock(\n",
       "    (conv): Conv2d(48, 48, kernel_size=(3, 3), stride=(1, 1), padding=same)\n",
       "    (after): Dropout(p=0.2, inplace=False)\n",
       "    (norm): BatchNorm2d(48, eps=1e-05, momentum=0.1, affine=True, track_running_stats=True)\n",
       "    (pool): MaxPool2d(kernel_size=2, stride=2, padding=0, dilation=1, ceil_mode=False)\n",
       "    (activation): LeakyReLU(negative_slope=0.1)\n",
       "  )\n",
       "  (decoding1): DecodingBlock(\n",
       "    (conv): Conv2d(48, 48, kernel_size=(3, 3), stride=(1, 1), padding=same)\n",
       "    (after): Dropout(p=0.2, inplace=False)\n",
       "    (norm): BatchNorm2d(48, eps=1e-05, momentum=0.1, affine=True, track_running_stats=True)\n",
       "    (up): Upsample(scale_factor=2.0, mode=nearest)\n",
       "    (activation): LeakyReLU(negative_slope=0.1)\n",
       "  )\n",
       "  (deconv1): Conv2d(96, 96, kernel_size=(3, 3), stride=(1, 1), padding=same)\n",
       "  (decoding2): DecodingBlock(\n",
       "    (conv): Conv2d(96, 96, kernel_size=(3, 3), stride=(1, 1), padding=same)\n",
       "    (after): Dropout(p=0.2, inplace=False)\n",
       "    (norm): BatchNorm2d(96, eps=1e-05, momentum=0.1, affine=True, track_running_stats=True)\n",
       "    (up): Upsample(scale_factor=2.0, mode=nearest)\n",
       "    (activation): LeakyReLU(negative_slope=0.1)\n",
       "  )\n",
       "  (deconv2): Conv2d(144, 96, kernel_size=(3, 3), stride=(1, 1), padding=same)\n",
       "  (decoding3): DecodingBlock(\n",
       "    (conv): Conv2d(96, 96, kernel_size=(3, 3), stride=(1, 1), padding=same)\n",
       "    (after): Dropout(p=0.2, inplace=False)\n",
       "    (norm): BatchNorm2d(96, eps=1e-05, momentum=0.1, affine=True, track_running_stats=True)\n",
       "    (up): Upsample(scale_factor=2.0, mode=nearest)\n",
       "    (activation): LeakyReLU(negative_slope=0.1)\n",
       "  )\n",
       "  (deconv3): Conv2d(144, 96, kernel_size=(3, 3), stride=(1, 1), padding=same)\n",
       "  (decoding4): DecodingBlock(\n",
       "    (conv): Conv2d(96, 96, kernel_size=(3, 3), stride=(1, 1), padding=same)\n",
       "    (after): Dropout(p=0.2, inplace=False)\n",
       "    (norm): BatchNorm2d(96, eps=1e-05, momentum=0.1, affine=True, track_running_stats=True)\n",
       "    (up): Upsample(scale_factor=2.0, mode=nearest)\n",
       "    (activation): LeakyReLU(negative_slope=0.1)\n",
       "  )\n",
       "  (deconv4): Conv2d(144, 96, kernel_size=(3, 3), stride=(1, 1), padding=same)\n",
       "  (decoding5): DecodingBlock(\n",
       "    (conv): Conv2d(96, 96, kernel_size=(3, 3), stride=(1, 1), padding=same)\n",
       "    (after): Dropout(p=0.2, inplace=False)\n",
       "    (norm): BatchNorm2d(96, eps=1e-05, momentum=0.1, affine=True, track_running_stats=True)\n",
       "    (up): Upsample(scale_factor=2.0, mode=nearest)\n",
       "    (activation): LeakyReLU(negative_slope=0.1)\n",
       "  )\n",
       "  (conv1): Conv2d(99, 64, kernel_size=(3, 3), stride=(1, 1), padding=same)\n",
       "  (conv2): Conv2d(64, 32, kernel_size=(3, 3), stride=(1, 1), padding=same)\n",
       "  (conv3): Conv2d(32, 3, kernel_size=(3, 3), stride=(1, 1), padding=same)\n",
       ")"
      ]
     },
     "execution_count": 7,
     "metadata": {},
     "output_type": "execute_result"
    }
   ],
   "source": [
    "model = Noise2Noise()\n",
    "\n",
    "model.to(device)"
   ]
  },
  {
   "cell_type": "code",
   "execution_count": 8,
   "metadata": {
    "id": "48711175-9067-4be5-b3e7-eb4e25b43445"
   },
   "outputs": [],
   "source": [
    "from torch import optim\n",
    "import time"
   ]
  },
  {
   "cell_type": "code",
   "execution_count": null,
   "metadata": {
    "colab": {
     "background_save": true,
     "base_uri": "https://localhost:8080/"
    },
    "id": "a67fcc42-3d90-41c4-8f5c-636050f407db",
    "outputId": "4681ead6-bc87-4e1f-a79b-18379eb9d078",
    "scrolled": false
   },
   "outputs": [
    {
     "name": "stdout",
     "output_type": "stream",
     "text": [
      "0\n",
      "epoch time : 33.96632933616638\n",
      "1\n",
      "epoch time : 30.400282859802246\n"
     ]
    }
   ],
   "source": [
    "def validation_check(model):\n",
    "    with torch.no_grad():\n",
    "        denoised = ((model(val_imgs_during_training/255)))\n",
    "        mse = torch.mean( (torch.clamp((denoised)*255, min = 0, max = 255) - (clean_imgs_during_training) )**2 )\n",
    "        return mse\n",
    "import copy\n",
    "model = Noise2Noise()\n",
    "model = model.to(device)\n",
    "loss = nn.HuberLoss(delta=2.0).to(device)\n",
    "epochs = 7\n",
    "optimizer = optim.Adam(model.parameters(), lr=0.0015, betas=(0.9, 0.99), eps=1e-08, weight_decay=0)\n",
    "scheduler = torch.optim.lr_scheduler.ReduceLROnPlateau(optimizer, 'min',  verbose=True,patience=4)\n",
    "N = noisy_imgs_1.size(0)\n",
    "batch_size = 32\n",
    "#Early stopping\n",
    "last_loss = float(\"inf\")\n",
    "best_model = copy.deepcopy(model)\n",
    "patience = 6\n",
    "trigger = 0\n",
    "for e in range(epochs):\n",
    "    t = time.time()\n",
    "    \n",
    "    for index in range(0, N, batch_size):\n",
    "        optimizer.zero_grad()\n",
    "        train_data_minibatch = noisy_imgs_1[index:(index+batch_size)]\n",
    "        train_target_minibatch = noisy_imgs_2[index:(index+batch_size)]\n",
    "        loss(model(train_data_minibatch), train_target_minibatch).backward()\n",
    "        optimizer.step()\n",
    "    val_loss = validation_check(model)\n",
    "    scheduler.step(val_loss)\n",
    "    if val_loss > last_loss:\n",
    "        trigger += 1\n",
    "        if trigger == patience:\n",
    "            break\n",
    "    else:\n",
    "        last_loss = val_loss\n",
    "        best_model = copy.deepcopy(model)\n",
    "        trigger = 0\n",
    "    print(e)\n",
    "    print(\"epoch time : \" + str(time.time() - t))\n",
    "model = best_model\n",
    "model.eval()"
   ]
  },
  {
   "cell_type": "code",
   "execution_count": null,
   "metadata": {},
   "outputs": [],
   "source": [
    "def psnr ( denoised , ground_truth ) :\n",
    "    # Peak Signal to Noise Ratio : denoised and ground_truth have range [0 , 1]\n",
    "    mse = torch . mean (( denoised - ground_truth ) ** 2)\n",
    "    return -10 * torch . log10 ( mse + 10** -8)\n",
    "with torch.no_grad():\n",
    "    output = torch.clamp(((model(val_noisy_imgs/255))), min = 0, max = 1)\n",
    "\n",
    "avg_psnr = 0\n",
    "for i in range(1000) :\n",
    "    avg_psnr += psnr(output[i], clean_imgs[i]/255)\n",
    "print(avg_psnr/1000)"
   ]
  },
  {
   "cell_type": "code",
   "execution_count": null,
   "metadata": {
    "colab": {
     "base_uri": "https://localhost:8080/",
     "height": 283
    },
    "id": "YppgByNcR0Ax",
    "outputId": "14f209a0-12d6-4423-c366-fc5620877e24"
   },
   "outputs": [],
   "source": [
    "plt.imshow(  val_noisy_imgs[25].cpu().detach().permute(1, 2, 0))"
   ]
  },
  {
   "cell_type": "code",
   "execution_count": null,
   "metadata": {
    "colab": {
     "base_uri": "https://localhost:8080/",
     "height": 283
    },
    "id": "VLo8NuvO7HbE",
    "outputId": "cccdd67b-d0af-48b0-859d-aa3c5c68395b"
   },
   "outputs": [],
   "source": [
    "plt.imshow(  output[25].cpu().detach().permute(1, 2, 0))"
   ]
  },
  {
   "cell_type": "code",
   "execution_count": null,
   "metadata": {
    "colab": {
     "base_uri": "https://localhost:8080/",
     "height": 283
    },
    "id": "zeOn4--j7NXV",
    "outputId": "7744dd57-02df-4c80-b360-765f2a29623b"
   },
   "outputs": [],
   "source": [
    "plt.imshow( clean_imgs[25].cpu().detach().permute(1, 2, 0) )"
   ]
  },
  {
   "cell_type": "code",
   "execution_count": null,
   "metadata": {},
   "outputs": [],
   "source": []
  }
 ],
 "metadata": {
  "accelerator": "GPU",
  "colab": {
   "collapsed_sections": [],
   "name": "Experiments.ipynb",
   "provenance": []
  },
  "kernelspec": {
   "display_name": "Python 3",
   "language": "python",
   "name": "python3"
  },
  "language_info": {
   "codemirror_mode": {
    "name": "ipython",
    "version": 3
   },
   "file_extension": ".py",
   "mimetype": "text/x-python",
   "name": "python",
   "nbconvert_exporter": "python",
   "pygments_lexer": "ipython3",
   "version": "3.8.3"
  }
 },
 "nbformat": 4,
 "nbformat_minor": 5
}
