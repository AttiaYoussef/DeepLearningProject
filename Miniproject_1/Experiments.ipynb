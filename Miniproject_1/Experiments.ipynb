{
 "cells": [
  {
   "cell_type": "code",
   "execution_count": 1,
   "id": "07e0d635-8fa7-4a84-a4d1-2a97e99d6e3c",
   "metadata": {},
   "outputs": [],
   "source": [
    "import torch\n",
    "from torch import nn\n",
    "import numpy as np\n",
    "import matplotlib.pyplot as plt\n",
    "import torchvision.transforms.functional as F"
   ]
  },
  {
   "cell_type": "code",
   "execution_count": 2,
   "id": "3c585b58-1512-436e-bb3b-16a52a2a895d",
   "metadata": {},
   "outputs": [],
   "source": [
    "noisy_imgs_1, noisy_imgs_2 = torch.load('../data/train_data.pkl') #pairs of images with different noises each time"
   ]
  },
  {
   "cell_type": "code",
   "execution_count": 3,
   "id": "35aadfcf-982c-46ea-8963-67b34d57a00e",
   "metadata": {},
   "outputs": [
    {
     "data": {
      "text/plain": [
       "50000"
      ]
     },
     "execution_count": 3,
     "metadata": {},
     "output_type": "execute_result"
    }
   ],
   "source": [
    "noisy_imgs_1.size(0)"
   ]
  },
  {
   "cell_type": "code",
   "execution_count": 3,
   "id": "949a20d8-9053-4f65-9776-2730ea240e16",
   "metadata": {},
   "outputs": [],
   "source": [
    "val_noisy_imgs, clean_imgs = torch.load('../data/val_data.pkl')"
   ]
  },
  {
   "cell_type": "code",
   "execution_count": 4,
   "id": "08881a81-4f19-4cb8-b182-328afcc704df",
   "metadata": {},
   "outputs": [],
   "source": [
    "noisy_imgs_1, noisy_imgs_2 = noisy_imgs_1/255.0, noisy_imgs_2/255.0"
   ]
  },
  {
   "cell_type": "code",
   "execution_count": 5,
   "id": "12f31212-e551-47cd-91b1-a694d2b37905",
   "metadata": {},
   "outputs": [],
   "source": [
    "test_input = noisy_imgs_1[:2]"
   ]
  },
  {
   "cell_type": "code",
   "execution_count": 6,
   "id": "a17e7fd4-3d5a-42f5-9b19-eedfc48e0826",
   "metadata": {},
   "outputs": [
    {
     "data": {
      "text/plain": [
       "torch.Size([2, 3, 32, 32])"
      ]
     },
     "execution_count": 6,
     "metadata": {},
     "output_type": "execute_result"
    }
   ],
   "source": [
    "test_input.size()"
   ]
  },
  {
   "cell_type": "code",
   "execution_count": 22,
   "id": "77dcf0ac-6a35-48fa-b4de-a6eb0d75e142",
   "metadata": {},
   "outputs": [],
   "source": [
    "\"\"\"\n",
    "This file contains all necessary functions and classes to implement the autoencoder described in the paper \n",
    "\"Noise2Noise: Learning Image Restoration without Clean Data\"\n",
    "Link: https://arxiv.org/abs/1803.04189\n",
    "\"\"\"\n",
    "\n",
    "import torch\n",
    "from torch import nn\n",
    "\n",
    "\"\"\"\n",
    "Describes an \"encoding block\" in the autoencoder; it's composed of a 3x3 convolutional layer, followed by either\n",
    "a leaky relu or linear activation layer, and a 2x2 maxpool layer\n",
    "\"\"\"\n",
    "\n",
    "class EncodingBlock(nn.Module):\n",
    "    \n",
    "    def __init__(self, n_in, n_out):\n",
    "        super().__init__()\n",
    "        \n",
    "        self.conv = nn.Conv2d(n_in, n_out, kernel_size = 3, padding = 'same', padding_mode = 'zeros')\n",
    "        self.pool = nn.MaxPool2d(kernel_size = 2)\n",
    "        self.activation = nn.LeakyReLU(0.1)\n",
    "    \n",
    "    def forward(self,x):\n",
    "        print(x.size())\n",
    "        x = self.conv(x)\n",
    "        print(x.size())\n",
    "        print(\"----------------------------------------------------\")\n",
    "        x = self.activation(x)\n",
    "        x = self.pool(x)\n",
    "        \n",
    "        return x\n",
    "    \n",
    "\"\"\"\n",
    "Describes an \"decoding block\" in the autoencoder; it's composed of a 3x3 convolutional layer, followed by either\n",
    "a leaky relu or linear activation layer, and a 2x2 upsample layer\n",
    "\"\"\"\n",
    "class DecodingBlock(nn.Module):\n",
    "    \n",
    "    def __init__(self, n_in, n_out):\n",
    "        super().__init__()\n",
    "        \n",
    "        self.conv = nn.Conv2d(n_in, n_out, kernel_size = 3, padding = 'same', padding_mode = 'zeros') \n",
    "        self.up = nn.Upsample(scale_factor = 2,mode = 'nearest')\n",
    "        self.activation = nn.LeakyReLU(0.1)\n",
    "    \n",
    "    def forward(self, x):\n",
    "        x = self.conv(x)\n",
    "        x = self.activation(x)\n",
    "        x = self.up(x)\n",
    "        return x\n",
    "    \n",
    "\"\"\"\n",
    "Implements the autoencoder\n",
    "\"\"\"\n",
    "class Noise2Noise(nn.Module):\n",
    "    \n",
    "    def __init__(self, n = 3, m = 3):    \n",
    "        super().__init__()\n",
    "        #### ENCODING BLOCKS\n",
    "        self.encoding1 = EncodingBlock(48, 48)\n",
    "        self.encoding2 = EncodingBlock(48, 48)\n",
    "        self.encoding3 = EncodingBlock(48, 48)\n",
    "        self.encoding4 = EncodingBlock(48, 48)\n",
    "        self.encoding5 = EncodingBlock(48, 48)\n",
    "        \n",
    "        #### DECODING BLOCKS\n",
    "        self.decoding1 = DecodingBlock(48,48)\n",
    "        self.decoding2 = DecodingBlock(96,96)\n",
    "        self.decoding3 = DecodingBlock(96,96)\n",
    "        self.decoding4 = DecodingBlock(96,96)\n",
    "        self.decoding5 = DecodingBlock(96,96)\n",
    "        \n",
    "        #### Last layers\n",
    "        self.conv1 = nn.Conv2d(96 + n, 64, kernel_size = 3, padding = 'same', padding_mode = 'zeros')\n",
    "        self.conv2 = nn.Conv2d(64, 32, kernel_size = 3, padding = 'same', padding_mode = 'zeros')\n",
    "        self.conv3 = nn.Conv2d(32, m, kernel_size = 3, padding = 'same', padding_mode = 'zeros')\n",
    "        \n",
    "    def forward(self, x):\n",
    "        input_ = x.detach().clone()\n",
    "        n = m = 3\n",
    "        x = nn.Conv2d(n, 48, kernel_size = 3, padding = 'same', padding_mode = 'zeros')(x) #enc_conv0\n",
    "        x = nn.LeakyReLU(0.1)(x)\n",
    "        #### ENCODING PHASE\n",
    "        pool1 = self.encoding1(x) #pool1\n",
    "        pool2 = self.encoding2(pool1) #pool2\n",
    "        pool3 = self.encoding3(pool2) #pool3\n",
    "        pool4 = self.encoding3(pool3) #pool4\n",
    "        pool5 = self.encoding3(pool4) #pool5\n",
    "        \n",
    "        \n",
    "        #### DECODING PHASE\n",
    "        upsample5 = self.decoding1(pool5)\n",
    "        concat5 = torch.cat([upsample5,pool4], dim = 1)\n",
    "        dec_conv5a = nn.Conv2d(96, 96, kernel_size = 3, padding = 'same', padding_mode = 'zeros')(concat5)\n",
    "        dec_conv5a = nn.LeakyReLU(0.1)(dec_conv5a)\n",
    "        \n",
    "        upsample4 = self.decoding2(dec_conv5a)\n",
    "        concat4 = torch.cat([upsample4,pool3], dim = 1)\n",
    "        dec_conv4a = nn.Conv2d(144, 96, kernel_size = 3, padding = 'same', padding_mode = 'zeros')(concat4)\n",
    "        dec_conv4a = nn.LeakyReLU(0.1)(dec_conv4a)\n",
    "        \n",
    "        upsample3 = self.decoding2(dec_conv4a)\n",
    "        concat3 = torch.cat([upsample3,pool2], dim = 1)\n",
    "        dec_conv3a = nn.Conv2d(144, 96, kernel_size = 3, padding = 'same')(concat3)\n",
    "        dec_conv3a = nn.LeakyReLU(0.1)(dec_conv3a)\n",
    "        \n",
    "        upsample2 = self.decoding2(dec_conv3a)\n",
    "        concat2 = torch.cat([upsample2,pool1], dim = 1)\n",
    "        dec_conv2a = nn.Conv2d(144, 96, kernel_size = 3, padding = 'same')(concat2)\n",
    "        dec_conv2a = nn.LeakyReLU(0.1)(dec_conv2a)\n",
    "        \n",
    "        \n",
    "        upsample1 = self.decoding2(dec_conv2a)\n",
    "        concat1 = torch.cat([upsample1,input_], dim = 1)\n",
    "        \n",
    "        \n",
    "        #### Last phase\n",
    "        r = self.conv1(concat1)\n",
    "        r = nn.LeakyReLU(0.1)(r)\n",
    "        \n",
    "        r = self.conv2(r)\n",
    "        r = nn.LeakyReLU(0.1)(r)\n",
    "        \n",
    "        r = self.conv3(r)\n",
    "        return r"
   ]
  },
  {
   "cell_type": "code",
   "execution_count": 23,
   "id": "472a2446-e6ba-4bb8-8604-f03b7c69eea0",
   "metadata": {},
   "outputs": [],
   "source": [
    "noise_2_noise = Noise2Noise()"
   ]
  },
  {
   "cell_type": "code",
   "execution_count": 25,
   "id": "48711175-9067-4be5-b3e7-eb4e25b43445",
   "metadata": {},
   "outputs": [
    {
     "name": "stdout",
     "output_type": "stream",
     "text": [
      "torch.Size([2, 48, 32, 32])\n",
      "torch.Size([2, 48, 32, 32])\n",
      "----------------------------------------------------\n",
      "torch.Size([2, 48, 16, 16])\n",
      "torch.Size([2, 48, 16, 16])\n",
      "----------------------------------------------------\n",
      "torch.Size([2, 48, 8, 8])\n",
      "torch.Size([2, 48, 8, 8])\n",
      "----------------------------------------------------\n",
      "torch.Size([2, 48, 4, 4])\n",
      "torch.Size([2, 48, 4, 4])\n",
      "----------------------------------------------------\n",
      "torch.Size([2, 48, 2, 2])\n",
      "torch.Size([2, 48, 2, 2])\n",
      "----------------------------------------------------\n"
     ]
    }
   ],
   "source": [
    "t = noise_2_noise(test_input)"
   ]
  },
  {
   "cell_type": "code",
   "execution_count": null,
   "id": "a67fcc42-3d90-41c4-8f5c-636050f407db",
   "metadata": {},
   "outputs": [],
   "source": []
  }
 ],
 "metadata": {
  "kernelspec": {
   "display_name": "Python 3 (ipykernel)",
   "language": "python",
   "name": "python3"
  },
  "language_info": {
   "codemirror_mode": {
    "name": "ipython",
    "version": 3
   },
   "file_extension": ".py",
   "mimetype": "text/x-python",
   "name": "python",
   "nbconvert_exporter": "python",
   "pygments_lexer": "ipython3",
   "version": "3.7.3"
  }
 },
 "nbformat": 4,
 "nbformat_minor": 5
}
