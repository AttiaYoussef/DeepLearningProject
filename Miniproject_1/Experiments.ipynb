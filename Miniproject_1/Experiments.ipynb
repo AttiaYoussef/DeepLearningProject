{
 "cells": [
  {
   "cell_type": "code",
   "execution_count": 1,
   "metadata": {
    "id": "07e0d635-8fa7-4a84-a4d1-2a97e99d6e3c"
   },
   "outputs": [],
   "source": [
    "import torch\n",
    "from torch import nn\n",
    "import numpy as np\n",
    "import matplotlib.pyplot as plt\n",
    "import torchvision.transforms.functional as F\n",
    "\n",
    "torch.cuda.is_available()\n",
    "\n",
    "device = torch.device(\"cuda:0\")"
   ]
  },
  {
   "cell_type": "code",
   "execution_count": 2,
   "metadata": {
    "id": "3c585b58-1512-436e-bb3b-16a52a2a895d"
   },
   "outputs": [],
   "source": [
    "noisy_imgs_1, noisy_imgs_2 = torch.load('../data/train_data.pkl') #pairs of images with different noises each time"
   ]
  },
  {
   "cell_type": "code",
   "execution_count": 3,
   "metadata": {
    "id": "949a20d8-9053-4f65-9776-2730ea240e16"
   },
   "outputs": [],
   "source": [
    "val_noisy_imgs, clean_imgs = torch.load('../data/val_data.pkl')\n",
    "val_noisy_imgs = val_noisy_imgs.to(device)\n",
    "clean_imgs = clean_imgs.to(device)"
   ]
  },
  {
   "cell_type": "code",
   "execution_count": 4,
   "metadata": {
    "id": "08881a81-4f19-4cb8-b182-328afcc704df"
   },
   "outputs": [],
   "source": [
    "noisy_imgs_1, noisy_imgs_2 = ((noisy_imgs_1/255.0) - 0.5).to(device), ((noisy_imgs_2/255.0) - 0.5).to(device)"
   ]
  },
  {
   "cell_type": "code",
   "execution_count": 5,
   "metadata": {
    "id": "77dcf0ac-6a35-48fa-b4de-a6eb0d75e142"
   },
   "outputs": [],
   "source": [
    "\"\"\"\n",
    "This file contains all necessary functions and classes to implement the autoencoder described in the paper \n",
    "\"Noise2Noise: Learning Image Restoration without Clean Data\"\n",
    "Link: https://arxiv.org/abs/1803.04189\n",
    "\"\"\"\n",
    "\n",
    "import torch\n",
    "from torch import nn\n",
    "\n",
    "\"\"\"\n",
    "Describes an \"encoding block\" in the autoencoder; it's composed of a 3x3 convolutional layer, followed by either\n",
    "a leaky relu or linear activation layer, and a 2x2 maxpool layer\n",
    "\"\"\"\n",
    "\n",
    "class EncodingBlock(nn.Module):\n",
    "    \n",
    "    def __init__(self, n_in, n_out):\n",
    "        super().__init__()\n",
    "        \n",
    "        self.conv = nn.Conv2d(n_in, n_out, kernel_size = 3, padding = 'same', padding_mode = 'zeros')\n",
    "        self.pool = nn.MaxPool2d(kernel_size = 2)\n",
    "        self.activation = nn.LeakyReLU(0.1)\n",
    "    \n",
    "    def forward(self,x):\n",
    "        x = self.conv(x)\n",
    "        x = self.activation(x)\n",
    "        x = self.pool(x)\n",
    "        \n",
    "        return x\n",
    "    \n",
    "\"\"\"\n",
    "Describes an \"decoding block\" in the autoencoder; it's composed of a 3x3 convolutional layer, followed by either\n",
    "a leaky relu or linear activation layer, and a 2x2 upsample layer\n",
    "\"\"\"\n",
    "class DecodingBlock(nn.Module):\n",
    "    \n",
    "    def __init__(self, n_in, n_out):\n",
    "        super().__init__()\n",
    "        \n",
    "        self.conv = nn.Conv2d(n_in, n_out, kernel_size = 3, padding = 'same', padding_mode = 'zeros') \n",
    "        self.up = nn.Upsample(scale_factor = 2,mode = 'nearest')\n",
    "        self.activation = nn.LeakyReLU(0.1)\n",
    "    \n",
    "    def forward(self, x):\n",
    "        x = self.conv(x)\n",
    "        x = self.activation(x)\n",
    "        x = self.up(x)\n",
    "        return x\n",
    "    \n",
    "\"\"\"\n",
    "Implements the autoencoder\n",
    "\"\"\"\n",
    "class Noise2Noise(nn.Module):\n",
    "    \n",
    "    def __init__(self, n = 3, m = 3):    \n",
    "        super().__init__()\n",
    "        self.conv_init = nn.Conv2d(n, 48, kernel_size = 3, padding = 'same', padding_mode = 'zeros')\n",
    "        \n",
    "        #### ENCODING BLOCKS\n",
    "        self.encoding1 = EncodingBlock(48, 48)\n",
    "        self.encoding2 = EncodingBlock(48, 48)\n",
    "        self.encoding3 = EncodingBlock(48, 48)\n",
    "        self.encoding4 = EncodingBlock(48, 48)\n",
    "        self.encoding5 = EncodingBlock(48, 48)\n",
    "        \n",
    "        #### DECODING BLOCKS\n",
    "        self.decoding1 = DecodingBlock(48,48)\n",
    "        self.conv_decoding1 = nn.Conv2d(96, 96, kernel_size = 3, padding = 'same', padding_mode = 'zeros')\n",
    "        self.decoding2 = DecodingBlock(96,96)\n",
    "        self.conv_decoding2 = nn.Conv2d(144, 96, kernel_size = 3, padding = 'same', padding_mode = 'zeros')\n",
    "        self.decoding3 = DecodingBlock(96,96)\n",
    "        self.conv_decoding3 = nn.Conv2d(144, 96, kernel_size = 3, padding = 'same')\n",
    "        self.decoding4 = DecodingBlock(96,96)\n",
    "        self.conv_decoding4 = nn.Conv2d(144, 96, kernel_size = 3, padding = 'same')\n",
    "        self.decoding5 = DecodingBlock(96,96)\n",
    "        \n",
    "        #### Last layers\n",
    "        self.conv1 = nn.Conv2d(96 + n, 64, kernel_size = 3, padding = 'same', padding_mode = 'zeros')\n",
    "        self.conv2 = nn.Conv2d(64, 32, kernel_size = 3, padding = 'same', padding_mode = 'zeros')\n",
    "        self.conv3 = nn.Conv2d(32, m, kernel_size = 3, padding = 'same', padding_mode = 'zeros')\n",
    "        \n",
    "    def forward(self, x):\n",
    "        input_ = x.detach().clone().to(device)\n",
    "        n = m = 3\n",
    "        x = self.conv_init(x).to(device) #enc_conv0\n",
    "        x = nn.LeakyReLU(0.1)(x)\n",
    "        #### ENCODING PHASE\n",
    "        pool1 = self.encoding1(x) #pool1\n",
    "        pool2 = self.encoding2(pool1) #pool2\n",
    "        pool3 = self.encoding3(pool2) #pool3\n",
    "        pool4 = self.encoding3(pool3) #pool4\n",
    "        pool5 = self.encoding3(pool4) #pool5\n",
    "        \n",
    "        \n",
    "        #### DECODING PHASE\n",
    "        upsample5 = self.decoding1(pool5)\n",
    "        concat5 = torch.cat([upsample5,pool4], dim = 1)\n",
    "        dec_conv5a = self.conv_decoding1(concat5)\n",
    "        dec_conv5a = nn.LeakyReLU(0.1)(dec_conv5a)\n",
    "        \n",
    "        upsample4 = self.decoding2(dec_conv5a)\n",
    "        concat4 = torch.cat([upsample4,pool3], dim = 1)\n",
    "        dec_conv4a = self.conv_decoding2(concat4)\n",
    "        dec_conv4a = nn.LeakyReLU(0.1)(dec_conv4a)\n",
    "        \n",
    "        upsample3 = self.decoding2(dec_conv4a)\n",
    "        concat3 = torch.cat([upsample3,pool2], dim = 1)\n",
    "        dec_conv3a = self.conv_decoding3(concat3)\n",
    "        dec_conv3a = nn.LeakyReLU(0.1)(dec_conv3a)\n",
    "        \n",
    "        upsample2 = self.decoding2(dec_conv3a)\n",
    "        concat2 = torch.cat([upsample2,pool1], dim = 1)\n",
    "        dec_conv2a = self.conv_decoding4(concat2)\n",
    "        dec_conv2a = nn.LeakyReLU(0.1)(dec_conv2a)\n",
    "        \n",
    "        \n",
    "        upsample1 = self.decoding2(dec_conv2a)\n",
    "        concat1 = torch.cat([upsample1,input_], dim = 1)\n",
    "        \n",
    "        \n",
    "        #### Last phase\n",
    "        r = self.conv1(concat1)\n",
    "        r = nn.LeakyReLU(0.1)(r)\n",
    "        \n",
    "        r = self.conv2(r)\n",
    "        r = nn.LeakyReLU(0.1)(r)\n",
    "        \n",
    "        r = self.conv3(r)\n",
    "        return r"
   ]
  },
  {
   "cell_type": "code",
   "execution_count": 6,
   "metadata": {
    "id": "ZTnviHIql0ZK"
   },
   "outputs": [],
   "source": [
    "noisy_imgs_1 = noisy_imgs_1[:40000]\n",
    "noisy_imgs_2 = noisy_imgs_2[:40000]"
   ]
  },
  {
   "cell_type": "code",
   "execution_count": 7,
   "metadata": {
    "id": "472a2446-e6ba-4bb8-8604-f03b7c69eea0"
   },
   "outputs": [
    {
     "data": {
      "text/plain": [
       "Noise2Noise(\n",
       "  (conv_init): Conv2d(3, 48, kernel_size=(3, 3), stride=(1, 1), padding=same)\n",
       "  (encoding1): EncodingBlock(\n",
       "    (conv): Conv2d(48, 48, kernel_size=(3, 3), stride=(1, 1), padding=same)\n",
       "    (pool): MaxPool2d(kernel_size=2, stride=2, padding=0, dilation=1, ceil_mode=False)\n",
       "    (activation): LeakyReLU(negative_slope=0.1)\n",
       "  )\n",
       "  (encoding2): EncodingBlock(\n",
       "    (conv): Conv2d(48, 48, kernel_size=(3, 3), stride=(1, 1), padding=same)\n",
       "    (pool): MaxPool2d(kernel_size=2, stride=2, padding=0, dilation=1, ceil_mode=False)\n",
       "    (activation): LeakyReLU(negative_slope=0.1)\n",
       "  )\n",
       "  (encoding3): EncodingBlock(\n",
       "    (conv): Conv2d(48, 48, kernel_size=(3, 3), stride=(1, 1), padding=same)\n",
       "    (pool): MaxPool2d(kernel_size=2, stride=2, padding=0, dilation=1, ceil_mode=False)\n",
       "    (activation): LeakyReLU(negative_slope=0.1)\n",
       "  )\n",
       "  (encoding4): EncodingBlock(\n",
       "    (conv): Conv2d(48, 48, kernel_size=(3, 3), stride=(1, 1), padding=same)\n",
       "    (pool): MaxPool2d(kernel_size=2, stride=2, padding=0, dilation=1, ceil_mode=False)\n",
       "    (activation): LeakyReLU(negative_slope=0.1)\n",
       "  )\n",
       "  (encoding5): EncodingBlock(\n",
       "    (conv): Conv2d(48, 48, kernel_size=(3, 3), stride=(1, 1), padding=same)\n",
       "    (pool): MaxPool2d(kernel_size=2, stride=2, padding=0, dilation=1, ceil_mode=False)\n",
       "    (activation): LeakyReLU(negative_slope=0.1)\n",
       "  )\n",
       "  (decoding1): DecodingBlock(\n",
       "    (conv): Conv2d(48, 48, kernel_size=(3, 3), stride=(1, 1), padding=same)\n",
       "    (up): Upsample(scale_factor=2.0, mode=nearest)\n",
       "    (activation): LeakyReLU(negative_slope=0.1)\n",
       "  )\n",
       "  (conv_decoding1): Conv2d(96, 96, kernel_size=(3, 3), stride=(1, 1), padding=same)\n",
       "  (decoding2): DecodingBlock(\n",
       "    (conv): Conv2d(96, 96, kernel_size=(3, 3), stride=(1, 1), padding=same)\n",
       "    (up): Upsample(scale_factor=2.0, mode=nearest)\n",
       "    (activation): LeakyReLU(negative_slope=0.1)\n",
       "  )\n",
       "  (conv_decoding2): Conv2d(144, 96, kernel_size=(3, 3), stride=(1, 1), padding=same)\n",
       "  (decoding3): DecodingBlock(\n",
       "    (conv): Conv2d(96, 96, kernel_size=(3, 3), stride=(1, 1), padding=same)\n",
       "    (up): Upsample(scale_factor=2.0, mode=nearest)\n",
       "    (activation): LeakyReLU(negative_slope=0.1)\n",
       "  )\n",
       "  (conv_decoding3): Conv2d(144, 96, kernel_size=(3, 3), stride=(1, 1), padding=same)\n",
       "  (decoding4): DecodingBlock(\n",
       "    (conv): Conv2d(96, 96, kernel_size=(3, 3), stride=(1, 1), padding=same)\n",
       "    (up): Upsample(scale_factor=2.0, mode=nearest)\n",
       "    (activation): LeakyReLU(negative_slope=0.1)\n",
       "  )\n",
       "  (conv_decoding4): Conv2d(144, 96, kernel_size=(3, 3), stride=(1, 1), padding=same)\n",
       "  (decoding5): DecodingBlock(\n",
       "    (conv): Conv2d(96, 96, kernel_size=(3, 3), stride=(1, 1), padding=same)\n",
       "    (up): Upsample(scale_factor=2.0, mode=nearest)\n",
       "    (activation): LeakyReLU(negative_slope=0.1)\n",
       "  )\n",
       "  (conv1): Conv2d(99, 64, kernel_size=(3, 3), stride=(1, 1), padding=same)\n",
       "  (conv2): Conv2d(64, 32, kernel_size=(3, 3), stride=(1, 1), padding=same)\n",
       "  (conv3): Conv2d(32, 3, kernel_size=(3, 3), stride=(1, 1), padding=same)\n",
       ")"
      ]
     },
     "execution_count": 7,
     "metadata": {},
     "output_type": "execute_result"
    }
   ],
   "source": [
    "model = Noise2Noise()\n",
    "\n",
    "model.to(device)"
   ]
  },
  {
   "cell_type": "code",
   "execution_count": 8,
   "metadata": {
    "id": "48711175-9067-4be5-b3e7-eb4e25b43445"
   },
   "outputs": [],
   "source": [
    "from torch import optim\n",
    "import time"
   ]
  },
  {
   "cell_type": "code",
   "execution_count": 9,
   "metadata": {
    "colab": {
     "background_save": true,
     "base_uri": "https://localhost:8080/"
    },
    "id": "a67fcc42-3d90-41c4-8f5c-636050f407db",
    "outputId": "4681ead6-bc87-4e1f-a79b-18379eb9d078",
    "scrolled": false
   },
   "outputs": [
    {
     "name": "stdout",
     "output_type": "stream",
     "text": [
      "0\n",
      "epoch time : 18.50593638420105\n",
      "1\n",
      "epoch time : 15.216459512710571\n",
      "2\n",
      "epoch time : 15.447007417678833\n",
      "3\n",
      "epoch time : 15.004262685775757\n",
      "4\n",
      "epoch time : 15.083642482757568\n",
      "5\n",
      "epoch time : 14.933263540267944\n",
      "6\n",
      "epoch time : 14.897072315216064\n",
      "7\n",
      "epoch time : 14.868399620056152\n",
      "8\n",
      "epoch time : 14.86610722541809\n",
      "9\n",
      "epoch time : 14.740073442459106\n",
      "10\n",
      "epoch time : 15.151643991470337\n",
      "11\n",
      "epoch time : 14.89572787284851\n",
      "12\n",
      "epoch time : 15.148243427276611\n",
      "13\n",
      "epoch time : 14.888705015182495\n",
      "14\n",
      "epoch time : 15.129295349121094\n",
      "15\n",
      "epoch time : 14.75307035446167\n",
      "16\n",
      "epoch time : 15.113922595977783\n",
      "17\n",
      "epoch time : 15.158744096755981\n",
      "18\n",
      "epoch time : 15.39096736907959\n",
      "19\n",
      "epoch time : 14.732218027114868\n",
      "20\n",
      "epoch time : 15.01472282409668\n",
      "21\n",
      "epoch time : 14.985953330993652\n",
      "22\n",
      "epoch time : 15.008532762527466\n",
      "23\n",
      "epoch time : 14.927825689315796\n",
      "24\n",
      "epoch time : 14.953169107437134\n",
      "25\n",
      "epoch time : 14.845593452453613\n",
      "26\n",
      "epoch time : 15.009360790252686\n",
      "27\n",
      "epoch time : 14.764366865158081\n",
      "28\n",
      "epoch time : 15.044063568115234\n",
      "29\n",
      "epoch time : 14.732073307037354\n",
      "30\n",
      "epoch time : 14.970094680786133\n",
      "31\n",
      "epoch time : 14.760045766830444\n",
      "32\n",
      "epoch time : 14.93513011932373\n",
      "33\n",
      "epoch time : 14.7592294216156\n",
      "34\n",
      "epoch time : 14.873275995254517\n",
      "35\n",
      "epoch time : 14.835451364517212\n",
      "36\n",
      "epoch time : 15.11641240119934\n",
      "37\n",
      "epoch time : 14.914082288742065\n",
      "38\n",
      "epoch time : 15.031227588653564\n",
      "39\n",
      "epoch time : 14.97799825668335\n",
      "40\n",
      "epoch time : 15.068075895309448\n",
      "41\n",
      "epoch time : 14.977901458740234\n",
      "42\n",
      "epoch time : 15.232856273651123\n",
      "43\n",
      "epoch time : 14.968175172805786\n",
      "44\n",
      "epoch time : 15.121438264846802\n",
      "45\n",
      "epoch time : 14.88773488998413\n",
      "46\n",
      "epoch time : 14.973501920700073\n",
      "47\n",
      "epoch time : 14.86267876625061\n",
      "48\n",
      "epoch time : 14.956661939620972\n",
      "49\n",
      "epoch time : 14.965848684310913\n"
     ]
    }
   ],
   "source": [
    "loss = nn.L1Loss()\n",
    "epochs = 50\n",
    "optimizer = optim.Adam(model.parameters(), lr=0.001, betas=(0.9, 0.99), eps=1e-08, weight_decay=0)  \n",
    "N = noisy_imgs_1.size(0)\n",
    "batch_size = 32\n",
    "\n",
    "for e in range(epochs):\n",
    "    t = time.time()\n",
    "    for index in range(0, N, batch_size):\n",
    "        optimizer.zero_grad()\n",
    "        train_data_minibatch = noisy_imgs_1[index:(index+batch_size)]\n",
    "        train_target_minibatch = noisy_imgs_2[index:(index+batch_size)]\n",
    "        loss(model(train_data_minibatch), train_target_minibatch).backward()\n",
    "        optimizer.step()\n",
    "    print(e)\n",
    "    print(\"epoch time : \" + str(time.time() - t))"
   ]
  },
  {
   "cell_type": "code",
   "execution_count": 10,
   "metadata": {
    "id": "dvhr8wJBpB3H"
   },
   "outputs": [],
   "source": [
    "output = ((model(val_noisy_imgs[:10]/255 - 0.5)))\n",
    "output = torch.clamp((output + 0.5)*255, min = 0, max = 255).int()"
   ]
  },
  {
   "cell_type": "code",
   "execution_count": 11,
   "metadata": {
    "colab": {
     "base_uri": "https://localhost:8080/",
     "height": 283
    },
    "id": "YppgByNcR0Ax",
    "outputId": "14f209a0-12d6-4423-c366-fc5620877e24"
   },
   "outputs": [
    {
     "data": {
      "text/plain": [
       "<matplotlib.image.AxesImage at 0x1ff16342280>"
      ]
     },
     "execution_count": 11,
     "metadata": {},
     "output_type": "execute_result"
    },
    {
     "data": {
      "image/png": "[encoded data removed]",
      "text/plain": [
       "<Figure size 432x288 with 1 Axes>"
      ]
     },
     "metadata": {
      "needs_background": "light"
     },
     "output_type": "display_data"
    }
   ],
   "source": [
    "plt.imshow(  val_noisy_imgs[0].cpu().detach().permute(1, 2, 0))"
   ]
  },
  {
   "cell_type": "code",
   "execution_count": 12,
   "metadata": {
    "colab": {
     "base_uri": "https://localhost:8080/",
     "height": 283
    },
    "id": "VLo8NuvO7HbE",
    "outputId": "cccdd67b-d0af-48b0-859d-aa3c5c68395b"
   },
   "outputs": [
    {
     "data": {
      "text/plain": [
       "<matplotlib.image.AxesImage at 0x1ff0d0ed400>"
      ]
     },
     "execution_count": 12,
     "metadata": {},
     "output_type": "execute_result"
    },
    {
     "data": {
      "image/png": "[encoded data removed]",
      "text/plain": [
       "<Figure size 432x288 with 1 Axes>"
      ]
     },
     "metadata": {
      "needs_background": "light"
     },
     "output_type": "display_data"
    }
   ],
   "source": [
    "plt.imshow(  output[0].cpu().detach().permute(1, 2, 0))"
   ]
  },
  {
   "cell_type": "code",
   "execution_count": 13,
   "metadata": {
    "colab": {
     "base_uri": "https://localhost:8080/",
     "height": 283
    },
    "id": "zeOn4--j7NXV",
    "outputId": "7744dd57-02df-4c80-b360-765f2a29623b"
   },
   "outputs": [
    {
     "data": {
      "text/plain": [
       "<matplotlib.image.AxesImage at 0x1ff16417700>"
      ]
     },
     "execution_count": 13,
     "metadata": {},
     "output_type": "execute_result"
    },
    {
     "data": {
      "image/png": "[encoded data removed]",
      "text/plain": [
       "<Figure size 432x288 with 1 Axes>"
      ]
     },
     "metadata": {
      "needs_background": "light"
     },
     "output_type": "display_data"
    }
   ],
   "source": [
    "plt.imshow( clean_imgs[0].cpu().detach().permute(1, 2, 0) )"
   ]
  },
  {
   "cell_type": "code",
   "execution_count": null,
   "metadata": {
    "id": "3qerekrf7f4D"
   },
   "outputs": [],
   "source": []
  }
 ],
 "metadata": {
  "accelerator": "GPU",
  "colab": {
   "collapsed_sections": [],
   "name": "Experiments.ipynb",
   "provenance": []
  },
  "kernelspec": {
   "display_name": "Python 3",
   "language": "python",
   "name": "python3"
  },
  "language_info": {
   "codemirror_mode": {
    "name": "ipython",
    "version": 3
   },
   "file_extension": ".py",
   "mimetype": "text/x-python",
   "name": "python",
   "nbconvert_exporter": "python",
   "pygments_lexer": "ipython3",
   "version": "3.8.3"
  }
 },
 "nbformat": 4,
 "nbformat_minor": 5
}
